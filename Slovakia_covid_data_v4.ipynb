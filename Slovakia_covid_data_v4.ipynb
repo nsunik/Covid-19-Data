{
 "cells": [
  {
   "cell_type": "markdown",
   "metadata": {},
   "source": [
    "# Slovakia EDA"
   ]
  },
  {
   "cell_type": "markdown",
   "metadata": {},
   "source": [
    "# Predicting the number of active cases in Slovakia."
   ]
  },
  {
   "cell_type": "code",
   "execution_count": 111,
   "metadata": {},
   "outputs": [],
   "source": [
    "import numpy as np\n",
    "import pandas as pd\n",
    "import matplotlib.pyplot as plt\n",
    "import time\n",
    "%matplotlib inline\n",
    "import seaborn as sns\n",
    "import scipy as sp\n",
    "from scipy.stats import norm\n",
    "from scipy.stats import skew\n",
    "from sklearn.preprocessing import StandardScaler\n",
    "from sklearn.model_selection import train_test_split\n",
    "from sklearn.linear_model import LinearRegression\n",
    "from sklearn.preprocessing import MinMaxScaler\n",
    "from sklearn.model_selection import cross_val_score\n",
    "from sklearn.model_selection import KFold\n",
    "# Reading CSV File\n",
    "df=pd.read_csv(r'C:\\Users\\DELL\\Downloads\\linear-comprehensive-covid-data.csv')"
   ]
  },
  {
   "cell_type": "markdown",
   "metadata": {},
   "source": [
    "#pandas- allows easy manipulation of data structures\n",
    "#NumPy- allows scientific computing\n",
    "#sklearn- A machine learning library for python\n",
    "#Matplotlib -is a library for creating static, animated, and interactive visualizations in Python.\n",
    "#Seaborn -is a data visualization library in Python based on matplotlib.\n",
    "#NumPy- allows scientific computing"
   ]
  },
  {
   "cell_type": "code",
   "execution_count": 112,
   "metadata": {},
   "outputs": [],
   "source": [
    "#Basic Data Analysis"
   ]
  },
  {
   "cell_type": "code",
   "execution_count": 113,
   "metadata": {},
   "outputs": [
    {
     "data": {
      "text/html": [
       "<div>\n",
       "<style scoped>\n",
       "    .dataframe tbody tr th:only-of-type {\n",
       "        vertical-align: middle;\n",
       "    }\n",
       "\n",
       "    .dataframe tbody tr th {\n",
       "        vertical-align: top;\n",
       "    }\n",
       "\n",
       "    .dataframe thead th {\n",
       "        text-align: right;\n",
       "    }\n",
       "</style>\n",
       "<table border=\"1\" class=\"dataframe\">\n",
       "  <thead>\n",
       "    <tr style=\"text-align: right;\">\n",
       "      <th></th>\n",
       "      <th>iso_code</th>\n",
       "      <th>continent</th>\n",
       "      <th>location</th>\n",
       "      <th>date</th>\n",
       "      <th>total_cases</th>\n",
       "      <th>new_cases</th>\n",
       "      <th>new_cases_smoothed</th>\n",
       "      <th>total_deaths</th>\n",
       "      <th>new_deaths</th>\n",
       "      <th>new_deaths_smoothed</th>\n",
       "      <th>...</th>\n",
       "      <th>gdp_per_capita</th>\n",
       "      <th>extreme_poverty</th>\n",
       "      <th>cardiovasc_death_rate</th>\n",
       "      <th>diabetes_prevalence</th>\n",
       "      <th>female_smokers</th>\n",
       "      <th>male_smokers</th>\n",
       "      <th>handwashing_facilities</th>\n",
       "      <th>hospital_beds_per_thousand</th>\n",
       "      <th>life_expectancy</th>\n",
       "      <th>human_development_index</th>\n",
       "    </tr>\n",
       "  </thead>\n",
       "  <tbody>\n",
       "    <tr>\n",
       "      <th>0</th>\n",
       "      <td>AFG</td>\n",
       "      <td>Asia</td>\n",
       "      <td>Afghanistan</td>\n",
       "      <td>2020-02-24</td>\n",
       "      <td>1.0</td>\n",
       "      <td>1.0</td>\n",
       "      <td>NaN</td>\n",
       "      <td>NaN</td>\n",
       "      <td>NaN</td>\n",
       "      <td>NaN</td>\n",
       "      <td>...</td>\n",
       "      <td>1803.987</td>\n",
       "      <td>NaN</td>\n",
       "      <td>597.029</td>\n",
       "      <td>9.59</td>\n",
       "      <td>NaN</td>\n",
       "      <td>NaN</td>\n",
       "      <td>37.746</td>\n",
       "      <td>0.5</td>\n",
       "      <td>64.83</td>\n",
       "      <td>0.511</td>\n",
       "    </tr>\n",
       "    <tr>\n",
       "      <th>1</th>\n",
       "      <td>AFG</td>\n",
       "      <td>Asia</td>\n",
       "      <td>Afghanistan</td>\n",
       "      <td>2020-02-25</td>\n",
       "      <td>1.0</td>\n",
       "      <td>0.0</td>\n",
       "      <td>NaN</td>\n",
       "      <td>NaN</td>\n",
       "      <td>NaN</td>\n",
       "      <td>NaN</td>\n",
       "      <td>...</td>\n",
       "      <td>1803.987</td>\n",
       "      <td>NaN</td>\n",
       "      <td>597.029</td>\n",
       "      <td>9.59</td>\n",
       "      <td>NaN</td>\n",
       "      <td>NaN</td>\n",
       "      <td>37.746</td>\n",
       "      <td>0.5</td>\n",
       "      <td>64.83</td>\n",
       "      <td>0.511</td>\n",
       "    </tr>\n",
       "    <tr>\n",
       "      <th>2</th>\n",
       "      <td>AFG</td>\n",
       "      <td>Asia</td>\n",
       "      <td>Afghanistan</td>\n",
       "      <td>2020-02-26</td>\n",
       "      <td>1.0</td>\n",
       "      <td>0.0</td>\n",
       "      <td>NaN</td>\n",
       "      <td>NaN</td>\n",
       "      <td>NaN</td>\n",
       "      <td>NaN</td>\n",
       "      <td>...</td>\n",
       "      <td>1803.987</td>\n",
       "      <td>NaN</td>\n",
       "      <td>597.029</td>\n",
       "      <td>9.59</td>\n",
       "      <td>NaN</td>\n",
       "      <td>NaN</td>\n",
       "      <td>37.746</td>\n",
       "      <td>0.5</td>\n",
       "      <td>64.83</td>\n",
       "      <td>0.511</td>\n",
       "    </tr>\n",
       "    <tr>\n",
       "      <th>3</th>\n",
       "      <td>AFG</td>\n",
       "      <td>Asia</td>\n",
       "      <td>Afghanistan</td>\n",
       "      <td>2020-02-27</td>\n",
       "      <td>1.0</td>\n",
       "      <td>0.0</td>\n",
       "      <td>NaN</td>\n",
       "      <td>NaN</td>\n",
       "      <td>NaN</td>\n",
       "      <td>NaN</td>\n",
       "      <td>...</td>\n",
       "      <td>1803.987</td>\n",
       "      <td>NaN</td>\n",
       "      <td>597.029</td>\n",
       "      <td>9.59</td>\n",
       "      <td>NaN</td>\n",
       "      <td>NaN</td>\n",
       "      <td>37.746</td>\n",
       "      <td>0.5</td>\n",
       "      <td>64.83</td>\n",
       "      <td>0.511</td>\n",
       "    </tr>\n",
       "    <tr>\n",
       "      <th>4</th>\n",
       "      <td>AFG</td>\n",
       "      <td>Asia</td>\n",
       "      <td>Afghanistan</td>\n",
       "      <td>2020-02-28</td>\n",
       "      <td>1.0</td>\n",
       "      <td>0.0</td>\n",
       "      <td>NaN</td>\n",
       "      <td>NaN</td>\n",
       "      <td>NaN</td>\n",
       "      <td>NaN</td>\n",
       "      <td>...</td>\n",
       "      <td>1803.987</td>\n",
       "      <td>NaN</td>\n",
       "      <td>597.029</td>\n",
       "      <td>9.59</td>\n",
       "      <td>NaN</td>\n",
       "      <td>NaN</td>\n",
       "      <td>37.746</td>\n",
       "      <td>0.5</td>\n",
       "      <td>64.83</td>\n",
       "      <td>0.511</td>\n",
       "    </tr>\n",
       "  </tbody>\n",
       "</table>\n",
       "<p>5 rows × 59 columns</p>\n",
       "</div>"
      ],
      "text/plain": [
       "  iso_code continent     location        date  total_cases  new_cases  \\\n",
       "0      AFG      Asia  Afghanistan  2020-02-24          1.0        1.0   \n",
       "1      AFG      Asia  Afghanistan  2020-02-25          1.0        0.0   \n",
       "2      AFG      Asia  Afghanistan  2020-02-26          1.0        0.0   \n",
       "3      AFG      Asia  Afghanistan  2020-02-27          1.0        0.0   \n",
       "4      AFG      Asia  Afghanistan  2020-02-28          1.0        0.0   \n",
       "\n",
       "   new_cases_smoothed  total_deaths  new_deaths  new_deaths_smoothed  ...  \\\n",
       "0                 NaN           NaN         NaN                  NaN  ...   \n",
       "1                 NaN           NaN         NaN                  NaN  ...   \n",
       "2                 NaN           NaN         NaN                  NaN  ...   \n",
       "3                 NaN           NaN         NaN                  NaN  ...   \n",
       "4                 NaN           NaN         NaN                  NaN  ...   \n",
       "\n",
       "   gdp_per_capita  extreme_poverty  cardiovasc_death_rate  \\\n",
       "0        1803.987              NaN                597.029   \n",
       "1        1803.987              NaN                597.029   \n",
       "2        1803.987              NaN                597.029   \n",
       "3        1803.987              NaN                597.029   \n",
       "4        1803.987              NaN                597.029   \n",
       "\n",
       "   diabetes_prevalence  female_smokers  male_smokers  handwashing_facilities  \\\n",
       "0                 9.59             NaN           NaN                  37.746   \n",
       "1                 9.59             NaN           NaN                  37.746   \n",
       "2                 9.59             NaN           NaN                  37.746   \n",
       "3                 9.59             NaN           NaN                  37.746   \n",
       "4                 9.59             NaN           NaN                  37.746   \n",
       "\n",
       "   hospital_beds_per_thousand  life_expectancy  human_development_index  \n",
       "0                         0.5            64.83                    0.511  \n",
       "1                         0.5            64.83                    0.511  \n",
       "2                         0.5            64.83                    0.511  \n",
       "3                         0.5            64.83                    0.511  \n",
       "4                         0.5            64.83                    0.511  \n",
       "\n",
       "[5 rows x 59 columns]"
      ]
     },
     "execution_count": 113,
     "metadata": {},
     "output_type": "execute_result"
    }
   ],
   "source": [
    "df.head()\n",
    "#basic data analysis,quick view of data set\n",
    "#showes first five rows of the data set"
   ]
  },
  {
   "cell_type": "code",
   "execution_count": 114,
   "metadata": {},
   "outputs": [
    {
     "data": {
      "text/plain": [
       "(74866, 59)"
      ]
     },
     "execution_count": 114,
     "metadata": {},
     "output_type": "execute_result"
    }
   ],
   "source": [
    "df.shape"
   ]
  },
  {
   "cell_type": "code",
   "execution_count": 115,
   "metadata": {},
   "outputs": [
    {
     "name": "stdout",
     "output_type": "stream",
     "text": [
      "<class 'pandas.core.frame.DataFrame'>\n",
      "RangeIndex: 74866 entries, 0 to 74865\n",
      "Data columns (total 59 columns):\n",
      " #   Column                                 Non-Null Count  Dtype  \n",
      "---  ------                                 --------------  -----  \n",
      " 0   iso_code                               74866 non-null  object \n",
      " 1   continent                              71169 non-null  object \n",
      " 2   location                               74866 non-null  object \n",
      " 3   date                                   74866 non-null  object \n",
      " 4   total_cases                            73719 non-null  float64\n",
      " 5   new_cases                              73717 non-null  float64\n",
      " 6   new_cases_smoothed                     72716 non-null  float64\n",
      " 7   total_deaths                           64490 non-null  float64\n",
      " 8   new_deaths                             64648 non-null  float64\n",
      " 9   new_deaths_smoothed                    72716 non-null  float64\n",
      " 10  total_cases_per_million                73317 non-null  float64\n",
      " 11  new_cases_per_million                  73315 non-null  float64\n",
      " 12  new_cases_smoothed_per_million         72319 non-null  float64\n",
      " 13  total_deaths_per_million               64101 non-null  float64\n",
      " 14  new_deaths_per_million                 64259 non-null  float64\n",
      " 15  new_deaths_smoothed_per_million        72319 non-null  float64\n",
      " 16  reproduction_rate                      60388 non-null  float64\n",
      " 17  icu_patients                           7759 non-null   float64\n",
      " 18  icu_patients_per_million               7759 non-null   float64\n",
      " 19  hosp_patients                          9337 non-null   float64\n",
      " 20  hosp_patients_per_million              9337 non-null   float64\n",
      " 21  weekly_icu_admissions                  683 non-null    float64\n",
      " 22  weekly_icu_admissions_per_million      683 non-null    float64\n",
      " 23  weekly_hosp_admissions                 1261 non-null   float64\n",
      " 24  weekly_hosp_admissions_per_million     1261 non-null   float64\n",
      " 25  new_tests                              34159 non-null  float64\n",
      " 26  total_tests                            33928 non-null  float64\n",
      " 27  total_tests_per_thousand               33928 non-null  float64\n",
      " 28  new_tests_per_thousand                 34159 non-null  float64\n",
      " 29  new_tests_smoothed                     38987 non-null  float64\n",
      " 30  new_tests_smoothed_per_thousand        38987 non-null  float64\n",
      " 31  positive_rate                          37720 non-null  float64\n",
      " 32  tests_per_case                         37141 non-null  float64\n",
      " 33  tests_units                            40326 non-null  object \n",
      " 34  total_vaccinations                     3963 non-null   float64\n",
      " 35  people_vaccinated                      3516 non-null   float64\n",
      " 36  people_fully_vaccinated                2333 non-null   float64\n",
      " 37  new_vaccinations                       3350 non-null   float64\n",
      " 38  new_vaccinations_smoothed              5939 non-null   float64\n",
      " 39  total_vaccinations_per_hundred         3963 non-null   float64\n",
      " 40  people_vaccinated_per_hundred          3516 non-null   float64\n",
      " 41  people_fully_vaccinated_per_hundred    2333 non-null   float64\n",
      " 42  new_vaccinations_smoothed_per_million  5939 non-null   float64\n",
      " 43  stringency_index                       64056 non-null  float64\n",
      " 44  population                             74455 non-null  float64\n",
      " 45  population_density                     69940 non-null  float64\n",
      " 46  median_age                             67972 non-null  float64\n",
      " 47  aged_65_older                          67190 non-null  float64\n",
      " 48  aged_70_older                          67589 non-null  float64\n",
      " 49  gdp_per_capita                         68194 non-null  float64\n",
      " 50  extreme_poverty                        46529 non-null  float64\n",
      " 51  cardiovasc_death_rate                  68812 non-null  float64\n",
      " 52  diabetes_prevalence                    69694 non-null  float64\n",
      " 53  female_smokers                         54078 non-null  float64\n",
      " 54  male_smokers                           53335 non-null  float64\n",
      " 55  handwashing_facilities                 34542 non-null  float64\n",
      " 56  hospital_beds_per_thousand             62969 non-null  float64\n",
      " 57  life_expectancy                        71130 non-null  float64\n",
      " 58  human_development_index                68755 non-null  float64\n",
      "dtypes: float64(54), object(5)\n",
      "memory usage: 33.7+ MB\n"
     ]
    }
   ],
   "source": [
    "df.info()\n",
    "#Summary of data frame, including the index datatype and column dtypes, non-null values and memory usage\n",
    "#This method prints information about a DataFrame including the index dtype and column dtypes,"
   ]
  },
  {
   "cell_type": "markdown",
   "metadata": {},
   "source": [
    "# Slovakia - EDA"
   ]
  },
  {
   "cell_type": "markdown",
   "metadata": {},
   "source": [
    "Exploratory data analysis for the country Slovakia. From covid 19 world dataset (df)Select data where location=Slovakia"
   ]
  },
  {
   "cell_type": "code",
   "execution_count": 116,
   "metadata": {},
   "outputs": [],
   "source": [
    "df_slovakia=df[(df['location']=='Slovakia')]"
   ]
  },
  {
   "cell_type": "code",
   "execution_count": 117,
   "metadata": {},
   "outputs": [
    {
     "name": "stdout",
     "output_type": "stream",
     "text": [
      "The shape of the data frame is (374, 59)\n",
      "The columns of the data frame are Index(['iso_code', 'continent', 'location', 'date', 'total_cases', 'new_cases',\n",
      "       'new_cases_smoothed', 'total_deaths', 'new_deaths',\n",
      "       'new_deaths_smoothed', 'total_cases_per_million',\n",
      "       'new_cases_per_million', 'new_cases_smoothed_per_million',\n",
      "       'total_deaths_per_million', 'new_deaths_per_million',\n",
      "       'new_deaths_smoothed_per_million', 'reproduction_rate', 'icu_patients',\n",
      "       'icu_patients_per_million', 'hosp_patients',\n",
      "       'hosp_patients_per_million', 'weekly_icu_admissions',\n",
      "       'weekly_icu_admissions_per_million', 'weekly_hosp_admissions',\n",
      "       'weekly_hosp_admissions_per_million', 'new_tests', 'total_tests',\n",
      "       'total_tests_per_thousand', 'new_tests_per_thousand',\n",
      "       'new_tests_smoothed', 'new_tests_smoothed_per_thousand',\n",
      "       'positive_rate', 'tests_per_case', 'tests_units', 'total_vaccinations',\n",
      "       'people_vaccinated', 'people_fully_vaccinated', 'new_vaccinations',\n",
      "       'new_vaccinations_smoothed', 'total_vaccinations_per_hundred',\n",
      "       'people_vaccinated_per_hundred', 'people_fully_vaccinated_per_hundred',\n",
      "       'new_vaccinations_smoothed_per_million', 'stringency_index',\n",
      "       'population', 'population_density', 'median_age', 'aged_65_older',\n",
      "       'aged_70_older', 'gdp_per_capita', 'extreme_poverty',\n",
      "       'cardiovasc_death_rate', 'diabetes_prevalence', 'female_smokers',\n",
      "       'male_smokers', 'handwashing_facilities', 'hospital_beds_per_thousand',\n",
      "       'life_expectancy', 'human_development_index'],\n",
      "      dtype='object')\n"
     ]
    }
   ],
   "source": [
    "print(\"The shape of the data frame is\", (df_slovakia.shape))\n",
    "print(\"The columns of the data frame are\" , (df_slovakia.columns))"
   ]
  },
  {
   "cell_type": "code",
   "execution_count": 118,
   "metadata": {},
   "outputs": [
    {
     "data": {
      "text/html": [
       "<div>\n",
       "<style scoped>\n",
       "    .dataframe tbody tr th:only-of-type {\n",
       "        vertical-align: middle;\n",
       "    }\n",
       "\n",
       "    .dataframe tbody tr th {\n",
       "        vertical-align: top;\n",
       "    }\n",
       "\n",
       "    .dataframe thead th {\n",
       "        text-align: right;\n",
       "    }\n",
       "</style>\n",
       "<table border=\"1\" class=\"dataframe\">\n",
       "  <thead>\n",
       "    <tr style=\"text-align: right;\">\n",
       "      <th></th>\n",
       "      <th>iso_code</th>\n",
       "      <th>continent</th>\n",
       "      <th>location</th>\n",
       "      <th>date</th>\n",
       "      <th>total_cases</th>\n",
       "      <th>new_cases</th>\n",
       "      <th>new_cases_smoothed</th>\n",
       "      <th>total_deaths</th>\n",
       "      <th>new_deaths</th>\n",
       "      <th>new_deaths_smoothed</th>\n",
       "      <th>...</th>\n",
       "      <th>gdp_per_capita</th>\n",
       "      <th>extreme_poverty</th>\n",
       "      <th>cardiovasc_death_rate</th>\n",
       "      <th>diabetes_prevalence</th>\n",
       "      <th>female_smokers</th>\n",
       "      <th>male_smokers</th>\n",
       "      <th>handwashing_facilities</th>\n",
       "      <th>hospital_beds_per_thousand</th>\n",
       "      <th>life_expectancy</th>\n",
       "      <th>human_development_index</th>\n",
       "    </tr>\n",
       "  </thead>\n",
       "  <tbody>\n",
       "    <tr>\n",
       "      <th>60393</th>\n",
       "      <td>SVK</td>\n",
       "      <td>Europe</td>\n",
       "      <td>Slovakia</td>\n",
       "      <td>2020-03-06</td>\n",
       "      <td>1.0</td>\n",
       "      <td>1.0</td>\n",
       "      <td>NaN</td>\n",
       "      <td>NaN</td>\n",
       "      <td>NaN</td>\n",
       "      <td>NaN</td>\n",
       "      <td>...</td>\n",
       "      <td>30155.152</td>\n",
       "      <td>0.7</td>\n",
       "      <td>287.959</td>\n",
       "      <td>7.29</td>\n",
       "      <td>23.1</td>\n",
       "      <td>37.7</td>\n",
       "      <td>NaN</td>\n",
       "      <td>5.82</td>\n",
       "      <td>77.54</td>\n",
       "      <td>0.86</td>\n",
       "    </tr>\n",
       "    <tr>\n",
       "      <th>60394</th>\n",
       "      <td>SVK</td>\n",
       "      <td>Europe</td>\n",
       "      <td>Slovakia</td>\n",
       "      <td>2020-03-07</td>\n",
       "      <td>1.0</td>\n",
       "      <td>0.0</td>\n",
       "      <td>NaN</td>\n",
       "      <td>NaN</td>\n",
       "      <td>NaN</td>\n",
       "      <td>NaN</td>\n",
       "      <td>...</td>\n",
       "      <td>30155.152</td>\n",
       "      <td>0.7</td>\n",
       "      <td>287.959</td>\n",
       "      <td>7.29</td>\n",
       "      <td>23.1</td>\n",
       "      <td>37.7</td>\n",
       "      <td>NaN</td>\n",
       "      <td>5.82</td>\n",
       "      <td>77.54</td>\n",
       "      <td>0.86</td>\n",
       "    </tr>\n",
       "    <tr>\n",
       "      <th>60395</th>\n",
       "      <td>SVK</td>\n",
       "      <td>Europe</td>\n",
       "      <td>Slovakia</td>\n",
       "      <td>2020-03-08</td>\n",
       "      <td>3.0</td>\n",
       "      <td>2.0</td>\n",
       "      <td>NaN</td>\n",
       "      <td>NaN</td>\n",
       "      <td>NaN</td>\n",
       "      <td>NaN</td>\n",
       "      <td>...</td>\n",
       "      <td>30155.152</td>\n",
       "      <td>0.7</td>\n",
       "      <td>287.959</td>\n",
       "      <td>7.29</td>\n",
       "      <td>23.1</td>\n",
       "      <td>37.7</td>\n",
       "      <td>NaN</td>\n",
       "      <td>5.82</td>\n",
       "      <td>77.54</td>\n",
       "      <td>0.86</td>\n",
       "    </tr>\n",
       "    <tr>\n",
       "      <th>60396</th>\n",
       "      <td>SVK</td>\n",
       "      <td>Europe</td>\n",
       "      <td>Slovakia</td>\n",
       "      <td>2020-03-09</td>\n",
       "      <td>3.0</td>\n",
       "      <td>0.0</td>\n",
       "      <td>NaN</td>\n",
       "      <td>NaN</td>\n",
       "      <td>NaN</td>\n",
       "      <td>NaN</td>\n",
       "      <td>...</td>\n",
       "      <td>30155.152</td>\n",
       "      <td>0.7</td>\n",
       "      <td>287.959</td>\n",
       "      <td>7.29</td>\n",
       "      <td>23.1</td>\n",
       "      <td>37.7</td>\n",
       "      <td>NaN</td>\n",
       "      <td>5.82</td>\n",
       "      <td>77.54</td>\n",
       "      <td>0.86</td>\n",
       "    </tr>\n",
       "    <tr>\n",
       "      <th>60397</th>\n",
       "      <td>SVK</td>\n",
       "      <td>Europe</td>\n",
       "      <td>Slovakia</td>\n",
       "      <td>2020-03-10</td>\n",
       "      <td>7.0</td>\n",
       "      <td>4.0</td>\n",
       "      <td>NaN</td>\n",
       "      <td>NaN</td>\n",
       "      <td>NaN</td>\n",
       "      <td>NaN</td>\n",
       "      <td>...</td>\n",
       "      <td>30155.152</td>\n",
       "      <td>0.7</td>\n",
       "      <td>287.959</td>\n",
       "      <td>7.29</td>\n",
       "      <td>23.1</td>\n",
       "      <td>37.7</td>\n",
       "      <td>NaN</td>\n",
       "      <td>5.82</td>\n",
       "      <td>77.54</td>\n",
       "      <td>0.86</td>\n",
       "    </tr>\n",
       "  </tbody>\n",
       "</table>\n",
       "<p>5 rows × 59 columns</p>\n",
       "</div>"
      ],
      "text/plain": [
       "      iso_code continent  location        date  total_cases  new_cases  \\\n",
       "60393      SVK    Europe  Slovakia  2020-03-06          1.0        1.0   \n",
       "60394      SVK    Europe  Slovakia  2020-03-07          1.0        0.0   \n",
       "60395      SVK    Europe  Slovakia  2020-03-08          3.0        2.0   \n",
       "60396      SVK    Europe  Slovakia  2020-03-09          3.0        0.0   \n",
       "60397      SVK    Europe  Slovakia  2020-03-10          7.0        4.0   \n",
       "\n",
       "       new_cases_smoothed  total_deaths  new_deaths  new_deaths_smoothed  ...  \\\n",
       "60393                 NaN           NaN         NaN                  NaN  ...   \n",
       "60394                 NaN           NaN         NaN                  NaN  ...   \n",
       "60395                 NaN           NaN         NaN                  NaN  ...   \n",
       "60396                 NaN           NaN         NaN                  NaN  ...   \n",
       "60397                 NaN           NaN         NaN                  NaN  ...   \n",
       "\n",
       "       gdp_per_capita  extreme_poverty  cardiovasc_death_rate  \\\n",
       "60393       30155.152              0.7                287.959   \n",
       "60394       30155.152              0.7                287.959   \n",
       "60395       30155.152              0.7                287.959   \n",
       "60396       30155.152              0.7                287.959   \n",
       "60397       30155.152              0.7                287.959   \n",
       "\n",
       "       diabetes_prevalence  female_smokers  male_smokers  \\\n",
       "60393                 7.29            23.1          37.7   \n",
       "60394                 7.29            23.1          37.7   \n",
       "60395                 7.29            23.1          37.7   \n",
       "60396                 7.29            23.1          37.7   \n",
       "60397                 7.29            23.1          37.7   \n",
       "\n",
       "       handwashing_facilities  hospital_beds_per_thousand  life_expectancy  \\\n",
       "60393                     NaN                        5.82            77.54   \n",
       "60394                     NaN                        5.82            77.54   \n",
       "60395                     NaN                        5.82            77.54   \n",
       "60396                     NaN                        5.82            77.54   \n",
       "60397                     NaN                        5.82            77.54   \n",
       "\n",
       "       human_development_index  \n",
       "60393                     0.86  \n",
       "60394                     0.86  \n",
       "60395                     0.86  \n",
       "60396                     0.86  \n",
       "60397                     0.86  \n",
       "\n",
       "[5 rows x 59 columns]"
      ]
     },
     "execution_count": 118,
     "metadata": {},
     "output_type": "execute_result"
    }
   ],
   "source": [
    "df_slovakia.head()"
   ]
  },
  {
   "cell_type": "code",
   "execution_count": 119,
   "metadata": {},
   "outputs": [
    {
     "name": "stdout",
     "output_type": "stream",
     "text": [
      "<class 'pandas.core.frame.DataFrame'>\n",
      "Int64Index: 374 entries, 60393 to 60766\n",
      "Data columns (total 59 columns):\n",
      " #   Column                                 Non-Null Count  Dtype  \n",
      "---  ------                                 --------------  -----  \n",
      " 0   aged_65_older                          374 non-null    float64\n",
      " 1   aged_70_older                          374 non-null    float64\n",
      " 2   cardiovasc_death_rate                  374 non-null    float64\n",
      " 3   continent                              374 non-null    object \n",
      " 4   date                                   374 non-null    object \n",
      " 5   diabetes_prevalence                    374 non-null    float64\n",
      " 6   extreme_poverty                        374 non-null    float64\n",
      " 7   female_smokers                         374 non-null    float64\n",
      " 8   gdp_per_capita                         374 non-null    float64\n",
      " 9   handwashing_facilities                 0 non-null      float64\n",
      " 10  hosp_patients                          312 non-null    float64\n",
      " 11  hosp_patients_per_million              312 non-null    float64\n",
      " 12  hospital_beds_per_thousand             374 non-null    float64\n",
      " 13  human_development_index                374 non-null    float64\n",
      " 14  icu_patients                           0 non-null      float64\n",
      " 15  icu_patients_per_million               0 non-null      float64\n",
      " 16  iso_code                               374 non-null    object \n",
      " 17  life_expectancy                        374 non-null    float64\n",
      " 18  location                               374 non-null    object \n",
      " 19  male_smokers                           374 non-null    float64\n",
      " 20  median_age                             374 non-null    float64\n",
      " 21  new_cases                              374 non-null    float64\n",
      " 22  new_cases_per_million                  374 non-null    float64\n",
      " 23  new_cases_smoothed                     369 non-null    float64\n",
      " 24  new_cases_smoothed_per_million         369 non-null    float64\n",
      " 25  new_deaths                             348 non-null    float64\n",
      " 26  new_deaths_per_million                 348 non-null    float64\n",
      " 27  new_deaths_smoothed                    369 non-null    float64\n",
      " 28  new_deaths_smoothed_per_million        369 non-null    float64\n",
      " 29  new_tests                              373 non-null    float64\n",
      " 30  new_tests_per_thousand                 373 non-null    float64\n",
      " 31  new_tests_smoothed                     366 non-null    float64\n",
      " 32  new_tests_smoothed_per_thousand        366 non-null    float64\n",
      " 33  new_vaccinations                       68 non-null     float64\n",
      " 34  new_vaccinations_smoothed              68 non-null     float64\n",
      " 35  new_vaccinations_smoothed_per_million  68 non-null     float64\n",
      " 36  people_fully_vaccinated                55 non-null     float64\n",
      " 37  people_fully_vaccinated_per_hundred    55 non-null     float64\n",
      " 38  people_vaccinated                      69 non-null     float64\n",
      " 39  people_vaccinated_per_hundred          69 non-null     float64\n",
      " 40  population                             374 non-null    float64\n",
      " 41  population_density                     374 non-null    float64\n",
      " 42  positive_rate                          367 non-null    float64\n",
      " 43  reproduction_rate                      360 non-null    float64\n",
      " 44  stringency_index                       367 non-null    float64\n",
      " 45  tests_per_case                         361 non-null    float64\n",
      " 46  tests_units                            373 non-null    object \n",
      " 47  total_cases                            374 non-null    float64\n",
      " 48  total_cases_per_million                374 non-null    float64\n",
      " 49  total_deaths                           348 non-null    float64\n",
      " 50  total_deaths_per_million               348 non-null    float64\n",
      " 51  total_tests                            373 non-null    float64\n",
      " 52  total_tests_per_thousand               373 non-null    float64\n",
      " 53  total_vaccinations                     69 non-null     float64\n",
      " 54  total_vaccinations_per_hundred         69 non-null     float64\n",
      " 55  weekly_hosp_admissions                 0 non-null      float64\n",
      " 56  weekly_hosp_admissions_per_million     0 non-null      float64\n",
      " 57  weekly_icu_admissions                  0 non-null      float64\n",
      " 58  weekly_icu_admissions_per_million      0 non-null      float64\n",
      "dtypes: float64(54), object(5)\n",
      "memory usage: 175.3+ KB\n"
     ]
    }
   ],
   "source": [
    "#sort Slovakia data set (sort() method sorts the list ascending by default)\n",
    "df_slovakia=df_slovakia.reindex(sorted(df_slovakia.columns), axis=1)\n",
    "df_slovakia.info()"
   ]
  },
  {
   "cell_type": "markdown",
   "metadata": {},
   "source": [
    "# Number of missing values per column."
   ]
  },
  {
   "cell_type": "code",
   "execution_count": 120,
   "metadata": {},
   "outputs": [
    {
     "data": {
      "text/plain": [
       "aged_65_older                              0\n",
       "aged_70_older                              0\n",
       "cardiovasc_death_rate                      0\n",
       "continent                                  0\n",
       "date                                       0\n",
       "diabetes_prevalence                        0\n",
       "extreme_poverty                            0\n",
       "female_smokers                             0\n",
       "gdp_per_capita                             0\n",
       "handwashing_facilities                   374\n",
       "hosp_patients                             62\n",
       "hosp_patients_per_million                 62\n",
       "hospital_beds_per_thousand                 0\n",
       "human_development_index                    0\n",
       "icu_patients                             374\n",
       "icu_patients_per_million                 374\n",
       "iso_code                                   0\n",
       "life_expectancy                            0\n",
       "location                                   0\n",
       "male_smokers                               0\n",
       "median_age                                 0\n",
       "new_cases                                  0\n",
       "new_cases_per_million                      0\n",
       "new_cases_smoothed                         5\n",
       "new_cases_smoothed_per_million             5\n",
       "new_deaths                                26\n",
       "new_deaths_per_million                    26\n",
       "new_deaths_smoothed                        5\n",
       "new_deaths_smoothed_per_million            5\n",
       "new_tests                                  1\n",
       "new_tests_per_thousand                     1\n",
       "new_tests_smoothed                         8\n",
       "new_tests_smoothed_per_thousand            8\n",
       "new_vaccinations                         306\n",
       "new_vaccinations_smoothed                306\n",
       "new_vaccinations_smoothed_per_million    306\n",
       "people_fully_vaccinated                  319\n",
       "people_fully_vaccinated_per_hundred      319\n",
       "people_vaccinated                        305\n",
       "people_vaccinated_per_hundred            305\n",
       "population                                 0\n",
       "population_density                         0\n",
       "positive_rate                              7\n",
       "reproduction_rate                         14\n",
       "stringency_index                           7\n",
       "tests_per_case                            13\n",
       "tests_units                                1\n",
       "total_cases                                0\n",
       "total_cases_per_million                    0\n",
       "total_deaths                              26\n",
       "total_deaths_per_million                  26\n",
       "total_tests                                1\n",
       "total_tests_per_thousand                   1\n",
       "total_vaccinations                       305\n",
       "total_vaccinations_per_hundred           305\n",
       "weekly_hosp_admissions                   374\n",
       "weekly_hosp_admissions_per_million       374\n",
       "weekly_icu_admissions                    374\n",
       "weekly_icu_admissions_per_million        374\n",
       "dtype: int64"
      ]
     },
     "execution_count": 120,
     "metadata": {},
     "output_type": "execute_result"
    }
   ],
   "source": [
    "# number of missing value per column\n",
    "df_slovakia.isnull().sum()"
   ]
  },
  {
   "cell_type": "markdown",
   "metadata": {},
   "source": [
    "# Remove unnecessary columns,columns having lot of missing values,and columns having duplicate name"
   ]
  },
  {
   "cell_type": "code",
   "execution_count": 121,
   "metadata": {},
   "outputs": [],
   "source": [
    "df_slovakia.drop(['handwashing_facilities','icu_patients','icu_patients_per_million','new_vaccinations','new_vaccinations_smoothed',\n",
    "                  'location','iso_code','continent','location','new_vaccinations_smoothed_per_million','people_fully_vaccinated','people_fully_vaccinated_per_hundred',\n",
    "                    'people_vaccinated','people_vaccinated_per_hundred','weekly_icu_admissions_per_million','weekly_icu_admissions','weekly_hosp_admissions_per_million',\n",
    "                  'weekly_hosp_admissions','total_vaccinations','total_vaccinations_per_hundred','continent','iso_code'],axis=1, inplace=True)"
   ]
  },
  {
   "cell_type": "code",
   "execution_count": 122,
   "metadata": {},
   "outputs": [
    {
     "name": "stdout",
     "output_type": "stream",
     "text": [
      "<class 'pandas.core.frame.DataFrame'>\n",
      "Int64Index: 374 entries, 60393 to 60766\n",
      "Data columns (total 40 columns):\n",
      " #   Column                           Non-Null Count  Dtype  \n",
      "---  ------                           --------------  -----  \n",
      " 0   aged_65_older                    374 non-null    float64\n",
      " 1   aged_70_older                    374 non-null    float64\n",
      " 2   cardiovasc_death_rate            374 non-null    float64\n",
      " 3   date                             374 non-null    object \n",
      " 4   diabetes_prevalence              374 non-null    float64\n",
      " 5   extreme_poverty                  374 non-null    float64\n",
      " 6   female_smokers                   374 non-null    float64\n",
      " 7   gdp_per_capita                   374 non-null    float64\n",
      " 8   hosp_patients                    312 non-null    float64\n",
      " 9   hosp_patients_per_million        312 non-null    float64\n",
      " 10  hospital_beds_per_thousand       374 non-null    float64\n",
      " 11  human_development_index          374 non-null    float64\n",
      " 12  life_expectancy                  374 non-null    float64\n",
      " 13  male_smokers                     374 non-null    float64\n",
      " 14  median_age                       374 non-null    float64\n",
      " 15  new_cases                        374 non-null    float64\n",
      " 16  new_cases_per_million            374 non-null    float64\n",
      " 17  new_cases_smoothed               369 non-null    float64\n",
      " 18  new_cases_smoothed_per_million   369 non-null    float64\n",
      " 19  new_deaths                       348 non-null    float64\n",
      " 20  new_deaths_per_million           348 non-null    float64\n",
      " 21  new_deaths_smoothed              369 non-null    float64\n",
      " 22  new_deaths_smoothed_per_million  369 non-null    float64\n",
      " 23  new_tests                        373 non-null    float64\n",
      " 24  new_tests_per_thousand           373 non-null    float64\n",
      " 25  new_tests_smoothed               366 non-null    float64\n",
      " 26  new_tests_smoothed_per_thousand  366 non-null    float64\n",
      " 27  population                       374 non-null    float64\n",
      " 28  population_density               374 non-null    float64\n",
      " 29  positive_rate                    367 non-null    float64\n",
      " 30  reproduction_rate                360 non-null    float64\n",
      " 31  stringency_index                 367 non-null    float64\n",
      " 32  tests_per_case                   361 non-null    float64\n",
      " 33  tests_units                      373 non-null    object \n",
      " 34  total_cases                      374 non-null    float64\n",
      " 35  total_cases_per_million          374 non-null    float64\n",
      " 36  total_deaths                     348 non-null    float64\n",
      " 37  total_deaths_per_million         348 non-null    float64\n",
      " 38  total_tests                      373 non-null    float64\n",
      " 39  total_tests_per_thousand         373 non-null    float64\n",
      "dtypes: float64(38), object(2)\n",
      "memory usage: 119.8+ KB\n"
     ]
    }
   ],
   "source": [
    "df_slovakia.info()"
   ]
  },
  {
   "cell_type": "code",
   "execution_count": 123,
   "metadata": {},
   "outputs": [
    {
     "data": {
      "text/html": [
       "<div>\n",
       "<style scoped>\n",
       "    .dataframe tbody tr th:only-of-type {\n",
       "        vertical-align: middle;\n",
       "    }\n",
       "\n",
       "    .dataframe tbody tr th {\n",
       "        vertical-align: top;\n",
       "    }\n",
       "\n",
       "    .dataframe thead th {\n",
       "        text-align: right;\n",
       "    }\n",
       "</style>\n",
       "<table border=\"1\" class=\"dataframe\">\n",
       "  <thead>\n",
       "    <tr style=\"text-align: right;\">\n",
       "      <th></th>\n",
       "      <th>aged_65_older</th>\n",
       "      <th>aged_70_older</th>\n",
       "      <th>cardiovasc_death_rate</th>\n",
       "      <th>date</th>\n",
       "      <th>diabetes_prevalence</th>\n",
       "      <th>extreme_poverty</th>\n",
       "      <th>female_smokers</th>\n",
       "      <th>gdp_per_capita</th>\n",
       "      <th>hosp_patients</th>\n",
       "      <th>hosp_patients_per_million</th>\n",
       "      <th>...</th>\n",
       "      <th>reproduction_rate</th>\n",
       "      <th>stringency_index</th>\n",
       "      <th>tests_per_case</th>\n",
       "      <th>tests_units</th>\n",
       "      <th>total_cases</th>\n",
       "      <th>total_cases_per_million</th>\n",
       "      <th>total_deaths</th>\n",
       "      <th>total_deaths_per_million</th>\n",
       "      <th>total_tests</th>\n",
       "      <th>total_tests_per_thousand</th>\n",
       "    </tr>\n",
       "  </thead>\n",
       "  <tbody>\n",
       "    <tr>\n",
       "      <th>60393</th>\n",
       "      <td>15.07</td>\n",
       "      <td>9.167</td>\n",
       "      <td>287.959</td>\n",
       "      <td>2020-03-06</td>\n",
       "      <td>7.29</td>\n",
       "      <td>0.7</td>\n",
       "      <td>23.1</td>\n",
       "      <td>30155.152</td>\n",
       "      <td>NaN</td>\n",
       "      <td>NaN</td>\n",
       "      <td>...</td>\n",
       "      <td>NaN</td>\n",
       "      <td>16.67</td>\n",
       "      <td>NaN</td>\n",
       "      <td>tests performed</td>\n",
       "      <td>1.0</td>\n",
       "      <td>0.183</td>\n",
       "      <td>NaN</td>\n",
       "      <td>NaN</td>\n",
       "      <td>378.0</td>\n",
       "      <td>0.069</td>\n",
       "    </tr>\n",
       "    <tr>\n",
       "      <th>60394</th>\n",
       "      <td>15.07</td>\n",
       "      <td>9.167</td>\n",
       "      <td>287.959</td>\n",
       "      <td>2020-03-07</td>\n",
       "      <td>7.29</td>\n",
       "      <td>0.7</td>\n",
       "      <td>23.1</td>\n",
       "      <td>30155.152</td>\n",
       "      <td>NaN</td>\n",
       "      <td>NaN</td>\n",
       "      <td>...</td>\n",
       "      <td>NaN</td>\n",
       "      <td>16.67</td>\n",
       "      <td>NaN</td>\n",
       "      <td>tests performed</td>\n",
       "      <td>1.0</td>\n",
       "      <td>0.183</td>\n",
       "      <td>NaN</td>\n",
       "      <td>NaN</td>\n",
       "      <td>444.0</td>\n",
       "      <td>0.081</td>\n",
       "    </tr>\n",
       "    <tr>\n",
       "      <th>60395</th>\n",
       "      <td>15.07</td>\n",
       "      <td>9.167</td>\n",
       "      <td>287.959</td>\n",
       "      <td>2020-03-08</td>\n",
       "      <td>7.29</td>\n",
       "      <td>0.7</td>\n",
       "      <td>23.1</td>\n",
       "      <td>30155.152</td>\n",
       "      <td>NaN</td>\n",
       "      <td>NaN</td>\n",
       "      <td>...</td>\n",
       "      <td>NaN</td>\n",
       "      <td>16.67</td>\n",
       "      <td>NaN</td>\n",
       "      <td>tests performed</td>\n",
       "      <td>3.0</td>\n",
       "      <td>0.549</td>\n",
       "      <td>NaN</td>\n",
       "      <td>NaN</td>\n",
       "      <td>520.0</td>\n",
       "      <td>0.095</td>\n",
       "    </tr>\n",
       "    <tr>\n",
       "      <th>60396</th>\n",
       "      <td>15.07</td>\n",
       "      <td>9.167</td>\n",
       "      <td>287.959</td>\n",
       "      <td>2020-03-09</td>\n",
       "      <td>7.29</td>\n",
       "      <td>0.7</td>\n",
       "      <td>23.1</td>\n",
       "      <td>30155.152</td>\n",
       "      <td>NaN</td>\n",
       "      <td>NaN</td>\n",
       "      <td>...</td>\n",
       "      <td>NaN</td>\n",
       "      <td>22.22</td>\n",
       "      <td>NaN</td>\n",
       "      <td>tests performed</td>\n",
       "      <td>3.0</td>\n",
       "      <td>0.549</td>\n",
       "      <td>NaN</td>\n",
       "      <td>NaN</td>\n",
       "      <td>589.0</td>\n",
       "      <td>0.108</td>\n",
       "    </tr>\n",
       "    <tr>\n",
       "      <th>60397</th>\n",
       "      <td>15.07</td>\n",
       "      <td>9.167</td>\n",
       "      <td>287.959</td>\n",
       "      <td>2020-03-10</td>\n",
       "      <td>7.29</td>\n",
       "      <td>0.7</td>\n",
       "      <td>23.1</td>\n",
       "      <td>30155.152</td>\n",
       "      <td>NaN</td>\n",
       "      <td>NaN</td>\n",
       "      <td>...</td>\n",
       "      <td>NaN</td>\n",
       "      <td>33.33</td>\n",
       "      <td>NaN</td>\n",
       "      <td>tests performed</td>\n",
       "      <td>7.0</td>\n",
       "      <td>1.282</td>\n",
       "      <td>NaN</td>\n",
       "      <td>NaN</td>\n",
       "      <td>700.0</td>\n",
       "      <td>0.128</td>\n",
       "    </tr>\n",
       "  </tbody>\n",
       "</table>\n",
       "<p>5 rows × 40 columns</p>\n",
       "</div>"
      ],
      "text/plain": [
       "       aged_65_older  aged_70_older  cardiovasc_death_rate       date  \\\n",
       "60393          15.07          9.167                287.959 2020-03-06   \n",
       "60394          15.07          9.167                287.959 2020-03-07   \n",
       "60395          15.07          9.167                287.959 2020-03-08   \n",
       "60396          15.07          9.167                287.959 2020-03-09   \n",
       "60397          15.07          9.167                287.959 2020-03-10   \n",
       "\n",
       "       diabetes_prevalence  extreme_poverty  female_smokers  gdp_per_capita  \\\n",
       "60393                 7.29              0.7            23.1       30155.152   \n",
       "60394                 7.29              0.7            23.1       30155.152   \n",
       "60395                 7.29              0.7            23.1       30155.152   \n",
       "60396                 7.29              0.7            23.1       30155.152   \n",
       "60397                 7.29              0.7            23.1       30155.152   \n",
       "\n",
       "       hosp_patients  hosp_patients_per_million  ...  reproduction_rate  \\\n",
       "60393            NaN                        NaN  ...                NaN   \n",
       "60394            NaN                        NaN  ...                NaN   \n",
       "60395            NaN                        NaN  ...                NaN   \n",
       "60396            NaN                        NaN  ...                NaN   \n",
       "60397            NaN                        NaN  ...                NaN   \n",
       "\n",
       "       stringency_index  tests_per_case      tests_units  total_cases  \\\n",
       "60393             16.67             NaN  tests performed          1.0   \n",
       "60394             16.67             NaN  tests performed          1.0   \n",
       "60395             16.67             NaN  tests performed          3.0   \n",
       "60396             22.22             NaN  tests performed          3.0   \n",
       "60397             33.33             NaN  tests performed          7.0   \n",
       "\n",
       "       total_cases_per_million  total_deaths  total_deaths_per_million  \\\n",
       "60393                    0.183           NaN                       NaN   \n",
       "60394                    0.183           NaN                       NaN   \n",
       "60395                    0.549           NaN                       NaN   \n",
       "60396                    0.549           NaN                       NaN   \n",
       "60397                    1.282           NaN                       NaN   \n",
       "\n",
       "       total_tests  total_tests_per_thousand  \n",
       "60393        378.0                     0.069  \n",
       "60394        444.0                     0.081  \n",
       "60395        520.0                     0.095  \n",
       "60396        589.0                     0.108  \n",
       "60397        700.0                     0.128  \n",
       "\n",
       "[5 rows x 40 columns]"
      ]
     },
     "execution_count": 123,
     "metadata": {},
     "output_type": "execute_result"
    }
   ],
   "source": [
    "#converting string date to date-time\n",
    "df_slovakia['date'] = pd.to_datetime(df_slovakia['date']) \n",
    "df_slovakia.head()"
   ]
  },
  {
   "cell_type": "code",
   "execution_count": 124,
   "metadata": {},
   "outputs": [
    {
     "name": "stdout",
     "output_type": "stream",
     "text": [
      "<class 'pandas.core.frame.DataFrame'>\n",
      "Int64Index: 374 entries, 60393 to 60766\n",
      "Data columns (total 40 columns):\n",
      " #   Column                           Non-Null Count  Dtype         \n",
      "---  ------                           --------------  -----         \n",
      " 0   aged_65_older                    374 non-null    float64       \n",
      " 1   aged_70_older                    374 non-null    float64       \n",
      " 2   cardiovasc_death_rate            374 non-null    float64       \n",
      " 3   date                             374 non-null    datetime64[ns]\n",
      " 4   diabetes_prevalence              374 non-null    float64       \n",
      " 5   extreme_poverty                  374 non-null    float64       \n",
      " 6   female_smokers                   374 non-null    float64       \n",
      " 7   gdp_per_capita                   374 non-null    float64       \n",
      " 8   hosp_patients                    312 non-null    float64       \n",
      " 9   hosp_patients_per_million        312 non-null    float64       \n",
      " 10  hospital_beds_per_thousand       374 non-null    float64       \n",
      " 11  human_development_index          374 non-null    float64       \n",
      " 12  life_expectancy                  374 non-null    float64       \n",
      " 13  male_smokers                     374 non-null    float64       \n",
      " 14  median_age                       374 non-null    float64       \n",
      " 15  new_cases                        374 non-null    float64       \n",
      " 16  new_cases_per_million            374 non-null    float64       \n",
      " 17  new_cases_smoothed               369 non-null    float64       \n",
      " 18  new_cases_smoothed_per_million   369 non-null    float64       \n",
      " 19  new_deaths                       348 non-null    float64       \n",
      " 20  new_deaths_per_million           348 non-null    float64       \n",
      " 21  new_deaths_smoothed              369 non-null    float64       \n",
      " 22  new_deaths_smoothed_per_million  369 non-null    float64       \n",
      " 23  new_tests                        373 non-null    float64       \n",
      " 24  new_tests_per_thousand           373 non-null    float64       \n",
      " 25  new_tests_smoothed               366 non-null    float64       \n",
      " 26  new_tests_smoothed_per_thousand  366 non-null    float64       \n",
      " 27  population                       374 non-null    float64       \n",
      " 28  population_density               374 non-null    float64       \n",
      " 29  positive_rate                    367 non-null    float64       \n",
      " 30  reproduction_rate                360 non-null    float64       \n",
      " 31  stringency_index                 367 non-null    float64       \n",
      " 32  tests_per_case                   361 non-null    float64       \n",
      " 33  tests_units                      373 non-null    object        \n",
      " 34  total_cases                      374 non-null    float64       \n",
      " 35  total_cases_per_million          374 non-null    float64       \n",
      " 36  total_deaths                     348 non-null    float64       \n",
      " 37  total_deaths_per_million         348 non-null    float64       \n",
      " 38  total_tests                      373 non-null    float64       \n",
      " 39  total_tests_per_thousand         373 non-null    float64       \n",
      "dtypes: datetime64[ns](1), float64(38), object(1)\n",
      "memory usage: 119.8+ KB\n"
     ]
    }
   ],
   "source": [
    "df_slovakia.info()"
   ]
  },
  {
   "cell_type": "markdown",
   "metadata": {},
   "source": [
    "# change object data type to numeric data type"
   ]
  },
  {
   "cell_type": "code",
   "execution_count": 125,
   "metadata": {},
   "outputs": [],
   "source": [
    "#convertstring date to date-time\n",
    "#date-time fromat to numeric"
   ]
  },
  {
   "cell_type": "code",
   "execution_count": 126,
   "metadata": {},
   "outputs": [],
   "source": [
    "#converting string date to date-time\n",
    "df_slovakia['date'] = pd.to_datetime(df_slovakia['date']) \n"
   ]
  },
  {
   "cell_type": "code",
   "execution_count": 127,
   "metadata": {},
   "outputs": [],
   "source": [
    "#date-time fromat to numeric dqta type\n",
    "df_slovakia['date'] = pd.to_numeric(df_slovakia['date'])"
   ]
  },
  {
   "cell_type": "markdown",
   "metadata": {},
   "source": [
    "change \"test_units\"object to numeric data type"
   ]
  },
  {
   "cell_type": "code",
   "execution_count": 128,
   "metadata": {},
   "outputs": [
    {
     "data": {
      "text/plain": [
       "tests performed    373\n",
       "Name: tests_units, dtype: int64"
      ]
     },
     "execution_count": 128,
     "metadata": {},
     "output_type": "execute_result"
    }
   ],
   "source": [
    "df_slovakia[\"tests_units\"].value_counts()"
   ]
  },
  {
   "cell_type": "code",
   "execution_count": 129,
   "metadata": {},
   "outputs": [],
   "source": [
    "# Convert categorical variable  tests_units into dummy(one hot encoding)\n",
    "test_performed=pd.get_dummies(df_slovakia['tests_units'])"
   ]
  },
  {
   "cell_type": "code",
   "execution_count": 130,
   "metadata": {},
   "outputs": [],
   "source": [
    "## add \"test_performed\" to df_slovakia data frame\n",
    "df_slovakia = pd.concat([df_slovakia,test_performed], axis=1)"
   ]
  },
  {
   "cell_type": "code",
   "execution_count": 131,
   "metadata": {},
   "outputs": [],
   "source": [
    "#drop \"tests_units\"\n",
    "df_slovakia.drop(['tests_units'],axis=1,inplace=True)"
   ]
  },
  {
   "cell_type": "code",
   "execution_count": 132,
   "metadata": {},
   "outputs": [
    {
     "name": "stdout",
     "output_type": "stream",
     "text": [
      "<class 'pandas.core.frame.DataFrame'>\n",
      "Int64Index: 374 entries, 60393 to 60766\n",
      "Data columns (total 40 columns):\n",
      " #   Column                           Non-Null Count  Dtype  \n",
      "---  ------                           --------------  -----  \n",
      " 0   aged_65_older                    374 non-null    float64\n",
      " 1   aged_70_older                    374 non-null    float64\n",
      " 2   cardiovasc_death_rate            374 non-null    float64\n",
      " 3   date                             374 non-null    int64  \n",
      " 4   diabetes_prevalence              374 non-null    float64\n",
      " 5   extreme_poverty                  374 non-null    float64\n",
      " 6   female_smokers                   374 non-null    float64\n",
      " 7   gdp_per_capita                   374 non-null    float64\n",
      " 8   hosp_patients                    312 non-null    float64\n",
      " 9   hosp_patients_per_million        312 non-null    float64\n",
      " 10  hospital_beds_per_thousand       374 non-null    float64\n",
      " 11  human_development_index          374 non-null    float64\n",
      " 12  life_expectancy                  374 non-null    float64\n",
      " 13  male_smokers                     374 non-null    float64\n",
      " 14  median_age                       374 non-null    float64\n",
      " 15  new_cases                        374 non-null    float64\n",
      " 16  new_cases_per_million            374 non-null    float64\n",
      " 17  new_cases_smoothed               369 non-null    float64\n",
      " 18  new_cases_smoothed_per_million   369 non-null    float64\n",
      " 19  new_deaths                       348 non-null    float64\n",
      " 20  new_deaths_per_million           348 non-null    float64\n",
      " 21  new_deaths_smoothed              369 non-null    float64\n",
      " 22  new_deaths_smoothed_per_million  369 non-null    float64\n",
      " 23  new_tests                        373 non-null    float64\n",
      " 24  new_tests_per_thousand           373 non-null    float64\n",
      " 25  new_tests_smoothed               366 non-null    float64\n",
      " 26  new_tests_smoothed_per_thousand  366 non-null    float64\n",
      " 27  population                       374 non-null    float64\n",
      " 28  population_density               374 non-null    float64\n",
      " 29  positive_rate                    367 non-null    float64\n",
      " 30  reproduction_rate                360 non-null    float64\n",
      " 31  stringency_index                 367 non-null    float64\n",
      " 32  tests_per_case                   361 non-null    float64\n",
      " 33  total_cases                      374 non-null    float64\n",
      " 34  total_cases_per_million          374 non-null    float64\n",
      " 35  total_deaths                     348 non-null    float64\n",
      " 36  total_deaths_per_million         348 non-null    float64\n",
      " 37  total_tests                      373 non-null    float64\n",
      " 38  total_tests_per_thousand         373 non-null    float64\n",
      " 39  tests performed                  374 non-null    uint8  \n",
      "dtypes: float64(38), int64(1), uint8(1)\n",
      "memory usage: 117.2 KB\n"
     ]
    }
   ],
   "source": [
    "df_slovakia.info()"
   ]
  },
  {
   "cell_type": "markdown",
   "metadata": {},
   "source": [
    "# Data Analysis"
   ]
  },
  {
   "cell_type": "markdown",
   "metadata": {},
   "source": [
    "# Univariate analysis and Imputation"
   ]
  },
  {
   "cell_type": "code",
   "execution_count": 133,
   "metadata": {},
   "outputs": [
    {
     "name": "stdout",
     "output_type": "stream",
     "text": [
      "309\n"
     ]
    }
   ],
   "source": [
    "print(df_slovakia.isnull().values.sum())"
   ]
  },
  {
   "cell_type": "code",
   "execution_count": 134,
   "metadata": {},
   "outputs": [
    {
     "data": {
      "text/plain": [
       "aged_65_older                       0\n",
       "aged_70_older                       0\n",
       "cardiovasc_death_rate               0\n",
       "date                                0\n",
       "diabetes_prevalence                 0\n",
       "extreme_poverty                     0\n",
       "female_smokers                      0\n",
       "gdp_per_capita                      0\n",
       "hosp_patients                      62\n",
       "hosp_patients_per_million          62\n",
       "hospital_beds_per_thousand          0\n",
       "human_development_index             0\n",
       "life_expectancy                     0\n",
       "male_smokers                        0\n",
       "median_age                          0\n",
       "new_cases                           0\n",
       "new_cases_per_million               0\n",
       "new_cases_smoothed                  5\n",
       "new_cases_smoothed_per_million      5\n",
       "new_deaths                         26\n",
       "new_deaths_per_million             26\n",
       "new_deaths_smoothed                 5\n",
       "new_deaths_smoothed_per_million     5\n",
       "new_tests                           1\n",
       "new_tests_per_thousand              1\n",
       "new_tests_smoothed                  8\n",
       "new_tests_smoothed_per_thousand     8\n",
       "population                          0\n",
       "population_density                  0\n",
       "positive_rate                       7\n",
       "reproduction_rate                  14\n",
       "stringency_index                    7\n",
       "tests_per_case                     13\n",
       "total_cases                         0\n",
       "total_cases_per_million             0\n",
       "total_deaths                       26\n",
       "total_deaths_per_million           26\n",
       "total_tests                         1\n",
       "total_tests_per_thousand            1\n",
       "tests performed                     0\n",
       "dtype: int64"
      ]
     },
     "execution_count": 134,
     "metadata": {},
     "output_type": "execute_result"
    }
   ],
   "source": [
    "df_slovakia.isnull().sum()"
   ]
  },
  {
   "cell_type": "code",
   "execution_count": 135,
   "metadata": {},
   "outputs": [
    {
     "data": {
      "text/plain": [
       "Text(0.5, 1.0, 'Histogram of hosp_patients_per_million')"
      ]
     },
     "execution_count": 135,
     "metadata": {},
     "output_type": "execute_result"
    },
    {
     "data": {
      "image/png": "[encoded data removed]",
      "text/plain": [
       "<Figure size 432x288 with 1 Axes>"
      ]
     },
     "metadata": {
      "needs_background": "light"
     },
     "output_type": "display_data"
    }
   ],
   "source": [
    "#hosp_patients_per_million\n",
    "df_slovakia.hosp_patients_per_million.hist()\n",
    "plt.plot()\n",
    "plt.title('Histogram of hosp_patients_per_million')"
   ]
  },
  {
   "cell_type": "markdown",
   "metadata": {},
   "source": [
    "graph data is not normally distributed and it is right skewed, repalce missing value of \"hosp_patients\" with median value"
   ]
  },
  {
   "cell_type": "code",
   "execution_count": 136,
   "metadata": {},
   "outputs": [],
   "source": [
    "#repalce missing value of \" hosp_patients\" with median value,\n",
    "df_slovakia[\"hosp_patients\"].fillna(df_slovakia[\"hosp_patients\"].median(), inplace = True)\n",
    "df_slovakia[\"hosp_patients_per_million\"].fillna(df_slovakia[\"hosp_patients_per_million\"].median(), inplace = True)"
   ]
  },
  {
   "cell_type": "code",
   "execution_count": 137,
   "metadata": {},
   "outputs": [
    {
     "data": {
      "text/plain": [
       "Text(0.5, 1.0, 'Histogram of new_cases_smoothed')"
      ]
     },
     "execution_count": 137,
     "metadata": {},
     "output_type": "execute_result"
    },
    {
     "data": {
      "image/png": "[encoded data removed]",
      "text/plain": [
       "<Figure size 432x288 with 1 Axes>"
      ]
     },
     "metadata": {
      "needs_background": "light"
     },
     "output_type": "display_data"
    }
   ],
   "source": [
    "#new_cases_smoothed\n",
    "df_slovakia.new_cases_smoothed.hist()\n",
    "plt.plot()\n",
    "plt.title('Histogram of new_cases_smoothed')"
   ]
  },
  {
   "cell_type": "markdown",
   "metadata": {},
   "source": [
    "graph data is not normally distributed and it is right skewed, repalce missing value of \"new_cases_smoothed\" with median value"
   ]
  },
  {
   "cell_type": "code",
   "execution_count": 138,
   "metadata": {},
   "outputs": [],
   "source": [
    "#repalce missing value of \"new_cases_smoothed_per_million\" with median value,\n",
    "df_slovakia[\"new_cases_smoothed_per_million\"].fillna(df_slovakia[\"new_cases_smoothed_per_million\"].median(), inplace = True)\n",
    "df_slovakia[\"new_cases_smoothed\"].fillna(df_slovakia[\"new_cases_smoothed\"].median(), inplace = True)"
   ]
  },
  {
   "cell_type": "code",
   "execution_count": 139,
   "metadata": {},
   "outputs": [
    {
     "data": {
      "text/plain": [
       "Text(0.5, 1.0, 'Histogram of new_deaths')"
      ]
     },
     "execution_count": 139,
     "metadata": {},
     "output_type": "execute_result"
    },
    {
     "data": {
      "image/png": "[encoded data removed]",
      "text/plain": [
       "<Figure size 432x288 with 1 Axes>"
      ]
     },
     "metadata": {
      "needs_background": "light"
     },
     "output_type": "display_data"
    }
   ],
   "source": [
    "#new_deaths_per_million\n",
    "df_slovakia.new_deaths.hist()\n",
    "plt.plot()\n",
    "plt.title('Histogram of new_deaths')"
   ]
  },
  {
   "cell_type": "markdown",
   "metadata": {},
   "source": [
    "graph data is not normally distributed and it is right skewed, repalce missing value with median value"
   ]
  },
  {
   "cell_type": "code",
   "execution_count": 140,
   "metadata": {},
   "outputs": [],
   "source": [
    "#repalce missing value of \"new_cases_smoothed_per_million\" with median value,\n",
    "df_slovakia[\"new_deaths_per_million\"].fillna(df_slovakia[\"new_deaths_per_million\"].median(), inplace = True)\n",
    "df_slovakia[\"new_deaths\"].fillna(df_slovakia[\"new_deaths\"].median(), inplace = True)"
   ]
  },
  {
   "cell_type": "code",
   "execution_count": 141,
   "metadata": {},
   "outputs": [
    {
     "data": {
      "text/plain": [
       "Text(0.5, 1.0, 'Histogram of new_deaths_smoothed_per_million')"
      ]
     },
     "execution_count": 141,
     "metadata": {},
     "output_type": "execute_result"
    },
    {
     "data": {
      "image/png": "[encoded data removed]",
      "text/plain": [
       "<Figure size 432x288 with 1 Axes>"
      ]
     },
     "metadata": {
      "needs_background": "light"
     },
     "output_type": "display_data"
    }
   ],
   "source": [
    "#new_deaths_per_million\n",
    "df_slovakia.new_deaths_smoothed_per_million.hist()\n",
    "plt.plot()\n",
    "plt.title('Histogram of new_deaths_smoothed_per_million')"
   ]
  },
  {
   "cell_type": "markdown",
   "metadata": {},
   "source": [
    "graph data is not normally distributed and it is right skewed, repalce missing value  median value"
   ]
  },
  {
   "cell_type": "code",
   "execution_count": 142,
   "metadata": {},
   "outputs": [],
   "source": [
    "#repalce missing value of \"new_cases_smoothed_per_million\" with median value,\n",
    "df_slovakia[\"new_deaths_smoothed_per_million\"].fillna(df_slovakia[\"new_deaths_smoothed_per_million\"].median(), inplace = True)\n",
    "df_slovakia[\"new_deaths_smoothed\"].fillna(df_slovakia[\"new_deaths_smoothed\"].median(), inplace = True)"
   ]
  },
  {
   "cell_type": "code",
   "execution_count": 143,
   "metadata": {},
   "outputs": [
    {
     "data": {
      "text/plain": [
       "Text(0.5, 1.0, 'Histogram of new_tests')"
      ]
     },
     "execution_count": 143,
     "metadata": {},
     "output_type": "execute_result"
    },
    {
     "data": {
      "image/png": "[encoded data removed]",
      "text/plain": [
       "<Figure size 432x288 with 1 Axes>"
      ]
     },
     "metadata": {
      "needs_background": "light"
     },
     "output_type": "display_data"
    }
   ],
   "source": [
    "#new_deaths_per_million\n",
    "df_slovakia.new_tests.hist()\n",
    "plt.plot()\n",
    "plt.title('Histogram of new_tests')"
   ]
  },
  {
   "cell_type": "markdown",
   "metadata": {},
   "source": [
    "graph data is not normally distributed and it is right skewed, repalce missing value with median value"
   ]
  },
  {
   "cell_type": "code",
   "execution_count": 144,
   "metadata": {},
   "outputs": [],
   "source": [
    "#repalce missing value of \"new_cases_smoothed_per_million\" with median value,\n",
    "df_slovakia[\"new_tests_per_thousand\"].fillna(df_slovakia[\"new_tests_per_thousand\"].median(), inplace = True)\n",
    "df_slovakia[\"new_tests\"].fillna(df_slovakia[\"new_tests\"].median(), inplace = True)"
   ]
  },
  {
   "cell_type": "code",
   "execution_count": 145,
   "metadata": {},
   "outputs": [
    {
     "data": {
      "text/plain": [
       "Text(0.5, 1.0, 'Histogram of new_tests_smoothed_per_thousand')"
      ]
     },
     "execution_count": 145,
     "metadata": {},
     "output_type": "execute_result"
    },
    {
     "data": {
      "image/png": "[encoded data removed]",
      "text/plain": [
       "<Figure size 432x288 with 1 Axes>"
      ]
     },
     "metadata": {
      "needs_background": "light"
     },
     "output_type": "display_data"
    }
   ],
   "source": [
    "#new_tests_smoothed_per_thousand\n",
    "df_slovakia.new_tests_smoothed_per_thousand.hist()\n",
    "plt.plot()\n",
    "plt.title('Histogram of new_tests_smoothed_per_thousand')"
   ]
  },
  {
   "cell_type": "markdown",
   "metadata": {},
   "source": [
    "graph data is not normally distributed and it is right skewed, repalce missing value with median value"
   ]
  },
  {
   "cell_type": "code",
   "execution_count": 146,
   "metadata": {},
   "outputs": [],
   "source": [
    "#repalce missing value of \"new_cases_smoothed_per_million\" with median value,\n",
    "df_slovakia[\"new_tests_smoothed_per_thousand\"].fillna(df_slovakia[\"new_tests_smoothed_per_thousand\"].median(), inplace = True)\n",
    "df_slovakia[\"new_tests_smoothed\"].fillna(df_slovakia[\"new_tests_smoothed\"].median(), inplace = True)"
   ]
  },
  {
   "cell_type": "code",
   "execution_count": 147,
   "metadata": {},
   "outputs": [
    {
     "data": {
      "text/plain": [
       "Text(0.5, 1.0, 'Histogram of positive_rate')"
      ]
     },
     "execution_count": 147,
     "metadata": {},
     "output_type": "execute_result"
    },
    {
     "data": {
      "image/png": "[encoded data removed]",
      "text/plain": [
       "<Figure size 432x288 with 1 Axes>"
      ]
     },
     "metadata": {
      "needs_background": "light"
     },
     "output_type": "display_data"
    }
   ],
   "source": [
    "#positive_rate\n",
    "df_slovakia.positive_rate.hist()\n",
    "plt.plot()\n",
    "plt.title('Histogram of positive_rate')"
   ]
  },
  {
   "cell_type": "markdown",
   "metadata": {},
   "source": [
    "graph data is not normally distributed and it is right skewed, repalce missing value with median value"
   ]
  },
  {
   "cell_type": "code",
   "execution_count": 148,
   "metadata": {},
   "outputs": [],
   "source": [
    "df_slovakia[\"positive_rate\"].fillna(df_slovakia[\"positive_rate\"].median(), inplace = True)"
   ]
  },
  {
   "cell_type": "code",
   "execution_count": 149,
   "metadata": {},
   "outputs": [
    {
     "data": {
      "text/plain": [
       "Text(0.5, 1.0, 'Histogram of reproduction_rate')"
      ]
     },
     "execution_count": 149,
     "metadata": {},
     "output_type": "execute_result"
    },
    {
     "data": {
      "image/png": "[encoded data removed]",
      "text/plain": [
       "<Figure size 432x288 with 1 Axes>"
      ]
     },
     "metadata": {
      "needs_background": "light"
     },
     "output_type": "display_data"
    }
   ],
   "source": [
    "#reproduction_rate\n",
    "df_slovakia.reproduction_rate.hist()\n",
    "plt.plot()\n",
    "plt.title('Histogram of reproduction_rate')"
   ]
  },
  {
   "cell_type": "markdown",
   "metadata": {},
   "source": [
    "graph data is not normally distributed and it is left skewed, repalce missing value with median value"
   ]
  },
  {
   "cell_type": "code",
   "execution_count": 150,
   "metadata": {},
   "outputs": [],
   "source": [
    "df_slovakia[\"reproduction_rate\"].fillna(df_slovakia[\"reproduction_rate\"].median(), inplace = True)"
   ]
  },
  {
   "cell_type": "code",
   "execution_count": 151,
   "metadata": {},
   "outputs": [
    {
     "data": {
      "text/plain": [
       "Text(0.5, 1.0, 'Histogram of stringency_index')"
      ]
     },
     "execution_count": 151,
     "metadata": {},
     "output_type": "execute_result"
    },
    {
     "data": {
      "image/png": "[encoded data removed]",
      "text/plain": [
       "<Figure size 432x288 with 1 Axes>"
      ]
     },
     "metadata": {
      "needs_background": "light"
     },
     "output_type": "display_data"
    }
   ],
   "source": [
    "#stringency_index\n",
    "df_slovakia.stringency_index.hist()\n",
    "plt.plot()\n",
    "plt.title('Histogram of stringency_index')"
   ]
  },
  {
   "cell_type": "markdown",
   "metadata": {},
   "source": [
    "graph data is not normally distributed and it is left skewed, repalce missing value with median value"
   ]
  },
  {
   "cell_type": "code",
   "execution_count": 152,
   "metadata": {},
   "outputs": [],
   "source": [
    "df_slovakia[\"stringency_index\"].fillna(df_slovakia[\"stringency_index\"].median(), inplace = True)"
   ]
  },
  {
   "cell_type": "code",
   "execution_count": 153,
   "metadata": {},
   "outputs": [
    {
     "data": {
      "text/plain": [
       "Text(0.5, 1.0, 'Histogram of tests_per_case')"
      ]
     },
     "execution_count": 153,
     "metadata": {},
     "output_type": "execute_result"
    },
    {
     "data": {
      "image/png": "[encoded data removed]",
      "text/plain": [
       "<Figure size 432x288 with 1 Axes>"
      ]
     },
     "metadata": {
      "needs_background": "light"
     },
     "output_type": "display_data"
    }
   ],
   "source": [
    "#stringency_index\n",
    "df_slovakia.tests_per_case.hist()\n",
    "plt.plot()\n",
    "plt.title('Histogram of tests_per_case')"
   ]
  },
  {
   "cell_type": "code",
   "execution_count": 154,
   "metadata": {},
   "outputs": [],
   "source": [
    "df_slovakia[\"tests_per_case\"].fillna(df_slovakia[\"tests_per_case\"].median(), inplace = True)"
   ]
  },
  {
   "cell_type": "code",
   "execution_count": 155,
   "metadata": {},
   "outputs": [
    {
     "data": {
      "text/plain": [
       "Text(0.5, 1.0, 'Histogram of total_deaths')"
      ]
     },
     "execution_count": 155,
     "metadata": {},
     "output_type": "execute_result"
    },
    {
     "data": {
      "image/png": "[encoded data removed]",
      "text/plain": [
       "<Figure size 432x288 with 1 Axes>"
      ]
     },
     "metadata": {
      "needs_background": "light"
     },
     "output_type": "display_data"
    }
   ],
   "source": [
    "#total_deaths_per_million\n",
    "df_slovakia.total_deaths.hist()\n",
    "plt.plot()\n",
    "plt.title('Histogram of total_deaths')"
   ]
  },
  {
   "cell_type": "markdown",
   "metadata": {},
   "source": [
    "graph data is not normally distributed and it is left skewed, repalce missing value with median value"
   ]
  },
  {
   "cell_type": "code",
   "execution_count": 156,
   "metadata": {},
   "outputs": [],
   "source": [
    "df_slovakia[\"total_deaths\"].fillna(df_slovakia[\"total_deaths\"].median(), inplace = True)\n",
    "df_slovakia[\"total_deaths_per_million\"].fillna(df_slovakia[\"total_deaths_per_million\"].median(), inplace = True)\n"
   ]
  },
  {
   "cell_type": "code",
   "execution_count": 157,
   "metadata": {},
   "outputs": [
    {
     "data": {
      "text/plain": [
       "Text(0.5, 1.0, 'Histogram of total_tests_per_thousand')"
      ]
     },
     "execution_count": 157,
     "metadata": {},
     "output_type": "execute_result"
    },
    {
     "data": {
      "image/png": "[encoded data removed]",
      "text/plain": [
       "<Figure size 432x288 with 1 Axes>"
      ]
     },
     "metadata": {
      "needs_background": "light"
     },
     "output_type": "display_data"
    }
   ],
   "source": [
    "#total_tests_per_thousand\n",
    "df_slovakia.total_tests_per_thousand.hist()\n",
    "plt.plot()\n",
    "plt.title('Histogram of total_tests_per_thousand')"
   ]
  },
  {
   "cell_type": "markdown",
   "metadata": {},
   "source": [
    "graph data is not normally distributed and it is left skewed, repalce missing value with median value"
   ]
  },
  {
   "cell_type": "code",
   "execution_count": 158,
   "metadata": {},
   "outputs": [],
   "source": [
    "df_slovakia[\"total_tests_per_thousand\"].fillna(df_slovakia[\"total_tests_per_thousand\"].median(), inplace = True)\n",
    "df_slovakia[\"total_tests\"].fillna(df_slovakia[\"total_tests\"].median(), inplace = True)"
   ]
  },
  {
   "cell_type": "code",
   "execution_count": 159,
   "metadata": {},
   "outputs": [
    {
     "name": "stdout",
     "output_type": "stream",
     "text": [
      "0\n"
     ]
    }
   ],
   "source": [
    "print(df_slovakia.isnull().values.sum())"
   ]
  },
  {
   "cell_type": "markdown",
   "metadata": {},
   "source": [
    "# Bivariate analysis"
   ]
  },
  {
   "cell_type": "markdown",
   "metadata": {},
   "source": [
    "Bivariate analysis and Features selection"
   ]
  },
  {
   "cell_type": "code",
   "execution_count": 160,
   "metadata": {},
   "outputs": [
    {
     "data": {
      "text/plain": [
       "Text(0.5, 1.0, 'hosp_patients vs hosp_patients_per_million')"
      ]
     },
     "execution_count": 160,
     "metadata": {},
     "output_type": "execute_result"
    },
    {
     "data": {
      "image/png": "[encoded data removed]",
      "text/plain": [
       "<Figure size 504x288 with 1 Axes>"
      ]
     },
     "metadata": {
      "needs_background": "light"
     },
     "output_type": "display_data"
    }
   ],
   "source": [
    "plt.figure(figsize=(7,4))\n",
    "sns.scatterplot(x=df_slovakia['hosp_patients_per_million'], y=df_slovakia[\"hosp_patients\"])\n",
    "plt.title('hosp_patients vs hosp_patients_per_million')"
   ]
  },
  {
   "cell_type": "markdown",
   "metadata": {},
   "source": [
    "select one feature for model development,they are identical"
   ]
  },
  {
   "cell_type": "code",
   "execution_count": 161,
   "metadata": {},
   "outputs": [
    {
     "data": {
      "text/plain": [
       "Text(0.5, 1.0, 'new_cases vs new_cases_per_million')"
      ]
     },
     "execution_count": 161,
     "metadata": {},
     "output_type": "execute_result"
    },
    {
     "data": {
      "image/png": "[encoded data removed]",
      "text/plain": [
       "<Figure size 504x288 with 1 Axes>"
      ]
     },
     "metadata": {
      "needs_background": "light"
     },
     "output_type": "display_data"
    }
   ],
   "source": [
    "#new_cases_per_million\n",
    "plt.figure(figsize=(7,4))\n",
    "sns.scatterplot(x=df_slovakia['new_cases_per_million'], y=df_slovakia[\"new_cases\"])\n",
    "plt.title('new_cases vs new_cases_per_million')"
   ]
  },
  {
   "cell_type": "markdown",
   "metadata": {},
   "source": [
    "select one feature for model development,they are identical"
   ]
  },
  {
   "cell_type": "code",
   "execution_count": 162,
   "metadata": {},
   "outputs": [
    {
     "data": {
      "text/plain": [
       "Text(0.5, 1.0, 'new_cases_smoothed vs new_cases_smoothed_per_million')"
      ]
     },
     "execution_count": 162,
     "metadata": {},
     "output_type": "execute_result"
    },
    {
     "data": {
      "image/png": "[encoded data removed]",
      "text/plain": [
       "<Figure size 504x288 with 1 Axes>"
      ]
     },
     "metadata": {
      "needs_background": "light"
     },
     "output_type": "display_data"
    }
   ],
   "source": [
    "#new_cases_smoothed                  \n",
    "#new_cases_smoothed_per_million\n",
    "plt.figure(figsize=(7,4))\n",
    "sns.scatterplot(x=df_slovakia['new_cases_smoothed'], y=df_slovakia[\"new_cases_smoothed_per_million\"])\n",
    "plt.title('new_cases_smoothed vs new_cases_smoothed_per_million')"
   ]
  },
  {
   "cell_type": "markdown",
   "metadata": {},
   "source": [
    "take one feature to predict the model,drop other"
   ]
  },
  {
   "cell_type": "code",
   "execution_count": 163,
   "metadata": {},
   "outputs": [
    {
     "data": {
      "text/plain": [
       "Text(0.5, 1.0, 'total_tests_per_thousand vs total_tests')"
      ]
     },
     "execution_count": 163,
     "metadata": {},
     "output_type": "execute_result"
    },
    {
     "data": {
      "image/png": "[encoded data removed]",
      "text/plain": [
       "<Figure size 504x288 with 1 Axes>"
      ]
     },
     "metadata": {
      "needs_background": "light"
     },
     "output_type": "display_data"
    }
   ],
   "source": [
    "#total_tests                         1\n",
    "#total_tests_per_thousand\n",
    "plt.figure(figsize=(7,4))\n",
    "sns.scatterplot(x=df_slovakia['total_tests_per_thousand'], y=df_slovakia[\"total_tests\"])\n",
    "plt.title('total_tests_per_thousand vs total_tests')"
   ]
  },
  {
   "cell_type": "code",
   "execution_count": 164,
   "metadata": {},
   "outputs": [
    {
     "data": {
      "text/plain": [
       "Text(0.5, 1.0, 'total_deaths_per_million vs total_deaths')"
      ]
     },
     "execution_count": 164,
     "metadata": {},
     "output_type": "execute_result"
    },
    {
     "data": {
      "image/png": "[encoded data removed]",
      "text/plain": [
       "<Figure size 504x288 with 1 Axes>"
      ]
     },
     "metadata": {
      "needs_background": "light"
     },
     "output_type": "display_data"
    }
   ],
   "source": [
    "#total_deaths                       \n",
    "#total_deaths_per_million\n",
    "plt.figure(figsize=(7,4))\n",
    "sns.scatterplot(x=df_slovakia['total_deaths_per_million'], y=df_slovakia[\"total_deaths\"])\n",
    "plt.title('total_deaths_per_million vs total_deaths')"
   ]
  },
  {
   "cell_type": "code",
   "execution_count": 165,
   "metadata": {},
   "outputs": [
    {
     "data": {
      "text/plain": [
       "Text(0.5, 1.0, 'total_cases_per_million vs total_cases')"
      ]
     },
     "execution_count": 165,
     "metadata": {},
     "output_type": "execute_result"
    },
    {
     "data": {
      "image/png": "[encoded data removed]",
      "text/plain": [
       "<Figure size 504x288 with 1 Axes>"
      ]
     },
     "metadata": {
      "needs_background": "light"
     },
     "output_type": "display_data"
    }
   ],
   "source": [
    "#total_cases                         \n",
    "#total_cases_per_million\n",
    "plt.figure(figsize=(7,4))\n",
    "sns.scatterplot(x=df_slovakia['total_cases'], y=df_slovakia[\"total_cases_per_million\"])\n",
    "plt.title('total_cases_per_million vs total_cases')"
   ]
  },
  {
   "cell_type": "markdown",
   "metadata": {},
   "source": [
    "fronm the above graphs both features are  identical so take one feature to predict the model"
   ]
  },
  {
   "cell_type": "code",
   "execution_count": 166,
   "metadata": {},
   "outputs": [],
   "source": [
    "df_slovakia.drop(['new_cases_smoothed_per_million','new_cases_per_million','hosp_patients_per_million','new_deaths_per_million','new_deaths_smoothed_per_million',\n",
    "                 'new_tests_per_thousand','new_tests_smoothed_per_thousand','total_tests_per_thousand','total_deaths_per_million','total_cases_per_million',\n",
    "                 ],axis=1,inplace=True)"
   ]
  },
  {
   "cell_type": "code",
   "execution_count": 167,
   "metadata": {},
   "outputs": [
    {
     "data": {
      "text/plain": [
       "(374, 30)"
      ]
     },
     "execution_count": 167,
     "metadata": {},
     "output_type": "execute_result"
    }
   ],
   "source": [
    "df_slovakia.shape"
   ]
  },
  {
   "cell_type": "code",
   "execution_count": 168,
   "metadata": {},
   "outputs": [
    {
     "name": "stdout",
     "output_type": "stream",
     "text": [
      "<class 'pandas.core.frame.DataFrame'>\n",
      "Int64Index: 374 entries, 60393 to 60766\n",
      "Data columns (total 30 columns):\n",
      " #   Column                      Non-Null Count  Dtype  \n",
      "---  ------                      --------------  -----  \n",
      " 0   aged_65_older               374 non-null    float64\n",
      " 1   aged_70_older               374 non-null    float64\n",
      " 2   cardiovasc_death_rate       374 non-null    float64\n",
      " 3   date                        374 non-null    int64  \n",
      " 4   diabetes_prevalence         374 non-null    float64\n",
      " 5   extreme_poverty             374 non-null    float64\n",
      " 6   female_smokers              374 non-null    float64\n",
      " 7   gdp_per_capita              374 non-null    float64\n",
      " 8   hosp_patients               374 non-null    float64\n",
      " 9   hospital_beds_per_thousand  374 non-null    float64\n",
      " 10  human_development_index     374 non-null    float64\n",
      " 11  life_expectancy             374 non-null    float64\n",
      " 12  male_smokers                374 non-null    float64\n",
      " 13  median_age                  374 non-null    float64\n",
      " 14  new_cases                   374 non-null    float64\n",
      " 15  new_cases_smoothed          374 non-null    float64\n",
      " 16  new_deaths                  374 non-null    float64\n",
      " 17  new_deaths_smoothed         374 non-null    float64\n",
      " 18  new_tests                   374 non-null    float64\n",
      " 19  new_tests_smoothed          374 non-null    float64\n",
      " 20  population                  374 non-null    float64\n",
      " 21  population_density          374 non-null    float64\n",
      " 22  positive_rate               374 non-null    float64\n",
      " 23  reproduction_rate           374 non-null    float64\n",
      " 24  stringency_index            374 non-null    float64\n",
      " 25  tests_per_case              374 non-null    float64\n",
      " 26  total_cases                 374 non-null    float64\n",
      " 27  total_deaths                374 non-null    float64\n",
      " 28  total_tests                 374 non-null    float64\n",
      " 29  tests performed             374 non-null    uint8  \n",
      "dtypes: float64(28), int64(1), uint8(1)\n",
      "memory usage: 88.0 KB\n"
     ]
    }
   ],
   "source": [
    "df_slovakia.info()"
   ]
  },
  {
   "cell_type": "markdown",
   "metadata": {},
   "source": [
    "# Bivariate analysis with target variable"
   ]
  },
  {
   "cell_type": "code",
   "execution_count": 169,
   "metadata": {},
   "outputs": [
    {
     "data": {
      "text/plain": [
       "Text(0.5, 1.0, 'New_cases vs aged_65_older')"
      ]
     },
     "execution_count": 169,
     "metadata": {},
     "output_type": "execute_result"
    },
    {
     "data": {
      "image/png": "[encoded data removed]",
      "text/plain": [
       "<Figure size 504x288 with 1 Axes>"
      ]
     },
     "metadata": {
      "needs_background": "light"
     },
     "output_type": "display_data"
    }
   ],
   "source": [
    "plt.figure(figsize=(7,4))\n",
    "sns.scatterplot(x=df_slovakia['aged_65_older'], y=df_slovakia[\"new_cases_smoothed\"])\n",
    "plt.title('New_cases vs aged_65_older')"
   ]
  },
  {
   "cell_type": "markdown",
   "metadata": {},
   "source": [
    "from graph we see no relation between two features"
   ]
  },
  {
   "cell_type": "code",
   "execution_count": 170,
   "metadata": {},
   "outputs": [
    {
     "data": {
      "text/plain": [
       "Text(0.5, 1.0, 'New_cases vs cardiovasc_death_rate')"
      ]
     },
     "execution_count": 170,
     "metadata": {},
     "output_type": "execute_result"
    },
    {
     "data": {
      "image/png": "[encoded data removed]",
      "text/plain": [
       "<Figure size 504x288 with 1 Axes>"
      ]
     },
     "metadata": {
      "needs_background": "light"
     },
     "output_type": "display_data"
    }
   ],
   "source": [
    "#cardiovasc_death_rate\n",
    "plt.figure(figsize=(7,4))\n",
    "sns.scatterplot(x=df_slovakia['cardiovasc_death_rate'], y=df_slovakia[\"new_cases_smoothed\"])\n",
    "plt.title('New_cases vs cardiovasc_death_rate')"
   ]
  },
  {
   "cell_type": "code",
   "execution_count": 171,
   "metadata": {},
   "outputs": [
    {
     "data": {
      "text/plain": [
       "Text(0.5, 1.0, 'New_cases vs cardiovasc_death_rate')"
      ]
     },
     "execution_count": 171,
     "metadata": {},
     "output_type": "execute_result"
    },
    {
     "data": {
      "image/png": "[encoded data removed]",
      "text/plain": [
       "<Figure size 504x288 with 1 Axes>"
      ]
     },
     "metadata": {
      "needs_background": "light"
     },
     "output_type": "display_data"
    }
   ],
   "source": [
    "#cardiovasc_death_rate\n",
    "plt.figure(figsize=(7,4))\n",
    "sns.scatterplot(x=df_slovakia['cardiovasc_death_rate'], y=df_slovakia[\"new_cases_smoothed\"])\n",
    "plt.title('New_cases vs cardiovasc_death_rate')"
   ]
  },
  {
   "cell_type": "code",
   "execution_count": 172,
   "metadata": {},
   "outputs": [
    {
     "data": {
      "text/plain": [
       "Text(0.5, 1.0, 'New_cases vs date')"
      ]
     },
     "execution_count": 172,
     "metadata": {},
     "output_type": "execute_result"
    },
    {
     "data": {
      "image/png": "[encoded data removed]",
      "text/plain": [
       "<Figure size 504x288 with 1 Axes>"
      ]
     },
     "metadata": {
      "needs_background": "light"
     },
     "output_type": "display_data"
    }
   ],
   "source": [
    "#date\n",
    "plt.figure(figsize=(7,4))\n",
    "sns.scatterplot(x=df_slovakia['date'], y=df_slovakia['new_cases_smoothed'])\n",
    "plt.title('New_cases vs date')"
   ]
  },
  {
   "cell_type": "code",
   "execution_count": 173,
   "metadata": {},
   "outputs": [
    {
     "data": {
      "text/plain": [
       "0.8630426468061905"
      ]
     },
     "execution_count": 173,
     "metadata": {},
     "output_type": "execute_result"
    }
   ],
   "source": [
    "(df_slovakia['date']).corr(df_slovakia['new_cases_smoothed'])"
   ]
  },
  {
   "cell_type": "markdown",
   "metadata": {},
   "source": [
    "both feature are correlated, use for prediction"
   ]
  },
  {
   "cell_type": "code",
   "execution_count": 174,
   "metadata": {},
   "outputs": [
    {
     "data": {
      "text/plain": [
       "0.8725859374196675"
      ]
     },
     "execution_count": 174,
     "metadata": {},
     "output_type": "execute_result"
    }
   ],
   "source": [
    "(df_slovakia['new_cases']).corr(df_slovakia['new_cases_smoothed'])"
   ]
  },
  {
   "cell_type": "code",
   "execution_count": 175,
   "metadata": {},
   "outputs": [
    {
     "data": {
      "text/plain": [
       "Text(0.5, 1.0, 'New_cases vs diabetes_prevalence')"
      ]
     },
     "execution_count": 175,
     "metadata": {},
     "output_type": "execute_result"
    },
    {
     "data": {
      "image/png": "[encoded data removed]",
      "text/plain": [
       "<Figure size 504x288 with 1 Axes>"
      ]
     },
     "metadata": {
      "needs_background": "light"
     },
     "output_type": "display_data"
    }
   ],
   "source": [
    "#date\n",
    "plt.figure(figsize=(7,4))\n",
    "sns.scatterplot(x=df_slovakia['extreme_poverty'], y=df_slovakia[\"new_cases_smoothed\"])\n",
    "plt.title('New_cases vs diabetes_prevalence')"
   ]
  },
  {
   "cell_type": "markdown",
   "metadata": {},
   "source": [
    "no relation.drop diabetes_prevalence"
   ]
  },
  {
   "cell_type": "code",
   "execution_count": 176,
   "metadata": {},
   "outputs": [
    {
     "data": {
      "text/plain": [
       "Text(0.5, 1.0, 'New_cases vs hosp_patients')"
      ]
     },
     "execution_count": 176,
     "metadata": {},
     "output_type": "execute_result"
    },
    {
     "data": {
      "image/png": "[encoded data removed]",
      "text/plain": [
       "<Figure size 504x288 with 1 Axes>"
      ]
     },
     "metadata": {
      "needs_background": "light"
     },
     "output_type": "display_data"
    }
   ],
   "source": [
    "#hosp_patients\n",
    "plt.figure(figsize=(7,4))\n",
    "sns.scatterplot(x=df_slovakia['hosp_patients'], y=df_slovakia[\"new_cases_smoothed\"])\n",
    "plt.title('New_cases vs hosp_patients')"
   ]
  },
  {
   "cell_type": "code",
   "execution_count": 177,
   "metadata": {},
   "outputs": [
    {
     "data": {
      "text/plain": [
       "Text(0.5, 1.0, 'New_cases vs hosp_patients')"
      ]
     },
     "execution_count": 177,
     "metadata": {},
     "output_type": "execute_result"
    },
    {
     "data": {
      "image/png": "[encoded data removed]",
      "text/plain": [
       "<Figure size 504x288 with 1 Axes>"
      ]
     },
     "metadata": {
      "needs_background": "light"
     },
     "output_type": "display_data"
    }
   ],
   "source": [
    "#hosp_patients\n",
    "plt.figure(figsize=(7,4))\n",
    "sns.lineplot(x=df_slovakia['hosp_patients'], y=df_slovakia[\"new_cases_smoothed\"])\n",
    "plt.title('New_cases vs hosp_patients')"
   ]
  },
  {
   "cell_type": "code",
   "execution_count": 178,
   "metadata": {},
   "outputs": [
    {
     "data": {
      "text/plain": [
       "0.8593145448630025"
      ]
     },
     "execution_count": 178,
     "metadata": {},
     "output_type": "execute_result"
    }
   ],
   "source": [
    "(df_slovakia['hosp_patients']).corr(df_slovakia['new_cases_smoothed'])"
   ]
  },
  {
   "cell_type": "code",
   "execution_count": 179,
   "metadata": {},
   "outputs": [
    {
     "data": {
      "text/plain": [
       "Text(0.5, 1.0, 'new_cases_smoothed vs new_deaths')"
      ]
     },
     "execution_count": 179,
     "metadata": {},
     "output_type": "execute_result"
    },
    {
     "data": {
      "image/png": "[encoded data removed]",
      "text/plain": [
       "<Figure size 504x288 with 1 Axes>"
      ]
     },
     "metadata": {
      "needs_background": "light"
     },
     "output_type": "display_data"
    }
   ],
   "source": [
    "plt.figure(figsize=(7,4))\n",
    "sns.scatterplot(x=df_slovakia['new_deaths'], y=df_slovakia[\"new_cases_smoothed\"])\n",
    "plt.title('new_cases_smoothed vs new_deaths')"
   ]
  },
  {
   "cell_type": "code",
   "execution_count": 180,
   "metadata": {},
   "outputs": [
    {
     "data": {
      "text/plain": [
       "0.7528493062807917"
      ]
     },
     "execution_count": 180,
     "metadata": {},
     "output_type": "execute_result"
    }
   ],
   "source": [
    "(df_slovakia['new_cases_smoothed']).corr(df_slovakia['new_deaths'])"
   ]
  },
  {
   "cell_type": "code",
   "execution_count": 181,
   "metadata": {},
   "outputs": [
    {
     "data": {
      "text/plain": [
       "Text(0.5, 1.0, 'New_cases vs new_deaths')"
      ]
     },
     "execution_count": 181,
     "metadata": {},
     "output_type": "execute_result"
    },
    {
     "data": {
      "image/png": "[encoded data removed]",
      "text/plain": [
       "<Figure size 504x288 with 1 Axes>"
      ]
     },
     "metadata": {
      "needs_background": "light"
     },
     "output_type": "display_data"
    }
   ],
   "source": [
    "#new_deaths\n",
    "plt.figure(figsize=(7,4))\n",
    "sns.scatterplot(x=df_slovakia['new_deaths_smoothed'], y=df_slovakia[\"new_cases_smoothed\"])\n",
    "plt.title('New_cases vs new_deaths')"
   ]
  },
  {
   "cell_type": "code",
   "execution_count": 182,
   "metadata": {},
   "outputs": [
    {
     "data": {
      "text/plain": [
       "0.8054680661446664"
      ]
     },
     "execution_count": 182,
     "metadata": {},
     "output_type": "execute_result"
    }
   ],
   "source": [
    "(df_slovakia['new_cases_smoothed']).corr(df_slovakia['new_deaths_smoothed'])"
   ]
  },
  {
   "cell_type": "code",
   "execution_count": 183,
   "metadata": {},
   "outputs": [
    {
     "data": {
      "text/plain": [
       "Text(0.5, 1.0, 'new_cases_smoothed vs new_tests ')"
      ]
     },
     "execution_count": 183,
     "metadata": {},
     "output_type": "execute_result"
    },
    {
     "data": {
      "image/png": "[encoded data removed]",
      "text/plain": [
       "<Figure size 504x288 with 1 Axes>"
      ]
     },
     "metadata": {
      "needs_background": "light"
     },
     "output_type": "display_data"
    }
   ],
   "source": [
    "#new_tests\n",
    "plt.figure(figsize=(7,4))\n",
    "sns.scatterplot(x=df_slovakia['new_tests'], y=df_slovakia[\"new_cases_smoothed\"])\n",
    "plt.title('new_cases_smoothed vs new_tests ')"
   ]
  },
  {
   "cell_type": "code",
   "execution_count": 184,
   "metadata": {},
   "outputs": [
    {
     "data": {
      "text/plain": [
       "0.4918448305389645"
      ]
     },
     "execution_count": 184,
     "metadata": {},
     "output_type": "execute_result"
    }
   ],
   "source": [
    "(df_slovakia['new_tests']).corr(df_slovakia['new_cases_smoothed'])"
   ]
  },
  {
   "cell_type": "code",
   "execution_count": 185,
   "metadata": {},
   "outputs": [
    {
     "data": {
      "text/plain": [
       "Text(0.5, 1.0, 'new_tests_smoothed vs new_deaths')"
      ]
     },
     "execution_count": 185,
     "metadata": {},
     "output_type": "execute_result"
    },
    {
     "data": {
      "image/png": "[encoded data removed]",
      "text/plain": [
       "<Figure size 504x288 with 1 Axes>"
      ]
     },
     "metadata": {
      "needs_background": "light"
     },
     "output_type": "display_data"
    }
   ],
   "source": [
    "#new_tests_smoothed\n",
    "plt.figure(figsize=(7,4))\n",
    "sns.scatterplot(x=df_slovakia['new_tests_smoothed'], y=df_slovakia[\"new_cases_smoothed\"])\n",
    "plt.title('new_tests_smoothed vs new_deaths')"
   ]
  },
  {
   "cell_type": "code",
   "execution_count": 186,
   "metadata": {},
   "outputs": [
    {
     "data": {
      "text/plain": [
       "0.5682044667794577"
      ]
     },
     "execution_count": 186,
     "metadata": {},
     "output_type": "execute_result"
    }
   ],
   "source": [
    "(df_slovakia['positive_rate']).corr(df_slovakia['new_cases_smoothed'])"
   ]
  },
  {
   "cell_type": "code",
   "execution_count": 187,
   "metadata": {},
   "outputs": [
    {
     "data": {
      "text/plain": [
       "nan"
      ]
     },
     "execution_count": 187,
     "metadata": {},
     "output_type": "execute_result"
    }
   ],
   "source": [
    "(df_slovakia['population']).corr(df_slovakia['new_cases_smoothed'])\n",
    "#no relation"
   ]
  },
  {
   "cell_type": "code",
   "execution_count": 188,
   "metadata": {},
   "outputs": [
    {
     "data": {
      "text/plain": [
       "-5.0812048593317736e-17"
      ]
     },
     "execution_count": 188,
     "metadata": {},
     "output_type": "execute_result"
    }
   ],
   "source": [
    "(df_slovakia['population_density']).corr(df_slovakia['new_cases_smoothed'])\n",
    "# negative correlation"
   ]
  },
  {
   "cell_type": "code",
   "execution_count": 189,
   "metadata": {},
   "outputs": [
    {
     "data": {
      "text/plain": [
       "0.5682044667794577"
      ]
     },
     "execution_count": 189,
     "metadata": {},
     "output_type": "execute_result"
    }
   ],
   "source": [
    "#positive_rate\n",
    "(df_slovakia['positive_rate']).corr(df_slovakia['new_cases_smoothed'])"
   ]
  },
  {
   "cell_type": "code",
   "execution_count": 190,
   "metadata": {},
   "outputs": [
    {
     "data": {
      "text/plain": [
       "0.4497758307345464"
      ]
     },
     "execution_count": 190,
     "metadata": {},
     "output_type": "execute_result"
    }
   ],
   "source": [
    "#stringency_index\n",
    "(df_slovakia['stringency_index']).corr(df_slovakia['new_cases_smoothed'])\n",
    "# correlation feature"
   ]
  },
  {
   "cell_type": "code",
   "execution_count": 191,
   "metadata": {},
   "outputs": [
    {
     "data": {
      "text/plain": [
       "-0.34118198938407857"
      ]
     },
     "execution_count": 191,
     "metadata": {},
     "output_type": "execute_result"
    }
   ],
   "source": [
    "#tests_per_case\n",
    "(df_slovakia['tests_per_case']).corr(df_slovakia['new_cases_smoothed'])\n",
    "#negative correlation"
   ]
  },
  {
   "cell_type": "code",
   "execution_count": 192,
   "metadata": {},
   "outputs": [
    {
     "data": {
      "text/plain": [
       "0.8313734167362042"
      ]
     },
     "execution_count": 192,
     "metadata": {},
     "output_type": "execute_result"
    }
   ],
   "source": [
    "#total_cases\n",
    "(df_slovakia['total_cases']).corr(df_slovakia['new_cases_smoothed'])\n",
    "#negative correlation"
   ]
  },
  {
   "cell_type": "code",
   "execution_count": 193,
   "metadata": {},
   "outputs": [
    {
     "data": {
      "text/plain": [
       "0.6616370245833613"
      ]
     },
     "execution_count": 193,
     "metadata": {},
     "output_type": "execute_result"
    }
   ],
   "source": [
    "#total_deaths\n",
    "(df_slovakia['total_deaths']).corr(df_slovakia['new_cases_smoothed'])\n",
    "#positive relation"
   ]
  },
  {
   "cell_type": "code",
   "execution_count": 194,
   "metadata": {},
   "outputs": [
    {
     "data": {
      "text/plain": [
       "0.5999629555221436"
      ]
     },
     "execution_count": 194,
     "metadata": {},
     "output_type": "execute_result"
    }
   ],
   "source": [
    "#total_tests \n",
    "(df_slovakia['total_tests']).corr(df_slovakia['new_cases_smoothed'])\n",
    "# correlated "
   ]
  },
  {
   "cell_type": "code",
   "execution_count": 195,
   "metadata": {},
   "outputs": [
    {
     "data": {
      "text/plain": [
       "Text(0.5, 1.0, 'new_cases_smoothed vs extreme_poverty')"
      ]
     },
     "execution_count": 195,
     "metadata": {},
     "output_type": "execute_result"
    },
    {
     "data": {
      "image/png": "[encoded data removed]",
      "text/plain": [
       "<Figure size 504x288 with 1 Axes>"
      ]
     },
     "metadata": {
      "needs_background": "light"
     },
     "output_type": "display_data"
    }
   ],
   "source": [
    "#extreme_poverty\n",
    "plt.figure(figsize=(7,4))\n",
    "sns.scatterplot(x=df_slovakia['extreme_poverty'], y=df_slovakia[\"new_cases_smoothed\"])\n",
    "plt.title('new_cases_smoothed vs extreme_poverty')"
   ]
  },
  {
   "cell_type": "code",
   "execution_count": 196,
   "metadata": {},
   "outputs": [
    {
     "data": {
      "text/plain": [
       "1.8101792311369445e-16"
      ]
     },
     "execution_count": 196,
     "metadata": {},
     "output_type": "execute_result"
    }
   ],
   "source": [
    "#tests performed\n",
    "(df_slovakia['extreme_poverty']).corr(df_slovakia['new_cases_smoothed'])\n",
    "#no relation"
   ]
  },
  {
   "cell_type": "code",
   "execution_count": 197,
   "metadata": {},
   "outputs": [
    {
     "data": {
      "text/plain": [
       "-0.057244344442064644"
      ]
     },
     "execution_count": 197,
     "metadata": {},
     "output_type": "execute_result"
    }
   ],
   "source": [
    "(df_slovakia['tests performed']).corr(df_slovakia['new_cases_smoothed'])"
   ]
  },
  {
   "cell_type": "code",
   "execution_count": 198,
   "metadata": {},
   "outputs": [
    {
     "data": {
      "text/plain": [
       "1.8101792311369445e-16"
      ]
     },
     "execution_count": 198,
     "metadata": {},
     "output_type": "execute_result"
    }
   ],
   "source": [
    "(df_slovakia['hospital_beds_per_thousand']).corr(df_slovakia['new_cases_smoothed'])"
   ]
  },
  {
   "cell_type": "markdown",
   "metadata": {},
   "source": [
    "if a feature has no relation with target variable(new_cases_smoothed)  remove the feature and take the other feature to predict the model,select the features where corr score more than 60 for prediction.\n"
   ]
  },
  {
   "cell_type": "code",
   "execution_count": 199,
   "metadata": {},
   "outputs": [],
   "source": [
    "df_slovakia.drop(['aged_65_older','aged_70_older','cardiovasc_death_rate','diabetes_prevalence','extreme_poverty','female_smokers',\n",
    "                 'gdp_per_capita','human_development_index','life_expectancy','male_smokers','median_age','population','population_density',\n",
    "                 'reproduction_rate','tests_per_case','tests performed','hospital_beds_per_thousand',\n",
    "                  'positive_rate','stringency_index','new_tests','new_tests_smoothed','new_deaths','total_tests'\n",
    "                 ],axis=1,inplace=True)"
   ]
  },
  {
   "cell_type": "code",
   "execution_count": 200,
   "metadata": {},
   "outputs": [
    {
     "name": "stdout",
     "output_type": "stream",
     "text": [
      "<class 'pandas.core.frame.DataFrame'>\n",
      "Int64Index: 374 entries, 60393 to 60766\n",
      "Data columns (total 7 columns):\n",
      " #   Column               Non-Null Count  Dtype  \n",
      "---  ------               --------------  -----  \n",
      " 0   date                 374 non-null    int64  \n",
      " 1   hosp_patients        374 non-null    float64\n",
      " 2   new_cases            374 non-null    float64\n",
      " 3   new_cases_smoothed   374 non-null    float64\n",
      " 4   new_deaths_smoothed  374 non-null    float64\n",
      " 5   total_cases          374 non-null    float64\n",
      " 6   total_deaths         374 non-null    float64\n",
      "dtypes: float64(6), int64(1)\n",
      "memory usage: 23.4 KB\n"
     ]
    }
   ],
   "source": [
    "df_slovakia.info()"
   ]
  },
  {
   "cell_type": "markdown",
   "metadata": {},
   "source": [
    "# # #correlation map"
   ]
  },
  {
   "cell_type": "code",
   "execution_count": 201,
   "metadata": {},
   "outputs": [
    {
     "data": {
      "text/plain": [
       "<matplotlib.axes._subplots.AxesSubplot at 0x23f66e74fd0>"
      ]
     },
     "execution_count": 201,
     "metadata": {},
     "output_type": "execute_result"
    },
    {
     "data": {
      "image/png": "[encoded data removed]",
      "text/plain": [
       "<Figure size 720x720 with 2 Axes>"
      ]
     },
     "metadata": {
      "needs_background": "light"
     },
     "output_type": "display_data"
    }
   ],
   "source": [
    "#correlation map\n",
    "f,ax = plt.subplots(figsize=(10,10))\n",
    "sns.heatmap(df_slovakia.corr(), annot=True, linewidths=.8, fmt= '.1f',ax=ax)"
   ]
  },
  {
   "cell_type": "code",
   "execution_count": 202,
   "metadata": {},
   "outputs": [
    {
     "name": "stdout",
     "output_type": "stream",
     "text": [
      "<class 'pandas.core.frame.DataFrame'>\n",
      "Int64Index: 374 entries, 60393 to 60766\n",
      "Data columns (total 7 columns):\n",
      " #   Column               Non-Null Count  Dtype  \n",
      "---  ------               --------------  -----  \n",
      " 0   date                 374 non-null    int64  \n",
      " 1   hosp_patients        374 non-null    float64\n",
      " 2   new_cases            374 non-null    float64\n",
      " 3   new_cases_smoothed   374 non-null    float64\n",
      " 4   new_deaths_smoothed  374 non-null    float64\n",
      " 5   total_cases          374 non-null    float64\n",
      " 6   total_deaths         374 non-null    float64\n",
      "dtypes: float64(6), int64(1)\n",
      "memory usage: 23.4 KB\n"
     ]
    }
   ],
   "source": [
    "df_slovakia.info()"
   ]
  },
  {
   "cell_type": "code",
   "execution_count": 203,
   "metadata": {},
   "outputs": [
    {
     "data": {
      "text/html": [
       "<div>\n",
       "<style scoped>\n",
       "    .dataframe tbody tr th:only-of-type {\n",
       "        vertical-align: middle;\n",
       "    }\n",
       "\n",
       "    .dataframe tbody tr th {\n",
       "        vertical-align: top;\n",
       "    }\n",
       "\n",
       "    .dataframe thead th {\n",
       "        text-align: right;\n",
       "    }\n",
       "</style>\n",
       "<table border=\"1\" class=\"dataframe\">\n",
       "  <thead>\n",
       "    <tr style=\"text-align: right;\">\n",
       "      <th></th>\n",
       "      <th>date</th>\n",
       "      <th>hosp_patients</th>\n",
       "      <th>new_cases</th>\n",
       "      <th>new_cases_smoothed</th>\n",
       "      <th>new_deaths_smoothed</th>\n",
       "      <th>total_cases</th>\n",
       "      <th>total_deaths</th>\n",
       "    </tr>\n",
       "  </thead>\n",
       "  <tbody>\n",
       "    <tr>\n",
       "      <th>60393</th>\n",
       "      <td>1583452800000000000</td>\n",
       "      <td>213.5</td>\n",
       "      <td>1.0</td>\n",
       "      <td>131.143</td>\n",
       "      <td>0.714</td>\n",
       "      <td>1.0</td>\n",
       "      <td>39.5</td>\n",
       "    </tr>\n",
       "    <tr>\n",
       "      <th>60394</th>\n",
       "      <td>1583539200000000000</td>\n",
       "      <td>213.5</td>\n",
       "      <td>0.0</td>\n",
       "      <td>131.143</td>\n",
       "      <td>0.714</td>\n",
       "      <td>1.0</td>\n",
       "      <td>39.5</td>\n",
       "    </tr>\n",
       "    <tr>\n",
       "      <th>60395</th>\n",
       "      <td>1583625600000000000</td>\n",
       "      <td>213.5</td>\n",
       "      <td>2.0</td>\n",
       "      <td>131.143</td>\n",
       "      <td>0.714</td>\n",
       "      <td>3.0</td>\n",
       "      <td>39.5</td>\n",
       "    </tr>\n",
       "    <tr>\n",
       "      <th>60396</th>\n",
       "      <td>1583712000000000000</td>\n",
       "      <td>213.5</td>\n",
       "      <td>0.0</td>\n",
       "      <td>131.143</td>\n",
       "      <td>0.714</td>\n",
       "      <td>3.0</td>\n",
       "      <td>39.5</td>\n",
       "    </tr>\n",
       "    <tr>\n",
       "      <th>60397</th>\n",
       "      <td>1583798400000000000</td>\n",
       "      <td>213.5</td>\n",
       "      <td>4.0</td>\n",
       "      <td>131.143</td>\n",
       "      <td>0.714</td>\n",
       "      <td>7.0</td>\n",
       "      <td>39.5</td>\n",
       "    </tr>\n",
       "  </tbody>\n",
       "</table>\n",
       "</div>"
      ],
      "text/plain": [
       "                      date  hosp_patients  new_cases  new_cases_smoothed  \\\n",
       "60393  1583452800000000000          213.5        1.0             131.143   \n",
       "60394  1583539200000000000          213.5        0.0             131.143   \n",
       "60395  1583625600000000000          213.5        2.0             131.143   \n",
       "60396  1583712000000000000          213.5        0.0             131.143   \n",
       "60397  1583798400000000000          213.5        4.0             131.143   \n",
       "\n",
       "       new_deaths_smoothed  total_cases  total_deaths  \n",
       "60393                0.714          1.0          39.5  \n",
       "60394                0.714          1.0          39.5  \n",
       "60395                0.714          3.0          39.5  \n",
       "60396                0.714          3.0          39.5  \n",
       "60397                0.714          7.0          39.5  "
      ]
     },
     "execution_count": 203,
     "metadata": {},
     "output_type": "execute_result"
    }
   ],
   "source": [
    "df_slovakia.head()"
   ]
  },
  {
   "cell_type": "code",
   "execution_count": 204,
   "metadata": {},
   "outputs": [
    {
     "data": {
      "text/html": [
       "<div>\n",
       "<style scoped>\n",
       "    .dataframe tbody tr th:only-of-type {\n",
       "        vertical-align: middle;\n",
       "    }\n",
       "\n",
       "    .dataframe tbody tr th {\n",
       "        vertical-align: top;\n",
       "    }\n",
       "\n",
       "    .dataframe thead th {\n",
       "        text-align: right;\n",
       "    }\n",
       "</style>\n",
       "<table border=\"1\" class=\"dataframe\">\n",
       "  <thead>\n",
       "    <tr style=\"text-align: right;\">\n",
       "      <th></th>\n",
       "      <th>date</th>\n",
       "      <th>hosp_patients</th>\n",
       "      <th>new_cases</th>\n",
       "      <th>new_cases_smoothed</th>\n",
       "      <th>new_deaths_smoothed</th>\n",
       "      <th>total_cases</th>\n",
       "      <th>total_deaths</th>\n",
       "    </tr>\n",
       "  </thead>\n",
       "  <tbody>\n",
       "    <tr>\n",
       "      <th>count</th>\n",
       "      <td>3.740000e+02</td>\n",
       "      <td>374.000000</td>\n",
       "      <td>374.000000</td>\n",
       "      <td>374.000000</td>\n",
       "      <td>374.000000</td>\n",
       "      <td>374.000000</td>\n",
       "      <td>374.000000</td>\n",
       "    </tr>\n",
       "    <tr>\n",
       "      <th>mean</th>\n",
       "      <td>1.599566e+18</td>\n",
       "      <td>981.008021</td>\n",
       "      <td>902.414439</td>\n",
       "      <td>887.367465</td>\n",
       "      <td>22.034773</td>\n",
       "      <td>73280.117647</td>\n",
       "      <td>1203.673797</td>\n",
       "    </tr>\n",
       "    <tr>\n",
       "      <th>std</th>\n",
       "      <td>9.340595e+15</td>\n",
       "      <td>1278.005462</td>\n",
       "      <td>1176.685369</td>\n",
       "      <td>1022.355578</td>\n",
       "      <td>34.076695</td>\n",
       "      <td>103901.093482</td>\n",
       "      <td>2186.822792</td>\n",
       "    </tr>\n",
       "    <tr>\n",
       "      <th>min</th>\n",
       "      <td>1.583453e+18</td>\n",
       "      <td>0.000000</td>\n",
       "      <td>0.000000</td>\n",
       "      <td>0.857000</td>\n",
       "      <td>0.000000</td>\n",
       "      <td>1.000000</td>\n",
       "      <td>1.000000</td>\n",
       "    </tr>\n",
       "    <tr>\n",
       "      <th>25%</th>\n",
       "      <td>1.591510e+18</td>\n",
       "      <td>27.500000</td>\n",
       "      <td>14.000000</td>\n",
       "      <td>18.749750</td>\n",
       "      <td>0.000000</td>\n",
       "      <td>1528.500000</td>\n",
       "      <td>28.000000</td>\n",
       "    </tr>\n",
       "    <tr>\n",
       "      <th>50%</th>\n",
       "      <td>1.599566e+18</td>\n",
       "      <td>213.500000</td>\n",
       "      <td>117.500000</td>\n",
       "      <td>131.143000</td>\n",
       "      <td>0.714000</td>\n",
       "      <td>4807.500000</td>\n",
       "      <td>39.500000</td>\n",
       "    </tr>\n",
       "    <tr>\n",
       "      <th>75%</th>\n",
       "      <td>1.607623e+18</td>\n",
       "      <td>1702.000000</td>\n",
       "      <td>1843.750000</td>\n",
       "      <td>1944.321000</td>\n",
       "      <td>26.071500</td>\n",
       "      <td>126545.500000</td>\n",
       "      <td>1117.500000</td>\n",
       "    </tr>\n",
       "    <tr>\n",
       "      <th>max</th>\n",
       "      <td>1.615680e+18</td>\n",
       "      <td>3842.000000</td>\n",
       "      <td>6315.000000</td>\n",
       "      <td>3259.857000</td>\n",
       "      <td>102.429000</td>\n",
       "      <td>337503.000000</td>\n",
       "      <td>8528.000000</td>\n",
       "    </tr>\n",
       "  </tbody>\n",
       "</table>\n",
       "</div>"
      ],
      "text/plain": [
       "               date  hosp_patients    new_cases  new_cases_smoothed  \\\n",
       "count  3.740000e+02     374.000000   374.000000          374.000000   \n",
       "mean   1.599566e+18     981.008021   902.414439          887.367465   \n",
       "std    9.340595e+15    1278.005462  1176.685369         1022.355578   \n",
       "min    1.583453e+18       0.000000     0.000000            0.857000   \n",
       "25%    1.591510e+18      27.500000    14.000000           18.749750   \n",
       "50%    1.599566e+18     213.500000   117.500000          131.143000   \n",
       "75%    1.607623e+18    1702.000000  1843.750000         1944.321000   \n",
       "max    1.615680e+18    3842.000000  6315.000000         3259.857000   \n",
       "\n",
       "       new_deaths_smoothed    total_cases  total_deaths  \n",
       "count           374.000000     374.000000    374.000000  \n",
       "mean             22.034773   73280.117647   1203.673797  \n",
       "std              34.076695  103901.093482   2186.822792  \n",
       "min               0.000000       1.000000      1.000000  \n",
       "25%               0.000000    1528.500000     28.000000  \n",
       "50%               0.714000    4807.500000     39.500000  \n",
       "75%              26.071500  126545.500000   1117.500000  \n",
       "max             102.429000  337503.000000   8528.000000  "
      ]
     },
     "execution_count": 204,
     "metadata": {},
     "output_type": "execute_result"
    }
   ],
   "source": [
    "df_slovakia.describe()"
   ]
  },
  {
   "cell_type": "markdown",
   "metadata": {},
   "source": [
    "# Linear Regression model"
   ]
  },
  {
   "cell_type": "code",
   "execution_count": 205,
   "metadata": {},
   "outputs": [],
   "source": [
    "#normalize data\n",
    "df_slovakia=(df_slovakia)/df_slovakia.max()"
   ]
  },
  {
   "cell_type": "code",
   "execution_count": 206,
   "metadata": {},
   "outputs": [
    {
     "name": "stdout",
     "output_type": "stream",
     "text": [
      "<class 'pandas.core.frame.DataFrame'>\n",
      "Int64Index: 374 entries, 60393 to 60766\n",
      "Data columns (total 7 columns):\n",
      " #   Column               Non-Null Count  Dtype  \n",
      "---  ------               --------------  -----  \n",
      " 0   date                 374 non-null    float64\n",
      " 1   hosp_patients        374 non-null    float64\n",
      " 2   new_cases            374 non-null    float64\n",
      " 3   new_cases_smoothed   374 non-null    float64\n",
      " 4   new_deaths_smoothed  374 non-null    float64\n",
      " 5   total_cases          374 non-null    float64\n",
      " 6   total_deaths         374 non-null    float64\n",
      "dtypes: float64(7)\n",
      "memory usage: 23.4 KB\n"
     ]
    }
   ],
   "source": [
    "df_slovakia.info()"
   ]
  },
  {
   "cell_type": "code",
   "execution_count": 207,
   "metadata": {},
   "outputs": [
    {
     "name": "stdout",
     "output_type": "stream",
     "text": [
      "number of test samples : 75\n",
      "number of training samples: 299\n"
     ]
    },
    {
     "data": {
      "text/html": [
       "<div>\n",
       "<style scoped>\n",
       "    .dataframe tbody tr th:only-of-type {\n",
       "        vertical-align: middle;\n",
       "    }\n",
       "\n",
       "    .dataframe tbody tr th {\n",
       "        vertical-align: top;\n",
       "    }\n",
       "\n",
       "    .dataframe thead th {\n",
       "        text-align: right;\n",
       "    }\n",
       "</style>\n",
       "<table border=\"1\" class=\"dataframe\">\n",
       "  <thead>\n",
       "    <tr style=\"text-align: right;\">\n",
       "      <th></th>\n",
       "      <th>date</th>\n",
       "      <th>hosp_patients</th>\n",
       "      <th>new_cases</th>\n",
       "      <th>new_deaths_smoothed</th>\n",
       "      <th>total_cases</th>\n",
       "      <th>total_deaths</th>\n",
       "    </tr>\n",
       "  </thead>\n",
       "  <tbody>\n",
       "    <tr>\n",
       "      <th>60393</th>\n",
       "      <td>0.980053</td>\n",
       "      <td>0.05557</td>\n",
       "      <td>0.000158</td>\n",
       "      <td>0.006971</td>\n",
       "      <td>0.000003</td>\n",
       "      <td>0.004632</td>\n",
       "    </tr>\n",
       "    <tr>\n",
       "      <th>60394</th>\n",
       "      <td>0.980107</td>\n",
       "      <td>0.05557</td>\n",
       "      <td>0.000000</td>\n",
       "      <td>0.006971</td>\n",
       "      <td>0.000003</td>\n",
       "      <td>0.004632</td>\n",
       "    </tr>\n",
       "    <tr>\n",
       "      <th>60395</th>\n",
       "      <td>0.980160</td>\n",
       "      <td>0.05557</td>\n",
       "      <td>0.000317</td>\n",
       "      <td>0.006971</td>\n",
       "      <td>0.000009</td>\n",
       "      <td>0.004632</td>\n",
       "    </tr>\n",
       "    <tr>\n",
       "      <th>60396</th>\n",
       "      <td>0.980214</td>\n",
       "      <td>0.05557</td>\n",
       "      <td>0.000000</td>\n",
       "      <td>0.006971</td>\n",
       "      <td>0.000009</td>\n",
       "      <td>0.004632</td>\n",
       "    </tr>\n",
       "    <tr>\n",
       "      <th>60397</th>\n",
       "      <td>0.980267</td>\n",
       "      <td>0.05557</td>\n",
       "      <td>0.000633</td>\n",
       "      <td>0.006971</td>\n",
       "      <td>0.000021</td>\n",
       "      <td>0.004632</td>\n",
       "    </tr>\n",
       "  </tbody>\n",
       "</table>\n",
       "</div>"
      ],
      "text/plain": [
       "           date  hosp_patients  new_cases  new_deaths_smoothed  total_cases  \\\n",
       "60393  0.980053        0.05557   0.000158             0.006971     0.000003   \n",
       "60394  0.980107        0.05557   0.000000             0.006971     0.000003   \n",
       "60395  0.980160        0.05557   0.000317             0.006971     0.000009   \n",
       "60396  0.980214        0.05557   0.000000             0.006971     0.000009   \n",
       "60397  0.980267        0.05557   0.000633             0.006971     0.000021   \n",
       "\n",
       "       total_deaths  \n",
       "60393      0.004632  \n",
       "60394      0.004632  \n",
       "60395      0.004632  \n",
       "60396      0.004632  \n",
       "60397      0.004632  "
      ]
     },
     "execution_count": 207,
     "metadata": {},
     "output_type": "execute_result"
    }
   ],
   "source": [
    "from sklearn.linear_model import LinearRegression\n",
    "from sklearn.model_selection import train_test_split\n",
    "y_data = df_slovakia['new_cases_smoothed']\n",
    "x_data = df_slovakia[['date','hosp_patients','new_cases','new_deaths_smoothed',\n",
    "                      'total_cases','total_deaths']]\n",
    "x_train, x_test, y_train, y_test = train_test_split(x_data, y_data, test_size=0.2, random_state=1)\n",
    "\n",
    "print(\"number of test samples :\", x_test.shape[0])\n",
    "print(\"number of training samples:\",x_train.shape[0])\n",
    "x_data.head(5)"
   ]
  },
  {
   "cell_type": "code",
   "execution_count": 208,
   "metadata": {},
   "outputs": [],
   "source": [
    "lm = LinearRegression()\n",
    "lm.fit(x_train, y_train)\n",
    "Y_hat=lm.predict(x_test)"
   ]
  },
  {
   "cell_type": "code",
   "execution_count": 209,
   "metadata": {},
   "outputs": [
    {
     "name": "stdout",
     "output_type": "stream",
     "text": [
      "Coefficients:  [ 6.5068131   0.01116184  0.51039729 -0.1218204   1.61912537 -1.21888842]\n",
      "Intercept:  -6.397017327010474\n",
      "Train score : 0.9284195751389023\n",
      "Test score : 0.9080099070677086\n"
     ]
    }
   ],
   "source": [
    "print ('Coefficients: ', lm.coef_)\n",
    "print ('Intercept: ' , lm.intercept_)\n",
    "print('Train score :',lm.score(x_train, y_train))\n",
    "print('Test score :', lm.score(x_test, y_test) )"
   ]
  },
  {
   "cell_type": "code",
   "execution_count": 210,
   "metadata": {},
   "outputs": [
    {
     "data": {
      "text/plain": [
       "0.008672668469244632"
      ]
     },
     "execution_count": 210,
     "metadata": {},
     "output_type": "execute_result"
    }
   ],
   "source": [
    "from sklearn.metrics import mean_squared_error\n",
    "mean_squared_error(y_test,Y_hat)\n",
    "#print('Mean Square error:')"
   ]
  },
  {
   "cell_type": "code",
   "execution_count": 211,
   "metadata": {},
   "outputs": [
    {
     "data": {
      "text/plain": [
       "0.008672668469244632"
      ]
     },
     "execution_count": 211,
     "metadata": {},
     "output_type": "execute_result"
    }
   ],
   "source": [
    "from sklearn.metrics import mean_squared_error\n",
    "mean_squared_error(y_test,Y_hat)\n",
    "#print('Mean Square error:')"
   ]
  },
  {
   "cell_type": "code",
   "execution_count": 212,
   "metadata": {},
   "outputs": [
    {
     "data": {
      "text/plain": [
       "0.06429588504622123"
      ]
     },
     "execution_count": 212,
     "metadata": {},
     "output_type": "execute_result"
    }
   ],
   "source": [
    "from sklearn.metrics import mean_absolute_error\n",
    "mean_absolute_error(y_test,Y_hat)"
   ]
  },
  {
   "cell_type": "code",
   "execution_count": 213,
   "metadata": {},
   "outputs": [
    {
     "data": {
      "text/plain": [
       "0.9080099070677086"
      ]
     },
     "execution_count": 213,
     "metadata": {},
     "output_type": "execute_result"
    }
   ],
   "source": [
    "from sklearn.metrics import r2_score\n",
    "r2_score(y_test,Y_hat)"
   ]
  },
  {
   "cell_type": "markdown",
   "metadata": {},
   "source": [
    "# Evaluate the model using K-fold cross validation for the original country."
   ]
  },
  {
   "cell_type": "code",
   "execution_count": 214,
   "metadata": {},
   "outputs": [],
   "source": [
    "#K-Fold CV"
   ]
  },
  {
   "cell_type": "code",
   "execution_count": 215,
   "metadata": {},
   "outputs": [
    {
     "data": {
      "text/plain": [
       "array([0.9091974 , 0.92743163, 0.92053305, 0.91197629, 0.92678376])"
      ]
     },
     "execution_count": 215,
     "metadata": {},
     "output_type": "execute_result"
    }
   ],
   "source": [
    "lm = LinearRegression()\n",
    "scores = cross_val_score(lm, x_train, y_train, scoring='r2', cv=5)\n",
    "scores "
   ]
  },
  {
   "cell_type": "code",
   "execution_count": 216,
   "metadata": {},
   "outputs": [
    {
     "data": {
      "text/plain": [
       "array([0.95458464, 0.88338037, 0.94823894, 0.89044623, 0.88346146])"
      ]
     },
     "execution_count": 216,
     "metadata": {},
     "output_type": "execute_result"
    }
   ],
   "source": [
    "# create a KFold object with 5 splits \n",
    "folds = KFold(n_splits = 5, shuffle = True, random_state = 100)\n",
    "scores = cross_val_score(lm, x_train, y_train, scoring='r2', cv=folds)\n",
    "scores   \n",
    " "
   ]
  },
  {
   "cell_type": "code",
   "execution_count": 217,
   "metadata": {},
   "outputs": [
    {
     "data": {
      "text/plain": [
       "array([-0.00906938, -0.00777548, -0.00854298, -0.00739361, -0.00681068])"
      ]
     },
     "execution_count": 217,
     "metadata": {},
     "output_type": "execute_result"
    }
   ],
   "source": [
    "# can tune other metrics, such as MSE\n",
    "scores = cross_val_score(lm, x_train, y_train, scoring='neg_mean_squared_error', cv=5)\n",
    "scores"
   ]
  },
  {
   "cell_type": "code",
   "execution_count": 218,
   "metadata": {},
   "outputs": [],
   "source": [
    "#break"
   ]
  },
  {
   "cell_type": "markdown",
   "metadata": {},
   "source": [
    "# Evaluate the model using K-fold cross validation on the other country."
   ]
  },
  {
   "cell_type": "code",
   "execution_count": 219,
   "metadata": {},
   "outputs": [],
   "source": [
    "#Evaluate the model using K-fold cross validation on the other country."
   ]
  },
  {
   "cell_type": "code",
   "execution_count": 220,
   "metadata": {},
   "outputs": [],
   "source": [
    "#New Zealand"
   ]
  },
  {
   "cell_type": "code",
   "execution_count": null,
   "metadata": {},
   "outputs": [],
   "source": []
  }
 ],
 "metadata": {
  "kernelspec": {
   "display_name": "Python 3",
   "language": "python",
   "name": "python3"
  },
  "language_info": {
   "codemirror_mode": {
    "name": "ipython",
    "version": 3
   },
   "file_extension": ".py",
   "mimetype": "text/x-python",
   "name": "python",
   "nbconvert_exporter": "python",
   "pygments_lexer": "ipython3",
   "version": "3.8.3"
  }
 },
 "nbformat": 4,
 "nbformat_minor": 4
}
