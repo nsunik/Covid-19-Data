{
 "cells": [
  {
   "cell_type": "markdown",
   "metadata": {},
   "source": [
    "# Slovakia EDA"
   ]
  },
  {
   "cell_type": "markdown",
   "metadata": {},
   "source": [
    "# Predicting the number of active cases in Slovakia."
   ]
  },
  {
   "cell_type": "markdown",
   "metadata": {},
   "source": [
    "# Goal of the project - To recommend timeline for reopening/lockdown. For this, the main quantities that we'll be trying to estimate throughout time for a given region are:\n",
    "\n",
    "#Number of available beds at hospitals.\n",
    "#Number of active cases.\n",
    "#Number of cumulated deaths.\n",
    "#Number of recovered."
   ]
  },
  {
   "cell_type": "code",
   "execution_count": 1,
   "metadata": {},
   "outputs": [],
   "source": [
    "##2- Importing required libraries"
   ]
  },
  {
   "cell_type": "code",
   "execution_count": 2,
   "metadata": {},
   "outputs": [],
   "source": [
    "import pandas as pd\n",
    "import matplotlib.pyplot as plt\n",
    "import time\n",
    "%matplotlib inline\n",
    "import seaborn as sns\n",
    "import scipy as sp\n",
    "from scipy.stats import norm\n",
    "from scipy.stats import skew\n",
    "from sklearn.preprocessing import StandardScaler\n",
    "from sklearn.model_selection import train_test_split\n",
    "from sklearn.linear_model import LinearRegression\n",
    "from sklearn.preprocessing import MinMaxScaler\n",
    "from sklearn.model_selection import cross_val_score\n",
    "from sklearn.model_selection import KFold\n",
    "import warnings\n",
    "warnings.filterwarnings(\"ignore\") "
   ]
  },
  {
   "cell_type": "markdown",
   "metadata": {},
   "source": [
    "pandas- allows easy manipulation of data structures\n",
    "NumPy- allows scientific computing\n",
    "sklearn- A machine learning library for python\n",
    "Matplotlib -is a library for creating static, animated, and interactive visualizations in Python.\n",
    "Seaborn -is a data visualization library in Python based on matplotlib.\n",
    "SciPy is a scientific computation library that uses NumPy underneath"
   ]
  },
  {
   "cell_type": "code",
   "execution_count": 3,
   "metadata": {},
   "outputs": [],
   "source": [
    "##3- Loading the dataset"
   ]
  },
  {
   "cell_type": "code",
   "execution_count": 4,
   "metadata": {},
   "outputs": [],
   "source": [
    "# Reading CSV File\n",
    "df=pd.read_csv(r'C:\\Users\\DELL\\Downloads\\linear-comprehensive-covid-data.csv')"
   ]
  },
  {
   "cell_type": "code",
   "execution_count": 5,
   "metadata": {},
   "outputs": [
    {
     "data": {
      "text/html": [
       "<div>\n",
       "<style scoped>\n",
       "    .dataframe tbody tr th:only-of-type {\n",
       "        vertical-align: middle;\n",
       "    }\n",
       "\n",
       "    .dataframe tbody tr th {\n",
       "        vertical-align: top;\n",
       "    }\n",
       "\n",
       "    .dataframe thead th {\n",
       "        text-align: right;\n",
       "    }\n",
       "</style>\n",
       "<table border=\"1\" class=\"dataframe\">\n",
       "  <thead>\n",
       "    <tr style=\"text-align: right;\">\n",
       "      <th></th>\n",
       "      <th>iso_code</th>\n",
       "      <th>continent</th>\n",
       "      <th>location</th>\n",
       "      <th>date</th>\n",
       "      <th>total_cases</th>\n",
       "      <th>new_cases</th>\n",
       "      <th>new_cases_smoothed</th>\n",
       "      <th>total_deaths</th>\n",
       "      <th>new_deaths</th>\n",
       "      <th>new_deaths_smoothed</th>\n",
       "      <th>...</th>\n",
       "      <th>gdp_per_capita</th>\n",
       "      <th>extreme_poverty</th>\n",
       "      <th>cardiovasc_death_rate</th>\n",
       "      <th>diabetes_prevalence</th>\n",
       "      <th>female_smokers</th>\n",
       "      <th>male_smokers</th>\n",
       "      <th>handwashing_facilities</th>\n",
       "      <th>hospital_beds_per_thousand</th>\n",
       "      <th>life_expectancy</th>\n",
       "      <th>human_development_index</th>\n",
       "    </tr>\n",
       "  </thead>\n",
       "  <tbody>\n",
       "    <tr>\n",
       "      <th>0</th>\n",
       "      <td>AFG</td>\n",
       "      <td>Asia</td>\n",
       "      <td>Afghanistan</td>\n",
       "      <td>24-02-2020</td>\n",
       "      <td>1.0</td>\n",
       "      <td>1.0</td>\n",
       "      <td>NaN</td>\n",
       "      <td>NaN</td>\n",
       "      <td>NaN</td>\n",
       "      <td>NaN</td>\n",
       "      <td>...</td>\n",
       "      <td>1803.987</td>\n",
       "      <td>NaN</td>\n",
       "      <td>597.029</td>\n",
       "      <td>9.59</td>\n",
       "      <td>NaN</td>\n",
       "      <td>NaN</td>\n",
       "      <td>37.746</td>\n",
       "      <td>0.5</td>\n",
       "      <td>64.83</td>\n",
       "      <td>0.511</td>\n",
       "    </tr>\n",
       "    <tr>\n",
       "      <th>1</th>\n",
       "      <td>AFG</td>\n",
       "      <td>Asia</td>\n",
       "      <td>Afghanistan</td>\n",
       "      <td>25-02-2020</td>\n",
       "      <td>1.0</td>\n",
       "      <td>0.0</td>\n",
       "      <td>NaN</td>\n",
       "      <td>NaN</td>\n",
       "      <td>NaN</td>\n",
       "      <td>NaN</td>\n",
       "      <td>...</td>\n",
       "      <td>1803.987</td>\n",
       "      <td>NaN</td>\n",
       "      <td>597.029</td>\n",
       "      <td>9.59</td>\n",
       "      <td>NaN</td>\n",
       "      <td>NaN</td>\n",
       "      <td>37.746</td>\n",
       "      <td>0.5</td>\n",
       "      <td>64.83</td>\n",
       "      <td>0.511</td>\n",
       "    </tr>\n",
       "    <tr>\n",
       "      <th>2</th>\n",
       "      <td>AFG</td>\n",
       "      <td>Asia</td>\n",
       "      <td>Afghanistan</td>\n",
       "      <td>26-02-2020</td>\n",
       "      <td>1.0</td>\n",
       "      <td>0.0</td>\n",
       "      <td>NaN</td>\n",
       "      <td>NaN</td>\n",
       "      <td>NaN</td>\n",
       "      <td>NaN</td>\n",
       "      <td>...</td>\n",
       "      <td>1803.987</td>\n",
       "      <td>NaN</td>\n",
       "      <td>597.029</td>\n",
       "      <td>9.59</td>\n",
       "      <td>NaN</td>\n",
       "      <td>NaN</td>\n",
       "      <td>37.746</td>\n",
       "      <td>0.5</td>\n",
       "      <td>64.83</td>\n",
       "      <td>0.511</td>\n",
       "    </tr>\n",
       "    <tr>\n",
       "      <th>3</th>\n",
       "      <td>AFG</td>\n",
       "      <td>Asia</td>\n",
       "      <td>Afghanistan</td>\n",
       "      <td>27-02-2020</td>\n",
       "      <td>1.0</td>\n",
       "      <td>0.0</td>\n",
       "      <td>NaN</td>\n",
       "      <td>NaN</td>\n",
       "      <td>NaN</td>\n",
       "      <td>NaN</td>\n",
       "      <td>...</td>\n",
       "      <td>1803.987</td>\n",
       "      <td>NaN</td>\n",
       "      <td>597.029</td>\n",
       "      <td>9.59</td>\n",
       "      <td>NaN</td>\n",
       "      <td>NaN</td>\n",
       "      <td>37.746</td>\n",
       "      <td>0.5</td>\n",
       "      <td>64.83</td>\n",
       "      <td>0.511</td>\n",
       "    </tr>\n",
       "    <tr>\n",
       "      <th>4</th>\n",
       "      <td>AFG</td>\n",
       "      <td>Asia</td>\n",
       "      <td>Afghanistan</td>\n",
       "      <td>28-02-2020</td>\n",
       "      <td>1.0</td>\n",
       "      <td>0.0</td>\n",
       "      <td>NaN</td>\n",
       "      <td>NaN</td>\n",
       "      <td>NaN</td>\n",
       "      <td>NaN</td>\n",
       "      <td>...</td>\n",
       "      <td>1803.987</td>\n",
       "      <td>NaN</td>\n",
       "      <td>597.029</td>\n",
       "      <td>9.59</td>\n",
       "      <td>NaN</td>\n",
       "      <td>NaN</td>\n",
       "      <td>37.746</td>\n",
       "      <td>0.5</td>\n",
       "      <td>64.83</td>\n",
       "      <td>0.511</td>\n",
       "    </tr>\n",
       "  </tbody>\n",
       "</table>\n",
       "<p>5 rows × 59 columns</p>\n",
       "</div>"
      ],
      "text/plain": [
       "  iso_code continent     location        date  total_cases  new_cases  \\\n",
       "0      AFG      Asia  Afghanistan  24-02-2020          1.0        1.0   \n",
       "1      AFG      Asia  Afghanistan  25-02-2020          1.0        0.0   \n",
       "2      AFG      Asia  Afghanistan  26-02-2020          1.0        0.0   \n",
       "3      AFG      Asia  Afghanistan  27-02-2020          1.0        0.0   \n",
       "4      AFG      Asia  Afghanistan  28-02-2020          1.0        0.0   \n",
       "\n",
       "   new_cases_smoothed  total_deaths  new_deaths  new_deaths_smoothed  ...  \\\n",
       "0                 NaN           NaN         NaN                  NaN  ...   \n",
       "1                 NaN           NaN         NaN                  NaN  ...   \n",
       "2                 NaN           NaN         NaN                  NaN  ...   \n",
       "3                 NaN           NaN         NaN                  NaN  ...   \n",
       "4                 NaN           NaN         NaN                  NaN  ...   \n",
       "\n",
       "   gdp_per_capita  extreme_poverty  cardiovasc_death_rate  \\\n",
       "0        1803.987              NaN                597.029   \n",
       "1        1803.987              NaN                597.029   \n",
       "2        1803.987              NaN                597.029   \n",
       "3        1803.987              NaN                597.029   \n",
       "4        1803.987              NaN                597.029   \n",
       "\n",
       "   diabetes_prevalence  female_smokers  male_smokers  handwashing_facilities  \\\n",
       "0                 9.59             NaN           NaN                  37.746   \n",
       "1                 9.59             NaN           NaN                  37.746   \n",
       "2                 9.59             NaN           NaN                  37.746   \n",
       "3                 9.59             NaN           NaN                  37.746   \n",
       "4                 9.59             NaN           NaN                  37.746   \n",
       "\n",
       "   hospital_beds_per_thousand  life_expectancy  human_development_index  \n",
       "0                         0.5            64.83                    0.511  \n",
       "1                         0.5            64.83                    0.511  \n",
       "2                         0.5            64.83                    0.511  \n",
       "3                         0.5            64.83                    0.511  \n",
       "4                         0.5            64.83                    0.511  \n",
       "\n",
       "[5 rows x 59 columns]"
      ]
     },
     "execution_count": 5,
     "metadata": {},
     "output_type": "execute_result"
    }
   ],
   "source": [
    "df.head()\n",
    "#basic data analysis,quick view of data set\n",
    "#showes first five rows of the data set"
   ]
  },
  {
   "cell_type": "code",
   "execution_count": 6,
   "metadata": {},
   "outputs": [
    {
     "data": {
      "text/plain": [
       "(74866, 59)"
      ]
     },
     "execution_count": 6,
     "metadata": {},
     "output_type": "execute_result"
    }
   ],
   "source": [
    "df.shape"
   ]
  },
  {
   "cell_type": "code",
   "execution_count": 7,
   "metadata": {},
   "outputs": [
    {
     "name": "stdout",
     "output_type": "stream",
     "text": [
      "<class 'pandas.core.frame.DataFrame'>\n",
      "RangeIndex: 74866 entries, 0 to 74865\n",
      "Data columns (total 59 columns):\n",
      " #   Column                                 Non-Null Count  Dtype  \n",
      "---  ------                                 --------------  -----  \n",
      " 0   iso_code                               74866 non-null  object \n",
      " 1   continent                              71169 non-null  object \n",
      " 2   location                               74866 non-null  object \n",
      " 3   date                                   74866 non-null  object \n",
      " 4   total_cases                            73719 non-null  float64\n",
      " 5   new_cases                              73717 non-null  float64\n",
      " 6   new_cases_smoothed                     72716 non-null  float64\n",
      " 7   total_deaths                           64490 non-null  float64\n",
      " 8   new_deaths                             64648 non-null  float64\n",
      " 9   new_deaths_smoothed                    72716 non-null  float64\n",
      " 10  total_cases_per_million                73317 non-null  float64\n",
      " 11  new_cases_per_million                  73315 non-null  float64\n",
      " 12  new_cases_smoothed_per_million         72319 non-null  float64\n",
      " 13  total_deaths_per_million               64101 non-null  float64\n",
      " 14  new_deaths_per_million                 64259 non-null  float64\n",
      " 15  new_deaths_smoothed_per_million        72319 non-null  float64\n",
      " 16  reproduction_rate                      60388 non-null  float64\n",
      " 17  icu_patients                           7759 non-null   float64\n",
      " 18  icu_patients_per_million               7759 non-null   float64\n",
      " 19  hosp_patients                          9337 non-null   float64\n",
      " 20  hosp_patients_per_million              9337 non-null   float64\n",
      " 21  weekly_icu_admissions                  683 non-null    float64\n",
      " 22  weekly_icu_admissions_per_million      683 non-null    float64\n",
      " 23  weekly_hosp_admissions                 1261 non-null   float64\n",
      " 24  weekly_hosp_admissions_per_million     1261 non-null   float64\n",
      " 25  new_tests                              34159 non-null  float64\n",
      " 26  total_tests                            33928 non-null  float64\n",
      " 27  total_tests_per_thousand               33928 non-null  float64\n",
      " 28  new_tests_per_thousand                 34159 non-null  float64\n",
      " 29  new_tests_smoothed                     38987 non-null  float64\n",
      " 30  new_tests_smoothed_per_thousand        38987 non-null  float64\n",
      " 31  positive_rate                          37720 non-null  float64\n",
      " 32  tests_per_case                         37141 non-null  float64\n",
      " 33  tests_units                            40326 non-null  object \n",
      " 34  total_vaccinations                     3963 non-null   float64\n",
      " 35  people_vaccinated                      3516 non-null   float64\n",
      " 36  people_fully_vaccinated                2333 non-null   float64\n",
      " 37  new_vaccinations                       3350 non-null   float64\n",
      " 38  new_vaccinations_smoothed              5939 non-null   float64\n",
      " 39  total_vaccinations_per_hundred         3963 non-null   float64\n",
      " 40  people_vaccinated_per_hundred          3516 non-null   float64\n",
      " 41  people_fully_vaccinated_per_hundred    2333 non-null   float64\n",
      " 42  new_vaccinations_smoothed_per_million  5939 non-null   float64\n",
      " 43  stringency_index                       64056 non-null  float64\n",
      " 44  population                             74455 non-null  float64\n",
      " 45  population_density                     69940 non-null  float64\n",
      " 46  median_age                             67972 non-null  float64\n",
      " 47  aged_65_older                          67190 non-null  float64\n",
      " 48  aged_70_older                          67589 non-null  float64\n",
      " 49  gdp_per_capita                         68194 non-null  float64\n",
      " 50  extreme_poverty                        46529 non-null  float64\n",
      " 51  cardiovasc_death_rate                  68812 non-null  float64\n",
      " 52  diabetes_prevalence                    69694 non-null  float64\n",
      " 53  female_smokers                         54078 non-null  float64\n",
      " 54  male_smokers                           53335 non-null  float64\n",
      " 55  handwashing_facilities                 34542 non-null  float64\n",
      " 56  hospital_beds_per_thousand             62969 non-null  float64\n",
      " 57  life_expectancy                        71130 non-null  float64\n",
      " 58  human_development_index                68755 non-null  float64\n",
      "dtypes: float64(54), object(5)\n",
      "memory usage: 33.7+ MB\n"
     ]
    }
   ],
   "source": [
    "df.info()\n",
    "#Summary of data frame, including the index datatype and column dtypes, non-null values and memory usage\n",
    "#This method prints information about a DataFrame including the index dtype and column dtypes,"
   ]
  },
  {
   "cell_type": "markdown",
   "metadata": {},
   "source": [
    "# Exploratory data analysis for the country Slovakia. From covid 19 world dataset Select data where location=Slovakia"
   ]
  },
  {
   "cell_type": "code",
   "execution_count": 8,
   "metadata": {},
   "outputs": [],
   "source": [
    "df_slovakia=df[(df['location']=='Slovakia')]"
   ]
  },
  {
   "cell_type": "code",
   "execution_count": 9,
   "metadata": {},
   "outputs": [
    {
     "name": "stdout",
     "output_type": "stream",
     "text": [
      "The shape of the data frame is (374, 59)\n",
      "The columns of the data frame are Index(['iso_code', 'continent', 'location', 'date', 'total_cases', 'new_cases',\n",
      "       'new_cases_smoothed', 'total_deaths', 'new_deaths',\n",
      "       'new_deaths_smoothed', 'total_cases_per_million',\n",
      "       'new_cases_per_million', 'new_cases_smoothed_per_million',\n",
      "       'total_deaths_per_million', 'new_deaths_per_million',\n",
      "       'new_deaths_smoothed_per_million', 'reproduction_rate', 'icu_patients',\n",
      "       'icu_patients_per_million', 'hosp_patients',\n",
      "       'hosp_patients_per_million', 'weekly_icu_admissions',\n",
      "       'weekly_icu_admissions_per_million', 'weekly_hosp_admissions',\n",
      "       'weekly_hosp_admissions_per_million', 'new_tests', 'total_tests',\n",
      "       'total_tests_per_thousand', 'new_tests_per_thousand',\n",
      "       'new_tests_smoothed', 'new_tests_smoothed_per_thousand',\n",
      "       'positive_rate', 'tests_per_case', 'tests_units', 'total_vaccinations',\n",
      "       'people_vaccinated', 'people_fully_vaccinated', 'new_vaccinations',\n",
      "       'new_vaccinations_smoothed', 'total_vaccinations_per_hundred',\n",
      "       'people_vaccinated_per_hundred', 'people_fully_vaccinated_per_hundred',\n",
      "       'new_vaccinations_smoothed_per_million', 'stringency_index',\n",
      "       'population', 'population_density', 'median_age', 'aged_65_older',\n",
      "       'aged_70_older', 'gdp_per_capita', 'extreme_poverty',\n",
      "       'cardiovasc_death_rate', 'diabetes_prevalence', 'female_smokers',\n",
      "       'male_smokers', 'handwashing_facilities', 'hospital_beds_per_thousand',\n",
      "       'life_expectancy', 'human_development_index'],\n",
      "      dtype='object')\n"
     ]
    }
   ],
   "source": [
    "print(\"The shape of the data frame is\", (df_slovakia.shape))\n",
    "print(\"The columns of the data frame are\" , (df_slovakia.columns))"
   ]
  },
  {
   "cell_type": "markdown",
   "metadata": {},
   "source": [
    "# Number of missing values per column."
   ]
  },
  {
   "cell_type": "code",
   "execution_count": 10,
   "metadata": {},
   "outputs": [
    {
     "data": {
      "text/plain": [
       "iso_code                                   0\n",
       "continent                                  0\n",
       "location                                   0\n",
       "date                                       0\n",
       "total_cases                                0\n",
       "new_cases                                  0\n",
       "new_cases_smoothed                         5\n",
       "total_deaths                              26\n",
       "new_deaths                                26\n",
       "new_deaths_smoothed                        5\n",
       "total_cases_per_million                    0\n",
       "new_cases_per_million                      0\n",
       "new_cases_smoothed_per_million             5\n",
       "total_deaths_per_million                  26\n",
       "new_deaths_per_million                    26\n",
       "new_deaths_smoothed_per_million            5\n",
       "reproduction_rate                         14\n",
       "icu_patients                             374\n",
       "icu_patients_per_million                 374\n",
       "hosp_patients                             62\n",
       "hosp_patients_per_million                 62\n",
       "weekly_icu_admissions                    374\n",
       "weekly_icu_admissions_per_million        374\n",
       "weekly_hosp_admissions                   374\n",
       "weekly_hosp_admissions_per_million       374\n",
       "new_tests                                  1\n",
       "total_tests                                1\n",
       "total_tests_per_thousand                   1\n",
       "new_tests_per_thousand                     1\n",
       "new_tests_smoothed                         8\n",
       "new_tests_smoothed_per_thousand            8\n",
       "positive_rate                              7\n",
       "tests_per_case                            13\n",
       "tests_units                                1\n",
       "total_vaccinations                       305\n",
       "people_vaccinated                        305\n",
       "people_fully_vaccinated                  319\n",
       "new_vaccinations                         306\n",
       "new_vaccinations_smoothed                306\n",
       "total_vaccinations_per_hundred           305\n",
       "people_vaccinated_per_hundred            305\n",
       "people_fully_vaccinated_per_hundred      319\n",
       "new_vaccinations_smoothed_per_million    306\n",
       "stringency_index                           7\n",
       "population                                 0\n",
       "population_density                         0\n",
       "median_age                                 0\n",
       "aged_65_older                              0\n",
       "aged_70_older                              0\n",
       "gdp_per_capita                             0\n",
       "extreme_poverty                            0\n",
       "cardiovasc_death_rate                      0\n",
       "diabetes_prevalence                        0\n",
       "female_smokers                             0\n",
       "male_smokers                               0\n",
       "handwashing_facilities                   374\n",
       "hospital_beds_per_thousand                 0\n",
       "life_expectancy                            0\n",
       "human_development_index                    0\n",
       "dtype: int64"
      ]
     },
     "execution_count": 10,
     "metadata": {},
     "output_type": "execute_result"
    }
   ],
   "source": [
    "# number of missing value per column\n",
    "df_slovakia.isnull().sum()"
   ]
  },
  {
   "cell_type": "markdown",
   "metadata": {},
   "source": [
    "# Remove unnecessary columns,columns having lot of missing values,and columns having duplicate name"
   ]
  },
  {
   "cell_type": "code",
   "execution_count": 11,
   "metadata": {},
   "outputs": [],
   "source": [
    "df_slovakia.drop(['handwashing_facilities','icu_patients','icu_patients_per_million','new_vaccinations','new_vaccinations_smoothed',\n",
    "                  'location','iso_code','continent','location','new_vaccinations_smoothed_per_million','people_fully_vaccinated','people_fully_vaccinated_per_hundred',\n",
    "                    'people_vaccinated','people_vaccinated_per_hundred','weekly_icu_admissions_per_million','weekly_icu_admissions','weekly_hosp_admissions_per_million',\n",
    "                  'weekly_hosp_admissions','total_vaccinations','total_vaccinations_per_hundred','continent','iso_code'],axis=1, inplace=True)"
   ]
  },
  {
   "cell_type": "markdown",
   "metadata": {},
   "source": [
    "# Drop the  duplicate variables with  different scale\n"
   ]
  },
  {
   "cell_type": "code",
   "execution_count": 12,
   "metadata": {},
   "outputs": [],
   "source": [
    "df_slovakia.drop(['new_cases_smoothed_per_million','new_cases_per_million','hosp_patients_per_million','new_deaths_per_million','new_deaths_smoothed_per_million',\n",
    "'new_tests_per_thousand','new_tests_smoothed_per_thousand','total_tests_per_thousand','total_deaths_per_million','total_cases_per_million',                ],axis=1,inplace=True)"
   ]
  },
  {
   "cell_type": "code",
   "execution_count": 13,
   "metadata": {},
   "outputs": [
    {
     "name": "stdout",
     "output_type": "stream",
     "text": [
      "<class 'pandas.core.frame.DataFrame'>\n",
      "Int64Index: 374 entries, 60393 to 60766\n",
      "Data columns (total 30 columns):\n",
      " #   Column                      Non-Null Count  Dtype  \n",
      "---  ------                      --------------  -----  \n",
      " 0   date                        374 non-null    object \n",
      " 1   total_cases                 374 non-null    float64\n",
      " 2   new_cases                   374 non-null    float64\n",
      " 3   new_cases_smoothed          369 non-null    float64\n",
      " 4   total_deaths                348 non-null    float64\n",
      " 5   new_deaths                  348 non-null    float64\n",
      " 6   new_deaths_smoothed         369 non-null    float64\n",
      " 7   reproduction_rate           360 non-null    float64\n",
      " 8   hosp_patients               312 non-null    float64\n",
      " 9   new_tests                   373 non-null    float64\n",
      " 10  total_tests                 373 non-null    float64\n",
      " 11  new_tests_smoothed          366 non-null    float64\n",
      " 12  positive_rate               367 non-null    float64\n",
      " 13  tests_per_case              361 non-null    float64\n",
      " 14  tests_units                 373 non-null    object \n",
      " 15  stringency_index            367 non-null    float64\n",
      " 16  population                  374 non-null    float64\n",
      " 17  population_density          374 non-null    float64\n",
      " 18  median_age                  374 non-null    float64\n",
      " 19  aged_65_older               374 non-null    float64\n",
      " 20  aged_70_older               374 non-null    float64\n",
      " 21  gdp_per_capita              374 non-null    float64\n",
      " 22  extreme_poverty             374 non-null    float64\n",
      " 23  cardiovasc_death_rate       374 non-null    float64\n",
      " 24  diabetes_prevalence         374 non-null    float64\n",
      " 25  female_smokers              374 non-null    float64\n",
      " 26  male_smokers                374 non-null    float64\n",
      " 27  hospital_beds_per_thousand  374 non-null    float64\n",
      " 28  life_expectancy             374 non-null    float64\n",
      " 29  human_development_index     374 non-null    float64\n",
      "dtypes: float64(28), object(2)\n",
      "memory usage: 90.6+ KB\n"
     ]
    }
   ],
   "source": [
    "df_slovakia.info()"
   ]
  },
  {
   "cell_type": "markdown",
   "metadata": {},
   "source": [
    "# change object data type to numeric data type"
   ]
  },
  {
   "cell_type": "code",
   "execution_count": 14,
   "metadata": {},
   "outputs": [],
   "source": [
    "#convert date to date-time\n",
    "#date-time fromat to numeric"
   ]
  },
  {
   "cell_type": "code",
   "execution_count": 15,
   "metadata": {},
   "outputs": [],
   "source": [
    "#converting string date to date-time\n",
    "df_slovakia['date'] = pd.to_datetime(df_slovakia['date'])"
   ]
  },
  {
   "cell_type": "code",
   "execution_count": 16,
   "metadata": {},
   "outputs": [],
   "source": [
    "#date-time fromat to numeric dqta type\n",
    "df_slovakia['date'] = pd.to_numeric(df_slovakia['date'])"
   ]
  },
  {
   "cell_type": "markdown",
   "metadata": {},
   "source": [
    "# #change \"test_units\"object to numeric data type"
   ]
  },
  {
   "cell_type": "code",
   "execution_count": 17,
   "metadata": {},
   "outputs": [
    {
     "data": {
      "text/plain": [
       "tests performed    373\n",
       "Name: tests_units, dtype: int64"
      ]
     },
     "execution_count": 17,
     "metadata": {},
     "output_type": "execute_result"
    }
   ],
   "source": [
    "df_slovakia[\"tests_units\"].value_counts()"
   ]
  },
  {
   "cell_type": "code",
   "execution_count": 18,
   "metadata": {},
   "outputs": [],
   "source": [
    "# Convert categorical variable  tests_units into dummy(one hot encoding)\n",
    "test_performed=pd.get_dummies(df_slovakia['tests_units'])"
   ]
  },
  {
   "cell_type": "code",
   "execution_count": 19,
   "metadata": {},
   "outputs": [],
   "source": [
    "## add \"test_performed\" to df_slovakia data frame\n",
    "df_slovakia = pd.concat([df_slovakia,test_performed], axis=1)"
   ]
  },
  {
   "cell_type": "code",
   "execution_count": 20,
   "metadata": {},
   "outputs": [],
   "source": [
    "#drop \"tests_units\"\n",
    "df_slovakia.drop(['tests_units'],axis=1,inplace=True)"
   ]
  },
  {
   "cell_type": "code",
   "execution_count": 21,
   "metadata": {},
   "outputs": [
    {
     "name": "stdout",
     "output_type": "stream",
     "text": [
      "<class 'pandas.core.frame.DataFrame'>\n",
      "Int64Index: 374 entries, 60393 to 60766\n",
      "Data columns (total 30 columns):\n",
      " #   Column                      Non-Null Count  Dtype  \n",
      "---  ------                      --------------  -----  \n",
      " 0   date                        374 non-null    int64  \n",
      " 1   total_cases                 374 non-null    float64\n",
      " 2   new_cases                   374 non-null    float64\n",
      " 3   new_cases_smoothed          369 non-null    float64\n",
      " 4   total_deaths                348 non-null    float64\n",
      " 5   new_deaths                  348 non-null    float64\n",
      " 6   new_deaths_smoothed         369 non-null    float64\n",
      " 7   reproduction_rate           360 non-null    float64\n",
      " 8   hosp_patients               312 non-null    float64\n",
      " 9   new_tests                   373 non-null    float64\n",
      " 10  total_tests                 373 non-null    float64\n",
      " 11  new_tests_smoothed          366 non-null    float64\n",
      " 12  positive_rate               367 non-null    float64\n",
      " 13  tests_per_case              361 non-null    float64\n",
      " 14  stringency_index            367 non-null    float64\n",
      " 15  population                  374 non-null    float64\n",
      " 16  population_density          374 non-null    float64\n",
      " 17  median_age                  374 non-null    float64\n",
      " 18  aged_65_older               374 non-null    float64\n",
      " 19  aged_70_older               374 non-null    float64\n",
      " 20  gdp_per_capita              374 non-null    float64\n",
      " 21  extreme_poverty             374 non-null    float64\n",
      " 22  cardiovasc_death_rate       374 non-null    float64\n",
      " 23  diabetes_prevalence         374 non-null    float64\n",
      " 24  female_smokers              374 non-null    float64\n",
      " 25  male_smokers                374 non-null    float64\n",
      " 26  hospital_beds_per_thousand  374 non-null    float64\n",
      " 27  life_expectancy             374 non-null    float64\n",
      " 28  human_development_index     374 non-null    float64\n",
      " 29  tests performed             374 non-null    uint8  \n",
      "dtypes: float64(28), int64(1), uint8(1)\n",
      "memory usage: 88.0 KB\n"
     ]
    }
   ],
   "source": [
    "df_slovakia.info()"
   ]
  },
  {
   "cell_type": "code",
   "execution_count": null,
   "metadata": {},
   "outputs": [],
   "source": []
  },
  {
   "cell_type": "markdown",
   "metadata": {},
   "source": [
    "#  Exploratory data analysis"
   ]
  },
  {
   "cell_type": "code",
   "execution_count": 22,
   "metadata": {},
   "outputs": [],
   "source": [
    "##Univariate analysis and Imputation"
   ]
  },
  {
   "cell_type": "code",
   "execution_count": 23,
   "metadata": {},
   "outputs": [
    {
     "name": "stdout",
     "output_type": "stream",
     "text": [
      "175\n"
     ]
    }
   ],
   "source": [
    "print(df_slovakia.isnull().values.sum())"
   ]
  },
  {
   "cell_type": "code",
   "execution_count": 24,
   "metadata": {},
   "outputs": [
    {
     "data": {
      "text/plain": [
       "date                           0\n",
       "total_cases                    0\n",
       "new_cases                      0\n",
       "new_cases_smoothed             5\n",
       "total_deaths                  26\n",
       "new_deaths                    26\n",
       "new_deaths_smoothed            5\n",
       "reproduction_rate             14\n",
       "hosp_patients                 62\n",
       "new_tests                      1\n",
       "total_tests                    1\n",
       "new_tests_smoothed             8\n",
       "positive_rate                  7\n",
       "tests_per_case                13\n",
       "stringency_index               7\n",
       "population                     0\n",
       "population_density             0\n",
       "median_age                     0\n",
       "aged_65_older                  0\n",
       "aged_70_older                  0\n",
       "gdp_per_capita                 0\n",
       "extreme_poverty                0\n",
       "cardiovasc_death_rate          0\n",
       "diabetes_prevalence            0\n",
       "female_smokers                 0\n",
       "male_smokers                   0\n",
       "hospital_beds_per_thousand     0\n",
       "life_expectancy                0\n",
       "human_development_index        0\n",
       "tests performed                0\n",
       "dtype: int64"
      ]
     },
     "execution_count": 24,
     "metadata": {},
     "output_type": "execute_result"
    }
   ],
   "source": [
    "df_slovakia.isnull().sum()"
   ]
  },
  {
   "cell_type": "code",
   "execution_count": 25,
   "metadata": {},
   "outputs": [
    {
     "data": {
      "text/plain": [
       "Text(0.5, 1.0, 'Histogram of reproduction_rate')"
      ]
     },
     "execution_count": 25,
     "metadata": {},
     "output_type": "execute_result"
    },
    {
     "data": {
      "image/png": "[encoded data removed]",
      "text/plain": [
       "<Figure size 432x288 with 1 Axes>"
      ]
     },
     "metadata": {
      "needs_background": "light"
     },
     "output_type": "display_data"
    }
   ],
   "source": [
    "#new_cases_smoothed \n",
    "df_slovakia.reproduction_rate.hist()\n",
    "plt.plot()\n",
    "plt.title('Histogram of reproduction_rate')"
   ]
  },
  {
   "cell_type": "markdown",
   "metadata": {},
   "source": [
    "data is not normally distributed .fill the missing value with median"
   ]
  },
  {
   "cell_type": "code",
   "execution_count": 26,
   "metadata": {},
   "outputs": [],
   "source": [
    "df_slovakia[\"reproduction_rate\"].fillna(df_slovakia[\"reproduction_rate\"].median(), inplace = True)"
   ]
  },
  {
   "cell_type": "code",
   "execution_count": 27,
   "metadata": {},
   "outputs": [
    {
     "data": {
      "text/plain": [
       "Text(0.5, 1.0, 'Histogram of positive_rate')"
      ]
     },
     "execution_count": 27,
     "metadata": {},
     "output_type": "execute_result"
    },
    {
     "data": {
      "image/png": "[encoded data removed]",
      "text/plain": [
       "<Figure size 432x288 with 1 Axes>"
      ]
     },
     "metadata": {
      "needs_background": "light"
     },
     "output_type": "display_data"
    }
   ],
   "source": [
    "#new_cases_smoothed \n",
    "df_slovakia.positive_rate.hist()\n",
    "plt.plot()\n",
    "plt.title('Histogram of positive_rate')"
   ]
  },
  {
   "cell_type": "code",
   "execution_count": 28,
   "metadata": {},
   "outputs": [],
   "source": [
    "df_slovakia[\"positive_rate\"].fillna(df_slovakia[\"positive_rate\"].median(), inplace = True)"
   ]
  },
  {
   "cell_type": "code",
   "execution_count": 29,
   "metadata": {},
   "outputs": [
    {
     "data": {
      "text/plain": [
       "Text(0.5, 1.0, 'Histogram of total_tests')"
      ]
     },
     "execution_count": 29,
     "metadata": {},
     "output_type": "execute_result"
    },
    {
     "data": {
      "image/png": "[encoded data removed]",
      "text/plain": [
       "<Figure size 432x288 with 1 Axes>"
      ]
     },
     "metadata": {
      "needs_background": "light"
     },
     "output_type": "display_data"
    }
   ],
   "source": [
    "#total_tests\n",
    "df_slovakia.total_tests.hist()\n",
    "plt.plot()\n",
    "plt.title('Histogram of total_tests')"
   ]
  },
  {
   "cell_type": "code",
   "execution_count": 30,
   "metadata": {},
   "outputs": [],
   "source": [
    "df_slovakia[\"total_tests\"].fillna(df_slovakia[\"total_tests\"].median(), inplace = True)"
   ]
  },
  {
   "cell_type": "code",
   "execution_count": 31,
   "metadata": {},
   "outputs": [
    {
     "data": {
      "text/plain": [
       "Text(0.5, 1.0, 'Histogram of new_tests_smoothed')"
      ]
     },
     "execution_count": 31,
     "metadata": {},
     "output_type": "execute_result"
    },
    {
     "data": {
      "image/png": "[encoded data removed]",
      "text/plain": [
       "<Figure size 432x288 with 1 Axes>"
      ]
     },
     "metadata": {
      "needs_background": "light"
     },
     "output_type": "display_data"
    }
   ],
   "source": [
    "#new_tests_smoothed\n",
    "df_slovakia.new_tests_smoothed.hist()\n",
    "plt.plot()\n",
    "plt.title('Histogram of new_tests_smoothed')"
   ]
  },
  {
   "cell_type": "code",
   "execution_count": 32,
   "metadata": {},
   "outputs": [],
   "source": [
    "df_slovakia[\"new_tests_smoothed\"].fillna(df_slovakia[\"new_tests_smoothed\"].median(), inplace = True)"
   ]
  },
  {
   "cell_type": "code",
   "execution_count": 33,
   "metadata": {},
   "outputs": [
    {
     "data": {
      "text/plain": [
       "Text(0.5, 1.0, 'Histogram of total_deaths')"
      ]
     },
     "execution_count": 33,
     "metadata": {},
     "output_type": "execute_result"
    },
    {
     "data": {
      "image/png": "[encoded data removed]",
      "text/plain": [
       "<Figure size 432x288 with 1 Axes>"
      ]
     },
     "metadata": {
      "needs_background": "light"
     },
     "output_type": "display_data"
    }
   ],
   "source": [
    "#total_deaths and new_deaths and new_deaths_smoothed\n",
    "df_slovakia.total_deaths.hist()\n",
    "plt.plot()\n",
    "plt.title('Histogram of total_deaths')"
   ]
  },
  {
   "cell_type": "code",
   "execution_count": 34,
   "metadata": {},
   "outputs": [
    {
     "data": {
      "text/plain": [
       "Text(0.5, 1.0, 'Histogram of new_deaths')"
      ]
     },
     "execution_count": 34,
     "metadata": {},
     "output_type": "execute_result"
    },
    {
     "data": {
      "image/png": "[encoded data removed]",
      "text/plain": [
       "<Figure size 432x288 with 1 Axes>"
      ]
     },
     "metadata": {
      "needs_background": "light"
     },
     "output_type": "display_data"
    }
   ],
   "source": [
    "df_slovakia.new_deaths.hist()\n",
    "plt.plot()\n",
    "plt.title('Histogram of new_deaths')"
   ]
  },
  {
   "cell_type": "code",
   "execution_count": 35,
   "metadata": {},
   "outputs": [
    {
     "data": {
      "text/plain": [
       "Text(0.5, 1.0, 'Histogram of hosp_patients')"
      ]
     },
     "execution_count": 35,
     "metadata": {},
     "output_type": "execute_result"
    },
    {
     "data": {
      "image/png": "[encoded data removed]",
      "text/plain": [
       "<Figure size 432x288 with 1 Axes>"
      ]
     },
     "metadata": {
      "needs_background": "light"
     },
     "output_type": "display_data"
    }
   ],
   "source": [
    "df_slovakia.hosp_patients.hist()\n",
    "plt.plot()\n",
    "plt.title('Histogram of hosp_patients')"
   ]
  },
  {
   "cell_type": "markdown",
   "metadata": {},
   "source": [
    "All the graphs are right skewed, repalce missing value with median."
   ]
  },
  {
   "cell_type": "code",
   "execution_count": 36,
   "metadata": {},
   "outputs": [],
   "source": [
    "#hosp_patients\n",
    "df_slovakia[\"hosp_patients\"].fillna(df_slovakia[\"hosp_patients\"].median(), inplace = True)"
   ]
  },
  {
   "cell_type": "code",
   "execution_count": 37,
   "metadata": {},
   "outputs": [
    {
     "data": {
      "text/plain": [
       "Text(0.5, 1.0, 'Histogram of new_tests')"
      ]
     },
     "execution_count": 37,
     "metadata": {},
     "output_type": "execute_result"
    },
    {
     "data": {
      "image/png": "[encoded data removed]",
      "text/plain": [
       "<Figure size 432x288 with 1 Axes>"
      ]
     },
     "metadata": {
      "needs_background": "light"
     },
     "output_type": "display_data"
    }
   ],
   "source": [
    "#new_tests\n",
    "df_slovakia.new_tests.hist()\n",
    "plt.plot()\n",
    "plt.title('Histogram of new_tests')"
   ]
  },
  {
   "cell_type": "markdown",
   "metadata": {},
   "source": [
    "#graph is not distributed normally,it is right skewed"
   ]
  },
  {
   "cell_type": "code",
   "execution_count": 38,
   "metadata": {},
   "outputs": [],
   "source": [
    "df_slovakia[\"new_tests\"].fillna(df_slovakia[\"new_tests\"].median(), inplace = True)"
   ]
  },
  {
   "cell_type": "code",
   "execution_count": 39,
   "metadata": {},
   "outputs": [
    {
     "data": {
      "text/plain": [
       "Text(0.5, 1.0, 'Histogram of tests_per_case')"
      ]
     },
     "execution_count": 39,
     "metadata": {},
     "output_type": "execute_result"
    },
    {
     "data": {
      "image/png": "[encoded data removed]",
      "text/plain": [
       "<Figure size 432x288 with 1 Axes>"
      ]
     },
     "metadata": {
      "needs_background": "light"
     },
     "output_type": "display_data"
    }
   ],
   "source": [
    "#total_deaths_per_million\n",
    "df_slovakia.tests_per_case.hist()\n",
    "plt.plot()\n",
    "plt.title('Histogram of tests_per_case')"
   ]
  },
  {
   "cell_type": "code",
   "execution_count": 40,
   "metadata": {},
   "outputs": [],
   "source": [
    "df_slovakia[\"tests_per_case\"].fillna(df_slovakia[\"tests_per_case\"].median(), inplace = True)"
   ]
  },
  {
   "cell_type": "code",
   "execution_count": 41,
   "metadata": {},
   "outputs": [
    {
     "data": {
      "text/plain": [
       "Text(0.5, 1.0, 'Histogram of stringency_index')"
      ]
     },
     "execution_count": 41,
     "metadata": {},
     "output_type": "execute_result"
    },
    {
     "data": {
      "image/png": "[encoded data removed]",
      "text/plain": [
       "<Figure size 432x288 with 1 Axes>"
      ]
     },
     "metadata": {
      "needs_background": "light"
     },
     "output_type": "display_data"
    }
   ],
   "source": [
    "#new_deaths_per_million\n",
    "df_slovakia.stringency_index.hist()\n",
    "plt.plot()\n",
    "plt.title('Histogram of stringency_index')"
   ]
  },
  {
   "cell_type": "code",
   "execution_count": 42,
   "metadata": {},
   "outputs": [],
   "source": [
    "df_slovakia[\"stringency_index\"].fillna(df_slovakia[\"stringency_index\"].median(), inplace = True)"
   ]
  },
  {
   "cell_type": "code",
   "execution_count": 43,
   "metadata": {},
   "outputs": [
    {
     "data": {
      "text/plain": [
       "Text(0.5, 1.0, 'Histogram of new_cases_smoothed')"
      ]
     },
     "execution_count": 43,
     "metadata": {},
     "output_type": "execute_result"
    },
    {
     "data": {
      "image/png": "[encoded data removed]",
      "text/plain": [
       "<Figure size 432x288 with 1 Axes>"
      ]
     },
     "metadata": {
      "needs_background": "light"
     },
     "output_type": "display_data"
    }
   ],
   "source": [
    "#new_cases_smoothed\n",
    "df_slovakia.new_cases_smoothed.hist()\n",
    "plt.plot()\n",
    "plt.title('Histogram of new_cases_smoothed')"
   ]
  },
  {
   "cell_type": "markdown",
   "metadata": {},
   "source": [
    "this graph is rightskewed,replace with median value"
   ]
  },
  {
   "cell_type": "code",
   "execution_count": 44,
   "metadata": {},
   "outputs": [],
   "source": [
    "df_slovakia[\"new_cases_smoothed\"].fillna(df_slovakia[\"new_cases_smoothed\"].median(), inplace = True)"
   ]
  },
  {
   "cell_type": "code",
   "execution_count": 45,
   "metadata": {},
   "outputs": [
    {
     "data": {
      "text/plain": [
       "Text(0.5, 1.0, 'Histogram of total deaths')"
      ]
     },
     "execution_count": 45,
     "metadata": {},
     "output_type": "execute_result"
    },
    {
     "data": {
      "image/png": "[encoded data removed]",
      "text/plain": [
       "<Figure size 432x288 with 1 Axes>"
      ]
     },
     "metadata": {
      "needs_background": "light"
     },
     "output_type": "display_data"
    }
   ],
   "source": [
    "#total_deaths\n",
    "df_slovakia.total_deaths.hist()\n",
    "plt.plot()\n",
    "plt.title('Histogram of total deaths')"
   ]
  },
  {
   "cell_type": "code",
   "execution_count": 46,
   "metadata": {},
   "outputs": [],
   "source": [
    "df_slovakia[\"total_deaths\"].fillna(df_slovakia[\"total_deaths\"].median(), inplace = True)"
   ]
  },
  {
   "cell_type": "code",
   "execution_count": 47,
   "metadata": {},
   "outputs": [
    {
     "data": {
      "text/plain": [
       "Text(0.5, 1.0, 'Histogram of new_deaths')"
      ]
     },
     "execution_count": 47,
     "metadata": {},
     "output_type": "execute_result"
    },
    {
     "data": {
      "image/png": "[encoded data removed]",
      "text/plain": [
       "<Figure size 432x288 with 1 Axes>"
      ]
     },
     "metadata": {
      "needs_background": "light"
     },
     "output_type": "display_data"
    }
   ],
   "source": [
    "#total_deaths\n",
    "df_slovakia.new_deaths.hist()\n",
    "plt.plot()\n",
    "plt.title('Histogram of new_deaths')"
   ]
  },
  {
   "cell_type": "code",
   "execution_count": 48,
   "metadata": {},
   "outputs": [],
   "source": [
    "df_slovakia[\"new_deaths\"].fillna(df_slovakia[\"new_deaths\"].median(), inplace = True)\n",
    "#as it is right skewed"
   ]
  },
  {
   "cell_type": "code",
   "execution_count": 49,
   "metadata": {},
   "outputs": [
    {
     "data": {
      "text/plain": [
       "Text(0.5, 1.0, 'Histogram of new_deaths_smoothed')"
      ]
     },
     "execution_count": 49,
     "metadata": {},
     "output_type": "execute_result"
    },
    {
     "data": {
      "image/png": "[encoded data removed]",
      "text/plain": [
       "<Figure size 432x288 with 1 Axes>"
      ]
     },
     "metadata": {
      "needs_background": "light"
     },
     "output_type": "display_data"
    }
   ],
   "source": [
    "#total_deaths\n",
    "df_slovakia.new_deaths_smoothed.hist()\n",
    "plt.plot()\n",
    "plt.title('Histogram of new_deaths_smoothed')"
   ]
  },
  {
   "cell_type": "code",
   "execution_count": 50,
   "metadata": {},
   "outputs": [],
   "source": [
    "df_slovakia[\"new_deaths_smoothed\"].fillna(df_slovakia[\"new_deaths_smoothed\"].median(), inplace = True)\n",
    "#as it is right skewed"
   ]
  },
  {
   "cell_type": "code",
   "execution_count": 51,
   "metadata": {},
   "outputs": [
    {
     "data": {
      "text/plain": [
       "date                          0\n",
       "total_cases                   0\n",
       "new_cases                     0\n",
       "new_cases_smoothed            0\n",
       "total_deaths                  0\n",
       "new_deaths                    0\n",
       "new_deaths_smoothed           0\n",
       "reproduction_rate             0\n",
       "hosp_patients                 0\n",
       "new_tests                     0\n",
       "total_tests                   0\n",
       "new_tests_smoothed            0\n",
       "positive_rate                 0\n",
       "tests_per_case                0\n",
       "stringency_index              0\n",
       "population                    0\n",
       "population_density            0\n",
       "median_age                    0\n",
       "aged_65_older                 0\n",
       "aged_70_older                 0\n",
       "gdp_per_capita                0\n",
       "extreme_poverty               0\n",
       "cardiovasc_death_rate         0\n",
       "diabetes_prevalence           0\n",
       "female_smokers                0\n",
       "male_smokers                  0\n",
       "hospital_beds_per_thousand    0\n",
       "life_expectancy               0\n",
       "human_development_index       0\n",
       "tests performed               0\n",
       "dtype: int64"
      ]
     },
     "execution_count": 51,
     "metadata": {},
     "output_type": "execute_result"
    }
   ],
   "source": [
    "# before filling up the missing value ,check the skewness of data\n",
    "df_slovakia.isnull().sum()"
   ]
  },
  {
   "cell_type": "markdown",
   "metadata": {},
   "source": [
    "df_slovakia data set variales are right skewed,repalce the missing value with median value"
   ]
  },
  {
   "cell_type": "markdown",
   "metadata": {},
   "source": [
    "## Bivariate Analysis  with our target variable - Active Cases"
   ]
  },
  {
   "cell_type": "code",
   "execution_count": 52,
   "metadata": {},
   "outputs": [
    {
     "data": {
      "text/plain": [
       "Text(0.5, 1.0, 'New_cases vs date')"
      ]
     },
     "execution_count": 52,
     "metadata": {},
     "output_type": "execute_result"
    },
    {
     "data": {
      "image/png": "[encoded data removed]",
      "text/plain": [
       "<Figure size 504x288 with 1 Axes>"
      ]
     },
     "metadata": {
      "needs_background": "light"
     },
     "output_type": "display_data"
    }
   ],
   "source": [
    "#date\n",
    "plt.figure(figsize=(7,4))\n",
    "sns.scatterplot(x=df_slovakia['date'], y=df_slovakia['new_cases'])\n",
    "plt.title('New_cases vs date')"
   ]
  },
  {
   "cell_type": "markdown",
   "metadata": {},
   "source": [
    "new_cases increase with time.they are correlated .we will take date pto develope our model"
   ]
  },
  {
   "cell_type": "code",
   "execution_count": 53,
   "metadata": {},
   "outputs": [
    {
     "data": {
      "text/plain": [
       "Text(0.5, 1.0, 'New_cases vs new_cases_smoothed')"
      ]
     },
     "execution_count": 53,
     "metadata": {},
     "output_type": "execute_result"
    },
    {
     "data": {
      "image/png": "[encoded data removed]",
      "text/plain": [
       "<Figure size 504x288 with 1 Axes>"
      ]
     },
     "metadata": {
      "needs_background": "light"
     },
     "output_type": "display_data"
    }
   ],
   "source": [
    "#new_cases_smoothed\n",
    "plt.figure(figsize=(7,4))\n",
    "sns.scatterplot(x=df_slovakia['new_cases_smoothed'], y=df_slovakia['new_cases'])\n",
    "plt.title('New_cases vs new_cases_smoothed')"
   ]
  },
  {
   "cell_type": "markdown",
   "metadata": {},
   "source": [
    "new_cases and new_cases_smoothed are correlated .we will take new_cases_smoothed to  develope our model"
   ]
  },
  {
   "cell_type": "code",
   "execution_count": 54,
   "metadata": {},
   "outputs": [
    {
     "data": {
      "text/plain": [
       "Text(0.5, 1.0, 'New_cases vs total_deaths')"
      ]
     },
     "execution_count": 54,
     "metadata": {},
     "output_type": "execute_result"
    },
    {
     "data": {
      "image/png": "[encoded data removed]",
      "text/plain": [
       "<Figure size 504x288 with 1 Axes>"
      ]
     },
     "metadata": {
      "needs_background": "light"
     },
     "output_type": "display_data"
    }
   ],
   "source": [
    "#total deaths\n",
    "plt.figure(figsize=(7,4))\n",
    "sns.scatterplot(x=df_slovakia['total_deaths'], y=df_slovakia['new_cases'])\n",
    "plt.title('New_cases vs total_deaths')"
   ]
  },
  {
   "cell_type": "markdown",
   "metadata": {},
   "source": [
    "new_cases and total_deaths are correlated .we will take total deaths to  develope our model"
   ]
  },
  {
   "cell_type": "code",
   "execution_count": 55,
   "metadata": {},
   "outputs": [
    {
     "data": {
      "text/plain": [
       "Text(0.5, 1.0, 'New_cases vs total_cases')"
      ]
     },
     "execution_count": 55,
     "metadata": {},
     "output_type": "execute_result"
    },
    {
     "data": {
      "image/png": "[encoded data removed]",
      "text/plain": [
       "<Figure size 504x288 with 1 Axes>"
      ]
     },
     "metadata": {
      "needs_background": "light"
     },
     "output_type": "display_data"
    }
   ],
   "source": [
    "#total deaths\n",
    "plt.figure(figsize=(7,4))\n",
    "sns.scatterplot(x=df_slovakia['total_cases'], y=df_slovakia['new_cases'])\n",
    "plt.title('New_cases vs total_cases')"
   ]
  },
  {
   "cell_type": "markdown",
   "metadata": {},
   "source": [
    "we will take total_cases to develop our model "
   ]
  },
  {
   "cell_type": "code",
   "execution_count": 56,
   "metadata": {},
   "outputs": [
    {
     "data": {
      "text/plain": [
       "Text(0.5, 1.0, 'New_cases vs new_deaths_smoothed')"
      ]
     },
     "execution_count": 56,
     "metadata": {},
     "output_type": "execute_result"
    },
    {
     "data": {
      "image/png": "[encoded data removed]",
      "text/plain": [
       "<Figure size 504x288 with 1 Axes>"
      ]
     },
     "metadata": {
      "needs_background": "light"
     },
     "output_type": "display_data"
    }
   ],
   "source": [
    "#total deaths smoothed\n",
    "plt.figure(figsize=(7,4))\n",
    "sns.scatterplot(x=df_slovakia['new_deaths_smoothed'], y=df_slovakia['new_cases'])\n",
    "plt.title('New_cases vs new_deaths_smoothed')"
   ]
  },
  {
   "cell_type": "markdown",
   "metadata": {},
   "source": [
    "new_cases and _smoothed are correlated .we will take new_deaths_smoothed to  develope our model"
   ]
  },
  {
   "cell_type": "code",
   "execution_count": 57,
   "metadata": {},
   "outputs": [
    {
     "data": {
      "text/plain": [
       "Text(0.5, 1.0, 'hosp_patients vs new_cases')"
      ]
     },
     "execution_count": 57,
     "metadata": {},
     "output_type": "execute_result"
    },
    {
     "data": {
      "image/png": "[encoded data removed]",
      "text/plain": [
       "<Figure size 504x288 with 1 Axes>"
      ]
     },
     "metadata": {
      "needs_background": "light"
     },
     "output_type": "display_data"
    }
   ],
   "source": [
    "#hosp_patients\n",
    "plt.figure(figsize=(7,4))\n",
    "sns.scatterplot(x=df_slovakia['hosp_patients'], y=df_slovakia['new_cases'])\n",
    "plt.title('hosp_patients vs new_cases')"
   ]
  },
  {
   "cell_type": "markdown",
   "metadata": {},
   "source": [
    "new_cases and hospital_patients are correlated .we will take hospital_patients to  develope our model"
   ]
  },
  {
   "cell_type": "code",
   "execution_count": 58,
   "metadata": {},
   "outputs": [
    {
     "data": {
      "text/plain": [
       "Text(0.5, 1.0, 'new_cases vs total_cases')"
      ]
     },
     "execution_count": 58,
     "metadata": {},
     "output_type": "execute_result"
    },
    {
     "data": {
      "image/png": "[encoded data removed]",
      "text/plain": [
       "<Figure size 504x288 with 1 Axes>"
      ]
     },
     "metadata": {
      "needs_background": "light"
     },
     "output_type": "display_data"
    }
   ],
   "source": [
    "#total_cases\n",
    "plt.figure(figsize=(7,4))\n",
    "sns.scatterplot(x=df_slovakia['total_cases'], y=df_slovakia['new_cases'])\n",
    "plt.title('new_cases vs total_cases')"
   ]
  },
  {
   "cell_type": "markdown",
   "metadata": {},
   "source": [
    "take total_cases to develop our model"
   ]
  },
  {
   "cell_type": "markdown",
   "metadata": {},
   "source": [
    " Features selection"
   ]
  },
  {
   "cell_type": "markdown",
   "metadata": {},
   "source": [
    "Drop features\n",
    "If a feature has no relation with target variable remove the feature and take the other feature to predict the model,select the features where corr score is stronrg with target variable."
   ]
  },
  {
   "cell_type": "code",
   "execution_count": 59,
   "metadata": {},
   "outputs": [],
   "source": [
    "#drop\n",
    "df_slovakia.drop(['aged_65_older','aged_70_older','cardiovasc_death_rate','diabetes_prevalence','extreme_poverty','female_smokers',\n",
    "                 'gdp_per_capita','human_development_index','life_expectancy','male_smokers','median_age','population_density',\n",
    "                 'tests_per_case','tests performed','hospital_beds_per_thousand'],axis=1,inplace=True)"
   ]
  },
  {
   "cell_type": "markdown",
   "metadata": {},
   "source": [
    "# # #correlation map"
   ]
  },
  {
   "cell_type": "code",
   "execution_count": 60,
   "metadata": {},
   "outputs": [
    {
     "data": {
      "text/plain": [
       "<matplotlib.axes._subplots.AxesSubplot at 0x2b13bfd93d0>"
      ]
     },
     "execution_count": 60,
     "metadata": {},
     "output_type": "execute_result"
    },
    {
     "data": {
      "image/png": "[encoded data removed]",
      "text/plain": [
       "<Figure size 576x576 with 2 Axes>"
      ]
     },
     "metadata": {
      "needs_background": "light"
     },
     "output_type": "display_data"
    }
   ],
   "source": [
    "#correlation map\n",
    "f,ax = plt.subplots(figsize=(8,8))\n",
    "sns.heatmap(df_slovakia.corr(), annot=True, linewidths=.8, fmt= '.1f',ax=ax)"
   ]
  },
  {
   "cell_type": "code",
   "execution_count": 61,
   "metadata": {},
   "outputs": [
    {
     "name": "stdout",
     "output_type": "stream",
     "text": [
      "<class 'pandas.core.frame.DataFrame'>\n",
      "Int64Index: 374 entries, 60393 to 60766\n",
      "Data columns (total 15 columns):\n",
      " #   Column               Non-Null Count  Dtype  \n",
      "---  ------               --------------  -----  \n",
      " 0   date                 374 non-null    int64  \n",
      " 1   total_cases          374 non-null    float64\n",
      " 2   new_cases            374 non-null    float64\n",
      " 3   new_cases_smoothed   374 non-null    float64\n",
      " 4   total_deaths         374 non-null    float64\n",
      " 5   new_deaths           374 non-null    float64\n",
      " 6   new_deaths_smoothed  374 non-null    float64\n",
      " 7   reproduction_rate    374 non-null    float64\n",
      " 8   hosp_patients        374 non-null    float64\n",
      " 9   new_tests            374 non-null    float64\n",
      " 10  total_tests          374 non-null    float64\n",
      " 11  new_tests_smoothed   374 non-null    float64\n",
      " 12  positive_rate        374 non-null    float64\n",
      " 13  stringency_index     374 non-null    float64\n",
      " 14  population           374 non-null    float64\n",
      "dtypes: float64(14), int64(1)\n",
      "memory usage: 46.8 KB\n"
     ]
    }
   ],
   "source": [
    "df_slovakia.info()"
   ]
  },
  {
   "cell_type": "markdown",
   "metadata": {},
   "source": [
    "# 7- Model building"
   ]
  },
  {
   "cell_type": "code",
   "execution_count": 62,
   "metadata": {},
   "outputs": [],
   "source": [
    "\n",
    "#normalize data\n",
    "df_slovakia=(df_slovakia)/df_slovakia.max()"
   ]
  },
  {
   "cell_type": "markdown",
   "metadata": {},
   "source": [
    "# #Linear Regression model"
   ]
  },
  {
   "cell_type": "markdown",
   "metadata": {},
   "source": [
    "## Data splitting"
   ]
  },
  {
   "cell_type": "code",
   "execution_count": 63,
   "metadata": {},
   "outputs": [],
   "source": [
    "from sklearn.linear_model import LinearRegression\n",
    "from sklearn.model_selection import train_test_split\n",
    "y_data = df_slovakia['new_cases']\n",
    "x_data = df_slovakia[['date','hosp_patients','new_cases_smoothed','new_deaths_smoothed','positive_rate','new_tests',\n",
    "                   'total_cases','total_deaths']]"
   ]
  },
  {
   "cell_type": "markdown",
   "metadata": {},
   "source": [
    "## Model training"
   ]
  },
  {
   "cell_type": "code",
   "execution_count": 64,
   "metadata": {},
   "outputs": [
    {
     "name": "stdout",
     "output_type": "stream",
     "text": [
      "number of test samples : 75\n",
      "number of training samples: 299\n"
     ]
    },
    {
     "data": {
      "text/html": [
       "<div>\n",
       "<style scoped>\n",
       "    .dataframe tbody tr th:only-of-type {\n",
       "        vertical-align: middle;\n",
       "    }\n",
       "\n",
       "    .dataframe tbody tr th {\n",
       "        vertical-align: top;\n",
       "    }\n",
       "\n",
       "    .dataframe thead th {\n",
       "        text-align: right;\n",
       "    }\n",
       "</style>\n",
       "<table border=\"1\" class=\"dataframe\">\n",
       "  <thead>\n",
       "    <tr style=\"text-align: right;\">\n",
       "      <th></th>\n",
       "      <th>date</th>\n",
       "      <th>hosp_patients</th>\n",
       "      <th>new_cases_smoothed</th>\n",
       "      <th>new_deaths_smoothed</th>\n",
       "      <th>positive_rate</th>\n",
       "      <th>new_tests</th>\n",
       "      <th>total_cases</th>\n",
       "      <th>total_deaths</th>\n",
       "    </tr>\n",
       "  </thead>\n",
       "  <tbody>\n",
       "    <tr>\n",
       "      <th>60393</th>\n",
       "      <td>0.971103</td>\n",
       "      <td>0.05557</td>\n",
       "      <td>0.04023</td>\n",
       "      <td>0.006971</td>\n",
       "      <td>0.134831</td>\n",
       "      <td>0.000485</td>\n",
       "      <td>0.000003</td>\n",
       "      <td>0.004632</td>\n",
       "    </tr>\n",
       "    <tr>\n",
       "      <th>60394</th>\n",
       "      <td>0.972685</td>\n",
       "      <td>0.05557</td>\n",
       "      <td>0.04023</td>\n",
       "      <td>0.006971</td>\n",
       "      <td>0.134831</td>\n",
       "      <td>0.000085</td>\n",
       "      <td>0.000003</td>\n",
       "      <td>0.004632</td>\n",
       "    </tr>\n",
       "    <tr>\n",
       "      <th>60395</th>\n",
       "      <td>0.974320</td>\n",
       "      <td>0.05557</td>\n",
       "      <td>0.04023</td>\n",
       "      <td>0.006971</td>\n",
       "      <td>0.134831</td>\n",
       "      <td>0.000098</td>\n",
       "      <td>0.000009</td>\n",
       "      <td>0.004632</td>\n",
       "    </tr>\n",
       "    <tr>\n",
       "      <th>60396</th>\n",
       "      <td>0.975954</td>\n",
       "      <td>0.05557</td>\n",
       "      <td>0.04023</td>\n",
       "      <td>0.006971</td>\n",
       "      <td>0.134831</td>\n",
       "      <td>0.000089</td>\n",
       "      <td>0.000009</td>\n",
       "      <td>0.004632</td>\n",
       "    </tr>\n",
       "    <tr>\n",
       "      <th>60397</th>\n",
       "      <td>0.977536</td>\n",
       "      <td>0.05557</td>\n",
       "      <td>0.04023</td>\n",
       "      <td>0.006971</td>\n",
       "      <td>0.134831</td>\n",
       "      <td>0.000142</td>\n",
       "      <td>0.000021</td>\n",
       "      <td>0.004632</td>\n",
       "    </tr>\n",
       "  </tbody>\n",
       "</table>\n",
       "</div>"
      ],
      "text/plain": [
       "           date  hosp_patients  new_cases_smoothed  new_deaths_smoothed  \\\n",
       "60393  0.971103        0.05557             0.04023             0.006971   \n",
       "60394  0.972685        0.05557             0.04023             0.006971   \n",
       "60395  0.974320        0.05557             0.04023             0.006971   \n",
       "60396  0.975954        0.05557             0.04023             0.006971   \n",
       "60397  0.977536        0.05557             0.04023             0.006971   \n",
       "\n",
       "       positive_rate  new_tests  total_cases  total_deaths  \n",
       "60393       0.134831   0.000485     0.000003      0.004632  \n",
       "60394       0.134831   0.000085     0.000003      0.004632  \n",
       "60395       0.134831   0.000098     0.000009      0.004632  \n",
       "60396       0.134831   0.000089     0.000009      0.004632  \n",
       "60397       0.134831   0.000142     0.000021      0.004632  "
      ]
     },
     "execution_count": 64,
     "metadata": {},
     "output_type": "execute_result"
    }
   ],
   "source": [
    "x_train, x_test, y_train, y_test = train_test_split(x_data, y_data, test_size=0.2, random_state=1)\n",
    "\n",
    "print(\"number of test samples :\", x_test.shape[0])\n",
    "print(\"number of training samples:\",x_train.shape[0])\n",
    "x_data.head(5)"
   ]
  },
  {
   "cell_type": "code",
   "execution_count": 65,
   "metadata": {},
   "outputs": [
    {
     "name": "stdout",
     "output_type": "stream",
     "text": [
      "Coefficients:  [-0.48365734 -0.01582379  0.53711618 -0.00193812  0.04070635  0.05616003\n",
      " -0.05540385  0.03512805]\n",
      "Intercept:  0.4665018653181372\n",
      "Train score : 0.7755733680912533\n",
      "Test score : 0.7160112460951008\n"
     ]
    }
   ],
   "source": [
    "lm = LinearRegression()\n",
    "lm.fit(x_train, y_train)\n",
    "Y_hat=lm.predict(x_test)\n",
    "print ('Coefficients: ', lm.coef_)\n",
    "print ('Intercept: ' , lm.intercept_)\n",
    "print('Train score :',lm.score(x_train, y_train))\n",
    "print('Test score :', lm.score(x_test, y_test) )"
   ]
  },
  {
   "cell_type": "code",
   "execution_count": 66,
   "metadata": {},
   "outputs": [],
   "source": [
    "## Model evaluation"
   ]
  },
  {
   "cell_type": "code",
   "execution_count": 67,
   "metadata": {},
   "outputs": [
    {
     "data": {
      "text/plain": [
       "0.009930142954519413"
      ]
     },
     "execution_count": 67,
     "metadata": {},
     "output_type": "execute_result"
    }
   ],
   "source": [
    "from sklearn.metrics import mean_squared_error\n",
    "mean_squared_error(y_test,Y_hat)\n",
    "#print('Mean Square error:')"
   ]
  },
  {
   "cell_type": "code",
   "execution_count": 68,
   "metadata": {},
   "outputs": [
    {
     "data": {
      "text/plain": [
       "0.009930142954519413"
      ]
     },
     "execution_count": 68,
     "metadata": {},
     "output_type": "execute_result"
    }
   ],
   "source": [
    "from sklearn.metrics import mean_squared_error\n",
    "mean_squared_error(y_test,Y_hat)\n",
    "#print('Mean Square error:')"
   ]
  },
  {
   "cell_type": "code",
   "execution_count": 69,
   "metadata": {},
   "outputs": [
    {
     "data": {
      "text/plain": [
       "0.050082859362662636"
      ]
     },
     "execution_count": 69,
     "metadata": {},
     "output_type": "execute_result"
    }
   ],
   "source": [
    "from sklearn.metrics import mean_absolute_error\n",
    "mean_absolute_error(y_test,Y_hat)"
   ]
  },
  {
   "cell_type": "code",
   "execution_count": 70,
   "metadata": {},
   "outputs": [
    {
     "data": {
      "text/plain": [
       "0.7160112460951008"
      ]
     },
     "execution_count": 70,
     "metadata": {},
     "output_type": "execute_result"
    }
   ],
   "source": [
    "from sklearn.metrics import r2_score\n",
    "r2_score(y_test,Y_hat)"
   ]
  },
  {
   "cell_type": "markdown",
   "metadata": {},
   "source": [
    "# Evaluate the model using K-fold cross validation for the original country."
   ]
  },
  {
   "cell_type": "code",
   "execution_count": 71,
   "metadata": {},
   "outputs": [
    {
     "data": {
      "text/plain": [
       "array([0.82737241, 0.55749086, 0.80605441, 0.7436339 , 0.68820604,\n",
       "       0.64222359, 0.87316153, 0.8037224 , 0.76092268, 0.69573463])"
      ]
     },
     "execution_count": 71,
     "metadata": {},
     "output_type": "execute_result"
    }
   ],
   "source": [
    "lm = LinearRegression()\n",
    "scores = cross_val_score(lm, x_train, y_train, scoring='r2', cv=10)\n",
    "scores"
   ]
  },
  {
   "cell_type": "code",
   "execution_count": 72,
   "metadata": {},
   "outputs": [
    {
     "data": {
      "text/plain": [
       "array([0.82737241, 0.55749086, 0.80605441, 0.7436339 , 0.68820604,\n",
       "       0.64222359, 0.87316153, 0.8037224 , 0.76092268, 0.69573463])"
      ]
     },
     "execution_count": 72,
     "metadata": {},
     "output_type": "execute_result"
    }
   ],
   "source": [
    "# create a KFold object with 5 splits \n",
    "folds = KFold(n_splits = 5, shuffle = True, random_state = 100)\n",
    "scores = cross_val_score(lm, x_train, y_train, scoring='r2', cv=10)\n",
    "scores"
   ]
  },
  {
   "cell_type": "code",
   "execution_count": 73,
   "metadata": {},
   "outputs": [
    {
     "data": {
      "text/plain": [
       "array([-0.01061597, -0.00925743, -0.0115155 , -0.00568922, -0.00783012])"
      ]
     },
     "execution_count": 73,
     "metadata": {},
     "output_type": "execute_result"
    }
   ],
   "source": [
    "# can tune other metrics, such as MSE\n",
    "scores = cross_val_score(lm, x_train, y_train, scoring='neg_mean_squared_error', cv=5)\n",
    "scores"
   ]
  },
  {
   "cell_type": "markdown",
   "metadata": {},
   "source": [
    "# The SIR Epidemic Model"
   ]
  },
  {
   "cell_type": "markdown",
   "metadata": {},
   "source": [
    "##A simple mathematical description of the spread of a disease in a population is the so-called SIR model,which divides the (fixed) population of N individuals into three \"compartments\" which may vary as a function of time, t:\n",
    "S(t) are those susceptible but not yet infected with the disease.\n",
    "I(t) is the number of infectious individuals\n",
    "R(t) are those individuals who have recovered from the disease and now have immunity to it."
   ]
  },
  {
   "cell_type": "markdown",
   "metadata": {},
   "source": [
    "Model - Susceptible > Infected > Removed"
   ]
  },
  {
   "cell_type": "markdown",
   "metadata": {},
   "source": [
    "The model is started with a single infected individual on day 0: I(0)=1( from data set)\n",
    "S, I and R represent the number of susceptible,infected,and recovered individuals, and N = S + I + R is the total population."
   ]
  },
  {
   "cell_type": "code",
   "execution_count": 74,
   "metadata": {},
   "outputs": [
    {
     "name": "stdout",
     "output_type": "stream",
     "text": [
      "10.761904761904779\n"
     ]
    }
   ],
   "source": [
    "# Total population, N.\n",
    "N=5459643    #slovakia population\n",
    "\n",
    "#beta-the transmission rate constant.(reproduction_rate from data set)\n",
    "#expected amount of people  an infected person infect perday\n",
    "beta=df_slovakia['reproduction_rate'].mean()\n",
    "\n",
    "D=14       #D= no of days an infected person has and can spread the disease(like 14-21days)\n",
    "\n",
    "#gamma-removal rate(the proportion of infected removed per day)\n",
    "gamma=1/D\n",
    "R0 = beta/gamma       #The total number of people an infected person infects((R0 = β/γ))\n",
    "#R0=basic reproduction number,\n",
    "#The R0 (pronounced “R naught”), the basic reproduction number, is a mathematical estimate of how infectious a disease is and indicates the number of people an infected individual will go on to infect.\n",
    "print(R0)"
   ]
  },
  {
   "cell_type": "code",
   "execution_count": 75,
   "metadata": {},
   "outputs": [],
   "source": [
    "from scipy.integrate import odeint\n",
    "import numpy as np"
   ]
  },
  {
   "cell_type": "code",
   "execution_count": 76,
   "metadata": {},
   "outputs": [],
   "source": [
    "# The SIR model differential equations.\n",
    "def deriv(x, t,beta, gamma):\n",
    "    s,i,r =x\n",
    "    dsdt= -(beta * s * i)/N\n",
    "    didt=(beta *s *i)/N - gamma * i\n",
    "    drdt=gamma * i\n",
    "    return [dsdt,didt,drdt]"
   ]
  },
  {
   "cell_type": "code",
   "execution_count": 77,
   "metadata": {},
   "outputs": [],
   "source": [
    "#initial condition\n",
    "i0 = 1                                   #new_cases on first day of our dataset \n",
    "r0 = 0\n",
    "s0=N-i0 - r0                            # Everyone else,S0,is susceptible to infection initially."
   ]
  },
  {
   "cell_type": "code",
   "execution_count": 78,
   "metadata": {},
   "outputs": [],
   "source": [
    "# A grid of time points (in days)\n",
    "t=np.linspace(0,200,200)\n",
    "x0=s0,i0,r0"
   ]
  },
  {
   "cell_type": "code",
   "execution_count": 79,
   "metadata": {},
   "outputs": [],
   "source": [
    "# Integrate the SIR equations over the time grid, t.\n",
    "soln = odeint(deriv, x0, t, args=(beta,gamma))\n",
    "s,i,r=soln.T"
   ]
  },
  {
   "cell_type": "code",
   "execution_count": 80,
   "metadata": {},
   "outputs": [
    {
     "data": {
      "text/plain": [
       "Text(0, 0.5, 'Fraction')"
      ]
     },
     "execution_count": 80,
     "metadata": {},
     "output_type": "execute_result"
    },
    {
     "data": {
      "image/png": "[encoded data removed]",
      "text/plain": [
       "<Figure size 432x288 with 1 Axes>"
      ]
     },
     "metadata": {
      "needs_background": "light"
     },
     "output_type": "display_data"
    }
   ],
   "source": [
    "# Plot the data on three separate curves for S(t), I(t) and R(t)\n",
    "fig=plt.figure()\n",
    "ax=fig.add_subplot(1,1,1)\n",
    "\n",
    "ax.plot(t, s, 'b' ,lw=3, label='Fraction susceptible')\n",
    "ax.plot(t, i, 'r' ,lw=3, label='Fraction infected')\n",
    "ax.plot(t, r, 'g' ,lw=3, label='Recovered with immunity')\n",
    "ax.set_title('Susceptible and Recovered Population')\n",
    "ax.set_xlabel('Time/days')\n",
    "ax.set_ylabel('Fraction')"
   ]
  },
  {
   "cell_type": "markdown",
   "metadata": {},
   "source": [
    "The number of infected cases increases for a certain time period, and then eventually decreases given that individuals\n",
    "recover/decease from the disease.\n",
    "\n",
    "The susceptible fraction of population decreases as the virus is transmited, to eventually drop to the absorbent state 0.\n",
    "\n",
    "we can bring down the infected population by decreasing the beta value(transmission rate),that is the-expected amount of\n",
    "people an infected person infect perday, susceptible population can decrease by vaccination drive."
   ]
  },
  {
   "cell_type": "markdown",
   "metadata": {},
   "source": [
    "# Conclusion"
   ]
  },
  {
   "cell_type": "markdown",
   "metadata": {},
   "source": [
    "With our Regression model we can predict the active cases of a country.\n",
    "Depending on our active cases Government can imposed restrictions."
   ]
  }
 ],
 "metadata": {
  "kernelspec": {
   "display_name": "Python 3",
   "language": "python",
   "name": "python3"
  },
  "language_info": {
   "codemirror_mode": {
    "name": "ipython",
    "version": 3
   },
   "file_extension": ".py",
   "mimetype": "text/x-python",
   "name": "python",
   "nbconvert_exporter": "python",
   "pygments_lexer": "ipython3",
   "version": "3.8.3"
  }
 },
 "nbformat": 4,
 "nbformat_minor": 4
}
