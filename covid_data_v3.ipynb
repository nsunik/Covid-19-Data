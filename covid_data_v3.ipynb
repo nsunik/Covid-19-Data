{
 "cells": [
  {
   "cell_type": "markdown",
   "metadata": {},
   "source": [
    "# New Zealand EDA"
   ]
  },
  {
   "cell_type": "markdown",
   "metadata": {},
   "source": [
    "Goal of the project -\n",
    "To recommend timeline for reopening/lockdown.\n",
    "For this, the main quantities that we'll be trying to estimate throughout time for a given region are:\n",
    "- Number of available beds at hospitals.\n",
    "- Number of active cases.\n",
    "- Number of cumulated deaths.\n",
    "- Number of recovered."
   ]
  },
  {
   "cell_type": "code",
   "execution_count": 1,
   "metadata": {},
   "outputs": [],
   "source": [
    "\n",
    "#importing libraries\n",
    "import numpy as np\n",
    "import pandas as pd\n",
    "import matplotlib.pyplot as plt\n",
    "import time\n",
    "%matplotlib inline\n",
    "import seaborn as sns\n",
    "import scipy as sp\n",
    "from scipy.stats import norm\n",
    "from scipy.stats import skew\n",
    "from sklearn.preprocessing import StandardScaler\n",
    "from sklearn.model_selection import train_test_split\n",
    "df=pd.read_csv(r'C:\\Users\\DELL\\Downloads\\owid-covid-data.csv')\n"
   ]
  },
  {
   "cell_type": "raw",
   "metadata": {},
   "source": [
    "#NumPy is a Python library used for working with arrays. It also has functions for working in domain of linear algebra, fourier transform, and matrices.\n",
    "# pandas is a data analysis toolkit,It presents a diverse range of utilities, ranging from parsing multiple file formats to converting an entire data table into a NumPy matrix array.\n",
    "#matplotlib is a library for creating static, animated, and interactive visualizations in Python.\n",
    "#Seaborn is a data visualization library in Python based on matplotlib."
   ]
  },
  {
   "cell_type": "markdown",
   "metadata": {},
   "source": [
    "#df(owid-covid-data.csv) is a collection of the COVID-19 data maintained by Our World in Data."
   ]
  },
  {
   "cell_type": "code",
   "execution_count": 2,
   "metadata": {},
   "outputs": [
    {
     "data": {
      "text/html": [
       "<div>\n",
       "<style scoped>\n",
       "    .dataframe tbody tr th:only-of-type {\n",
       "        vertical-align: middle;\n",
       "    }\n",
       "\n",
       "    .dataframe tbody tr th {\n",
       "        vertical-align: top;\n",
       "    }\n",
       "\n",
       "    .dataframe thead th {\n",
       "        text-align: right;\n",
       "    }\n",
       "</style>\n",
       "<table border=\"1\" class=\"dataframe\">\n",
       "  <thead>\n",
       "    <tr style=\"text-align: right;\">\n",
       "      <th></th>\n",
       "      <th>iso_code</th>\n",
       "      <th>continent</th>\n",
       "      <th>location</th>\n",
       "      <th>date</th>\n",
       "      <th>total_cases</th>\n",
       "      <th>new_cases</th>\n",
       "      <th>new_cases_smoothed</th>\n",
       "      <th>total_deaths</th>\n",
       "      <th>new_deaths</th>\n",
       "      <th>new_deaths_smoothed</th>\n",
       "      <th>...</th>\n",
       "      <th>gdp_per_capita</th>\n",
       "      <th>extreme_poverty</th>\n",
       "      <th>cardiovasc_death_rate</th>\n",
       "      <th>diabetes_prevalence</th>\n",
       "      <th>female_smokers</th>\n",
       "      <th>male_smokers</th>\n",
       "      <th>handwashing_facilities</th>\n",
       "      <th>hospital_beds_per_thousand</th>\n",
       "      <th>life_expectancy</th>\n",
       "      <th>human_development_index</th>\n",
       "    </tr>\n",
       "  </thead>\n",
       "  <tbody>\n",
       "    <tr>\n",
       "      <th>0</th>\n",
       "      <td>ABW</td>\n",
       "      <td>North America</td>\n",
       "      <td>Aruba</td>\n",
       "      <td>2020-03-13</td>\n",
       "      <td>2.0</td>\n",
       "      <td>2.0</td>\n",
       "      <td>NaN</td>\n",
       "      <td>0.0</td>\n",
       "      <td>0.0</td>\n",
       "      <td>NaN</td>\n",
       "      <td>...</td>\n",
       "      <td>35973.781</td>\n",
       "      <td>NaN</td>\n",
       "      <td>NaN</td>\n",
       "      <td>11.62</td>\n",
       "      <td>NaN</td>\n",
       "      <td>NaN</td>\n",
       "      <td>NaN</td>\n",
       "      <td>NaN</td>\n",
       "      <td>76.29</td>\n",
       "      <td>NaN</td>\n",
       "    </tr>\n",
       "    <tr>\n",
       "      <th>1</th>\n",
       "      <td>ABW</td>\n",
       "      <td>North America</td>\n",
       "      <td>Aruba</td>\n",
       "      <td>2020-03-19</td>\n",
       "      <td>NaN</td>\n",
       "      <td>NaN</td>\n",
       "      <td>0.286</td>\n",
       "      <td>NaN</td>\n",
       "      <td>NaN</td>\n",
       "      <td>0.0</td>\n",
       "      <td>...</td>\n",
       "      <td>35973.781</td>\n",
       "      <td>NaN</td>\n",
       "      <td>NaN</td>\n",
       "      <td>11.62</td>\n",
       "      <td>NaN</td>\n",
       "      <td>NaN</td>\n",
       "      <td>NaN</td>\n",
       "      <td>NaN</td>\n",
       "      <td>76.29</td>\n",
       "      <td>NaN</td>\n",
       "    </tr>\n",
       "    <tr>\n",
       "      <th>2</th>\n",
       "      <td>ABW</td>\n",
       "      <td>North America</td>\n",
       "      <td>Aruba</td>\n",
       "      <td>2020-03-20</td>\n",
       "      <td>4.0</td>\n",
       "      <td>2.0</td>\n",
       "      <td>0.286</td>\n",
       "      <td>0.0</td>\n",
       "      <td>0.0</td>\n",
       "      <td>0.0</td>\n",
       "      <td>...</td>\n",
       "      <td>35973.781</td>\n",
       "      <td>NaN</td>\n",
       "      <td>NaN</td>\n",
       "      <td>11.62</td>\n",
       "      <td>NaN</td>\n",
       "      <td>NaN</td>\n",
       "      <td>NaN</td>\n",
       "      <td>NaN</td>\n",
       "      <td>76.29</td>\n",
       "      <td>NaN</td>\n",
       "    </tr>\n",
       "    <tr>\n",
       "      <th>3</th>\n",
       "      <td>ABW</td>\n",
       "      <td>North America</td>\n",
       "      <td>Aruba</td>\n",
       "      <td>2020-03-21</td>\n",
       "      <td>NaN</td>\n",
       "      <td>NaN</td>\n",
       "      <td>0.286</td>\n",
       "      <td>NaN</td>\n",
       "      <td>NaN</td>\n",
       "      <td>0.0</td>\n",
       "      <td>...</td>\n",
       "      <td>35973.781</td>\n",
       "      <td>NaN</td>\n",
       "      <td>NaN</td>\n",
       "      <td>11.62</td>\n",
       "      <td>NaN</td>\n",
       "      <td>NaN</td>\n",
       "      <td>NaN</td>\n",
       "      <td>NaN</td>\n",
       "      <td>76.29</td>\n",
       "      <td>NaN</td>\n",
       "    </tr>\n",
       "    <tr>\n",
       "      <th>4</th>\n",
       "      <td>ABW</td>\n",
       "      <td>North America</td>\n",
       "      <td>Aruba</td>\n",
       "      <td>2020-03-22</td>\n",
       "      <td>NaN</td>\n",
       "      <td>NaN</td>\n",
       "      <td>0.286</td>\n",
       "      <td>NaN</td>\n",
       "      <td>NaN</td>\n",
       "      <td>0.0</td>\n",
       "      <td>...</td>\n",
       "      <td>35973.781</td>\n",
       "      <td>NaN</td>\n",
       "      <td>NaN</td>\n",
       "      <td>11.62</td>\n",
       "      <td>NaN</td>\n",
       "      <td>NaN</td>\n",
       "      <td>NaN</td>\n",
       "      <td>NaN</td>\n",
       "      <td>76.29</td>\n",
       "      <td>NaN</td>\n",
       "    </tr>\n",
       "  </tbody>\n",
       "</table>\n",
       "<p>5 rows × 41 columns</p>\n",
       "</div>"
      ],
      "text/plain": [
       "  iso_code      continent location        date  total_cases  new_cases  \\\n",
       "0      ABW  North America    Aruba  2020-03-13          2.0        2.0   \n",
       "1      ABW  North America    Aruba  2020-03-19          NaN        NaN   \n",
       "2      ABW  North America    Aruba  2020-03-20          4.0        2.0   \n",
       "3      ABW  North America    Aruba  2020-03-21          NaN        NaN   \n",
       "4      ABW  North America    Aruba  2020-03-22          NaN        NaN   \n",
       "\n",
       "   new_cases_smoothed  total_deaths  new_deaths  new_deaths_smoothed  ...  \\\n",
       "0                 NaN           0.0         0.0                  NaN  ...   \n",
       "1               0.286           NaN         NaN                  0.0  ...   \n",
       "2               0.286           0.0         0.0                  0.0  ...   \n",
       "3               0.286           NaN         NaN                  0.0  ...   \n",
       "4               0.286           NaN         NaN                  0.0  ...   \n",
       "\n",
       "   gdp_per_capita  extreme_poverty  cardiovasc_death_rate  \\\n",
       "0       35973.781              NaN                    NaN   \n",
       "1       35973.781              NaN                    NaN   \n",
       "2       35973.781              NaN                    NaN   \n",
       "3       35973.781              NaN                    NaN   \n",
       "4       35973.781              NaN                    NaN   \n",
       "\n",
       "   diabetes_prevalence  female_smokers  male_smokers  handwashing_facilities  \\\n",
       "0                11.62             NaN           NaN                     NaN   \n",
       "1                11.62             NaN           NaN                     NaN   \n",
       "2                11.62             NaN           NaN                     NaN   \n",
       "3                11.62             NaN           NaN                     NaN   \n",
       "4                11.62             NaN           NaN                     NaN   \n",
       "\n",
       "   hospital_beds_per_thousand  life_expectancy  human_development_index  \n",
       "0                         NaN            76.29                      NaN  \n",
       "1                         NaN            76.29                      NaN  \n",
       "2                         NaN            76.29                      NaN  \n",
       "3                         NaN            76.29                      NaN  \n",
       "4                         NaN            76.29                      NaN  \n",
       "\n",
       "[5 rows x 41 columns]"
      ]
     },
     "execution_count": 2,
     "metadata": {},
     "output_type": "execute_result"
    }
   ],
   "source": [
    "\n",
    "#basic data analysis,quick view of data set\n",
    "#showes first five rows of the data se\n",
    "df.head()"
   ]
  },
  {
   "cell_type": "code",
   "execution_count": 3,
   "metadata": {},
   "outputs": [
    {
     "data": {
      "text/plain": [
       "(50011, 41)"
      ]
     },
     "execution_count": 3,
     "metadata": {},
     "output_type": "execute_result"
    }
   ],
   "source": [
    "df.shape"
   ]
  },
  {
   "cell_type": "markdown",
   "metadata": {},
   "source": [
    "This data has 41 columns and 50011 rows"
   ]
  },
  {
   "cell_type": "code",
   "execution_count": 4,
   "metadata": {},
   "outputs": [
    {
     "data": {
      "text/plain": [
       "Index(['iso_code', 'continent', 'location', 'date', 'total_cases', 'new_cases',\n",
       "       'new_cases_smoothed', 'total_deaths', 'new_deaths',\n",
       "       'new_deaths_smoothed', 'total_cases_per_million',\n",
       "       'new_cases_per_million', 'new_cases_smoothed_per_million',\n",
       "       'total_deaths_per_million', 'new_deaths_per_million',\n",
       "       'new_deaths_smoothed_per_million', 'new_tests', 'total_tests',\n",
       "       'total_tests_per_thousand', 'new_tests_per_thousand',\n",
       "       'new_tests_smoothed', 'new_tests_smoothed_per_thousand',\n",
       "       'tests_per_case', 'positive_rate', 'tests_units', 'stringency_index',\n",
       "       'population', 'population_density', 'median_age', 'aged_65_older',\n",
       "       'aged_70_older', 'gdp_per_capita', 'extreme_poverty',\n",
       "       'cardiovasc_death_rate', 'diabetes_prevalence', 'female_smokers',\n",
       "       'male_smokers', 'handwashing_facilities', 'hospital_beds_per_thousand',\n",
       "       'life_expectancy', 'human_development_index'],\n",
       "      dtype='object')"
      ]
     },
     "execution_count": 4,
     "metadata": {},
     "output_type": "execute_result"
    }
   ],
   "source": [
    "df.columns"
   ]
  },
  {
   "cell_type": "code",
   "execution_count": 202,
   "metadata": {},
   "outputs": [],
   "source": [
    "#  data set have 50011 rows and 41 columns"
   ]
  },
  {
   "cell_type": "markdown",
   "metadata": {},
   "source": [
    "# EDA for New Zealand\n",
    "From covid 19 world dataset Select data where location=New Zealand"
   ]
  },
  {
   "cell_type": "code",
   "execution_count": 5,
   "metadata": {},
   "outputs": [],
   "source": [
    "\n",
    "df_nzl=df[(df['location']=='New Zealand')]\n",
    "#nzl=New Zealand"
   ]
  },
  {
   "cell_type": "code",
   "execution_count": 6,
   "metadata": {},
   "outputs": [
    {
     "data": {
      "text/html": [
       "<div>\n",
       "<style scoped>\n",
       "    .dataframe tbody tr th:only-of-type {\n",
       "        vertical-align: middle;\n",
       "    }\n",
       "\n",
       "    .dataframe tbody tr th {\n",
       "        vertical-align: top;\n",
       "    }\n",
       "\n",
       "    .dataframe thead th {\n",
       "        text-align: right;\n",
       "    }\n",
       "</style>\n",
       "<table border=\"1\" class=\"dataframe\">\n",
       "  <thead>\n",
       "    <tr style=\"text-align: right;\">\n",
       "      <th></th>\n",
       "      <th>iso_code</th>\n",
       "      <th>continent</th>\n",
       "      <th>location</th>\n",
       "      <th>date</th>\n",
       "      <th>total_cases</th>\n",
       "      <th>new_cases</th>\n",
       "      <th>new_cases_smoothed</th>\n",
       "      <th>total_deaths</th>\n",
       "      <th>new_deaths</th>\n",
       "      <th>new_deaths_smoothed</th>\n",
       "      <th>...</th>\n",
       "      <th>gdp_per_capita</th>\n",
       "      <th>extreme_poverty</th>\n",
       "      <th>cardiovasc_death_rate</th>\n",
       "      <th>diabetes_prevalence</th>\n",
       "      <th>female_smokers</th>\n",
       "      <th>male_smokers</th>\n",
       "      <th>handwashing_facilities</th>\n",
       "      <th>hospital_beds_per_thousand</th>\n",
       "      <th>life_expectancy</th>\n",
       "      <th>human_development_index</th>\n",
       "    </tr>\n",
       "  </thead>\n",
       "  <tbody>\n",
       "    <tr>\n",
       "      <th>34882</th>\n",
       "      <td>NZL</td>\n",
       "      <td>Oceania</td>\n",
       "      <td>New Zealand</td>\n",
       "      <td>2019-12-31</td>\n",
       "      <td>0.0</td>\n",
       "      <td>0.0</td>\n",
       "      <td>NaN</td>\n",
       "      <td>0.0</td>\n",
       "      <td>0.0</td>\n",
       "      <td>NaN</td>\n",
       "      <td>...</td>\n",
       "      <td>36085.843</td>\n",
       "      <td>NaN</td>\n",
       "      <td>128.797</td>\n",
       "      <td>8.08</td>\n",
       "      <td>14.8</td>\n",
       "      <td>17.2</td>\n",
       "      <td>NaN</td>\n",
       "      <td>2.61</td>\n",
       "      <td>82.29</td>\n",
       "      <td>0.917</td>\n",
       "    </tr>\n",
       "    <tr>\n",
       "      <th>34883</th>\n",
       "      <td>NZL</td>\n",
       "      <td>Oceania</td>\n",
       "      <td>New Zealand</td>\n",
       "      <td>2020-01-01</td>\n",
       "      <td>0.0</td>\n",
       "      <td>0.0</td>\n",
       "      <td>NaN</td>\n",
       "      <td>0.0</td>\n",
       "      <td>0.0</td>\n",
       "      <td>NaN</td>\n",
       "      <td>...</td>\n",
       "      <td>36085.843</td>\n",
       "      <td>NaN</td>\n",
       "      <td>128.797</td>\n",
       "      <td>8.08</td>\n",
       "      <td>14.8</td>\n",
       "      <td>17.2</td>\n",
       "      <td>NaN</td>\n",
       "      <td>2.61</td>\n",
       "      <td>82.29</td>\n",
       "      <td>0.917</td>\n",
       "    </tr>\n",
       "    <tr>\n",
       "      <th>34884</th>\n",
       "      <td>NZL</td>\n",
       "      <td>Oceania</td>\n",
       "      <td>New Zealand</td>\n",
       "      <td>2020-01-02</td>\n",
       "      <td>0.0</td>\n",
       "      <td>0.0</td>\n",
       "      <td>NaN</td>\n",
       "      <td>0.0</td>\n",
       "      <td>0.0</td>\n",
       "      <td>NaN</td>\n",
       "      <td>...</td>\n",
       "      <td>36085.843</td>\n",
       "      <td>NaN</td>\n",
       "      <td>128.797</td>\n",
       "      <td>8.08</td>\n",
       "      <td>14.8</td>\n",
       "      <td>17.2</td>\n",
       "      <td>NaN</td>\n",
       "      <td>2.61</td>\n",
       "      <td>82.29</td>\n",
       "      <td>0.917</td>\n",
       "    </tr>\n",
       "    <tr>\n",
       "      <th>34885</th>\n",
       "      <td>NZL</td>\n",
       "      <td>Oceania</td>\n",
       "      <td>New Zealand</td>\n",
       "      <td>2020-01-03</td>\n",
       "      <td>0.0</td>\n",
       "      <td>0.0</td>\n",
       "      <td>NaN</td>\n",
       "      <td>0.0</td>\n",
       "      <td>0.0</td>\n",
       "      <td>NaN</td>\n",
       "      <td>...</td>\n",
       "      <td>36085.843</td>\n",
       "      <td>NaN</td>\n",
       "      <td>128.797</td>\n",
       "      <td>8.08</td>\n",
       "      <td>14.8</td>\n",
       "      <td>17.2</td>\n",
       "      <td>NaN</td>\n",
       "      <td>2.61</td>\n",
       "      <td>82.29</td>\n",
       "      <td>0.917</td>\n",
       "    </tr>\n",
       "    <tr>\n",
       "      <th>34886</th>\n",
       "      <td>NZL</td>\n",
       "      <td>Oceania</td>\n",
       "      <td>New Zealand</td>\n",
       "      <td>2020-01-04</td>\n",
       "      <td>0.0</td>\n",
       "      <td>0.0</td>\n",
       "      <td>NaN</td>\n",
       "      <td>0.0</td>\n",
       "      <td>0.0</td>\n",
       "      <td>NaN</td>\n",
       "      <td>...</td>\n",
       "      <td>36085.843</td>\n",
       "      <td>NaN</td>\n",
       "      <td>128.797</td>\n",
       "      <td>8.08</td>\n",
       "      <td>14.8</td>\n",
       "      <td>17.2</td>\n",
       "      <td>NaN</td>\n",
       "      <td>2.61</td>\n",
       "      <td>82.29</td>\n",
       "      <td>0.917</td>\n",
       "    </tr>\n",
       "  </tbody>\n",
       "</table>\n",
       "<p>5 rows × 41 columns</p>\n",
       "</div>"
      ],
      "text/plain": [
       "      iso_code continent     location        date  total_cases  new_cases  \\\n",
       "34882      NZL   Oceania  New Zealand  2019-12-31          0.0        0.0   \n",
       "34883      NZL   Oceania  New Zealand  2020-01-01          0.0        0.0   \n",
       "34884      NZL   Oceania  New Zealand  2020-01-02          0.0        0.0   \n",
       "34885      NZL   Oceania  New Zealand  2020-01-03          0.0        0.0   \n",
       "34886      NZL   Oceania  New Zealand  2020-01-04          0.0        0.0   \n",
       "\n",
       "       new_cases_smoothed  total_deaths  new_deaths  new_deaths_smoothed  ...  \\\n",
       "34882                 NaN           0.0         0.0                  NaN  ...   \n",
       "34883                 NaN           0.0         0.0                  NaN  ...   \n",
       "34884                 NaN           0.0         0.0                  NaN  ...   \n",
       "34885                 NaN           0.0         0.0                  NaN  ...   \n",
       "34886                 NaN           0.0         0.0                  NaN  ...   \n",
       "\n",
       "       gdp_per_capita  extreme_poverty  cardiovasc_death_rate  \\\n",
       "34882       36085.843              NaN                128.797   \n",
       "34883       36085.843              NaN                128.797   \n",
       "34884       36085.843              NaN                128.797   \n",
       "34885       36085.843              NaN                128.797   \n",
       "34886       36085.843              NaN                128.797   \n",
       "\n",
       "       diabetes_prevalence  female_smokers  male_smokers  \\\n",
       "34882                 8.08            14.8          17.2   \n",
       "34883                 8.08            14.8          17.2   \n",
       "34884                 8.08            14.8          17.2   \n",
       "34885                 8.08            14.8          17.2   \n",
       "34886                 8.08            14.8          17.2   \n",
       "\n",
       "       handwashing_facilities  hospital_beds_per_thousand  life_expectancy  \\\n",
       "34882                     NaN                        2.61            82.29   \n",
       "34883                     NaN                        2.61            82.29   \n",
       "34884                     NaN                        2.61            82.29   \n",
       "34885                     NaN                        2.61            82.29   \n",
       "34886                     NaN                        2.61            82.29   \n",
       "\n",
       "       human_development_index  \n",
       "34882                    0.917  \n",
       "34883                    0.917  \n",
       "34884                    0.917  \n",
       "34885                    0.917  \n",
       "34886                    0.917  \n",
       "\n",
       "[5 rows x 41 columns]"
      ]
     },
     "execution_count": 6,
     "metadata": {},
     "output_type": "execute_result"
    }
   ],
   "source": [
    "df_nzl.head()"
   ]
  },
  {
   "cell_type": "code",
   "execution_count": 6,
   "metadata": {},
   "outputs": [
    {
     "name": "stdout",
     "output_type": "stream",
     "text": [
      "<class 'pandas.core.frame.DataFrame'>\n",
      "Int64Index: 290 entries, 34882 to 35171\n",
      "Data columns (total 41 columns):\n",
      " #   Column                           Non-Null Count  Dtype  \n",
      "---  ------                           --------------  -----  \n",
      " 0   iso_code                         290 non-null    object \n",
      " 1   continent                        290 non-null    object \n",
      " 2   location                         290 non-null    object \n",
      " 3   date                             290 non-null    object \n",
      " 4   total_cases                      281 non-null    float64\n",
      " 5   new_cases                        281 non-null    float64\n",
      " 6   new_cases_smoothed               284 non-null    float64\n",
      " 7   total_deaths                     281 non-null    float64\n",
      " 8   new_deaths                       281 non-null    float64\n",
      " 9   new_deaths_smoothed              284 non-null    float64\n",
      " 10  total_cases_per_million          281 non-null    float64\n",
      " 11  new_cases_per_million            281 non-null    float64\n",
      " 12  new_cases_smoothed_per_million   284 non-null    float64\n",
      " 13  total_deaths_per_million         281 non-null    float64\n",
      " 14  new_deaths_per_million           281 non-null    float64\n",
      " 15  new_deaths_smoothed_per_million  284 non-null    float64\n",
      " 16  new_tests                        219 non-null    float64\n",
      " 17  total_tests                      219 non-null    float64\n",
      " 18  total_tests_per_thousand         219 non-null    float64\n",
      " 19  new_tests_per_thousand           219 non-null    float64\n",
      " 20  new_tests_smoothed               212 non-null    float64\n",
      " 21  new_tests_smoothed_per_thousand  212 non-null    float64\n",
      " 22  tests_per_case                   194 non-null    float64\n",
      " 23  positive_rate                    212 non-null    float64\n",
      " 24  tests_units                      219 non-null    object \n",
      " 25  stringency_index                 281 non-null    float64\n",
      " 26  population                       290 non-null    float64\n",
      " 27  population_density               290 non-null    float64\n",
      " 28  median_age                       290 non-null    float64\n",
      " 29  aged_65_older                    290 non-null    float64\n",
      " 30  aged_70_older                    290 non-null    float64\n",
      " 31  gdp_per_capita                   290 non-null    float64\n",
      " 32  extreme_poverty                  0 non-null      float64\n",
      " 33  cardiovasc_death_rate            290 non-null    float64\n",
      " 34  diabetes_prevalence              290 non-null    float64\n",
      " 35  female_smokers                   290 non-null    float64\n",
      " 36  male_smokers                     290 non-null    float64\n",
      " 37  handwashing_facilities           0 non-null      float64\n",
      " 38  hospital_beds_per_thousand       290 non-null    float64\n",
      " 39  life_expectancy                  290 non-null    float64\n",
      " 40  human_development_index          290 non-null    float64\n",
      "dtypes: float64(36), object(5)\n",
      "memory usage: 95.2+ KB\n"
     ]
    }
   ],
   "source": [
    "df_nzl.info()\n",
    "#41 columns and two data types object and float"
   ]
  },
  {
   "cell_type": "code",
   "execution_count": 7,
   "metadata": {},
   "outputs": [
    {
     "data": {
      "text/plain": [
       "(290, 41)"
      ]
     },
     "execution_count": 7,
     "metadata": {},
     "output_type": "execute_result"
    }
   ],
   "source": [
    "df_nzl.shape\n"
   ]
  },
  {
   "cell_type": "markdown",
   "metadata": {},
   "source": [
    "# New Zealand has 290  entries and 41 rows"
   ]
  },
  {
   "cell_type": "code",
   "execution_count": 8,
   "metadata": {},
   "outputs": [],
   "source": [
    "#sort New Zealand data set (sort() method sorts the list ascending by default)\n",
    "df_nzl=df_nzl.reindex(sorted(df_nzl.columns), axis=1)"
   ]
  },
  {
   "cell_type": "code",
   "execution_count": 9,
   "metadata": {},
   "outputs": [
    {
     "name": "stdout",
     "output_type": "stream",
     "text": [
      "<class 'pandas.core.frame.DataFrame'>\n",
      "Int64Index: 290 entries, 34882 to 35171\n",
      "Data columns (total 41 columns):\n",
      " #   Column                           Non-Null Count  Dtype  \n",
      "---  ------                           --------------  -----  \n",
      " 0   aged_65_older                    290 non-null    float64\n",
      " 1   aged_70_older                    290 non-null    float64\n",
      " 2   cardiovasc_death_rate            290 non-null    float64\n",
      " 3   continent                        290 non-null    object \n",
      " 4   date                             290 non-null    object \n",
      " 5   diabetes_prevalence              290 non-null    float64\n",
      " 6   extreme_poverty                  0 non-null      float64\n",
      " 7   female_smokers                   290 non-null    float64\n",
      " 8   gdp_per_capita                   290 non-null    float64\n",
      " 9   handwashing_facilities           0 non-null      float64\n",
      " 10  hospital_beds_per_thousand       290 non-null    float64\n",
      " 11  human_development_index          290 non-null    float64\n",
      " 12  iso_code                         290 non-null    object \n",
      " 13  life_expectancy                  290 non-null    float64\n",
      " 14  location                         290 non-null    object \n",
      " 15  male_smokers                     290 non-null    float64\n",
      " 16  median_age                       290 non-null    float64\n",
      " 17  new_cases                        281 non-null    float64\n",
      " 18  new_cases_per_million            281 non-null    float64\n",
      " 19  new_cases_smoothed               284 non-null    float64\n",
      " 20  new_cases_smoothed_per_million   284 non-null    float64\n",
      " 21  new_deaths                       281 non-null    float64\n",
      " 22  new_deaths_per_million           281 non-null    float64\n",
      " 23  new_deaths_smoothed              284 non-null    float64\n",
      " 24  new_deaths_smoothed_per_million  284 non-null    float64\n",
      " 25  new_tests                        219 non-null    float64\n",
      " 26  new_tests_per_thousand           219 non-null    float64\n",
      " 27  new_tests_smoothed               212 non-null    float64\n",
      " 28  new_tests_smoothed_per_thousand  212 non-null    float64\n",
      " 29  population                       290 non-null    float64\n",
      " 30  population_density               290 non-null    float64\n",
      " 31  positive_rate                    212 non-null    float64\n",
      " 32  stringency_index                 281 non-null    float64\n",
      " 33  tests_per_case                   194 non-null    float64\n",
      " 34  tests_units                      219 non-null    object \n",
      " 35  total_cases                      281 non-null    float64\n",
      " 36  total_cases_per_million          281 non-null    float64\n",
      " 37  total_deaths                     281 non-null    float64\n",
      " 38  total_deaths_per_million         281 non-null    float64\n",
      " 39  total_tests                      219 non-null    float64\n",
      " 40  total_tests_per_thousand         219 non-null    float64\n",
      "dtypes: float64(36), object(5)\n",
      "memory usage: 95.2+ KB\n"
     ]
    }
   ],
   "source": [
    "df_nzl.info()"
   ]
  },
  {
   "cell_type": "markdown",
   "metadata": {},
   "source": [
    "# Number of missing values per column."
   ]
  },
  {
   "cell_type": "code",
   "execution_count": 10,
   "metadata": {},
   "outputs": [
    {
     "data": {
      "text/plain": [
       "aged_65_older                        0\n",
       "aged_70_older                        0\n",
       "cardiovasc_death_rate                0\n",
       "continent                            0\n",
       "date                                 0\n",
       "diabetes_prevalence                  0\n",
       "extreme_poverty                    290\n",
       "female_smokers                       0\n",
       "gdp_per_capita                       0\n",
       "handwashing_facilities             290\n",
       "hospital_beds_per_thousand           0\n",
       "human_development_index              0\n",
       "iso_code                             0\n",
       "life_expectancy                      0\n",
       "location                             0\n",
       "male_smokers                         0\n",
       "median_age                           0\n",
       "new_cases                            9\n",
       "new_cases_per_million                9\n",
       "new_cases_smoothed                   6\n",
       "new_cases_smoothed_per_million       6\n",
       "new_deaths                           9\n",
       "new_deaths_per_million               9\n",
       "new_deaths_smoothed                  6\n",
       "new_deaths_smoothed_per_million      6\n",
       "new_tests                           71\n",
       "new_tests_per_thousand              71\n",
       "new_tests_smoothed                  78\n",
       "new_tests_smoothed_per_thousand     78\n",
       "population                           0\n",
       "population_density                   0\n",
       "positive_rate                       78\n",
       "stringency_index                     9\n",
       "tests_per_case                      96\n",
       "tests_units                         71\n",
       "total_cases                          9\n",
       "total_cases_per_million              9\n",
       "total_deaths                         9\n",
       "total_deaths_per_million             9\n",
       "total_tests                         71\n",
       "total_tests_per_thousand            71\n",
       "dtype: int64"
      ]
     },
     "execution_count": 10,
     "metadata": {},
     "output_type": "execute_result"
    }
   ],
   "source": [
    "# number of missing value per column\n",
    "df_nzl.isnull().sum()"
   ]
  },
  {
   "cell_type": "code",
   "execution_count": null,
   "metadata": {},
   "outputs": [],
   "source": [
    "#remove extreme_poverty and handwashing_facilities ,it is havivg no entries\n",
    "# remove the duplicate columns columns"
   ]
  },
  {
   "cell_type": "code",
   "execution_count": 12,
   "metadata": {},
   "outputs": [],
   "source": [
    "\n",
    "df_nzl.drop(['extreme_poverty','handwashing_facilities','date','location','iso_code','continent','location','new_cases_smoothed','life_expectancy',\n",
    "            'new_deaths_smoothed',\"new_tests_smoothed\",'total_deaths_per_million','total_cases_per_million','new_tests_smoothed_per_thousand',\n",
    "            'new_deaths_smoothed_per_million','new_deaths_per_million','new_cases_smoothed_per_million',\n",
    "             'new_cases_per_million'],axis=1, inplace=True)\n"
   ]
  },
  {
   "cell_type": "code",
   "execution_count": 14,
   "metadata": {},
   "outputs": [
    {
     "name": "stdout",
     "output_type": "stream",
     "text": [
      "<class 'pandas.core.frame.DataFrame'>\n",
      "Int64Index: 290 entries, 34882 to 35171\n",
      "Data columns (total 24 columns):\n",
      " #   Column                      Non-Null Count  Dtype  \n",
      "---  ------                      --------------  -----  \n",
      " 0   aged_65_older               290 non-null    float64\n",
      " 1   aged_70_older               290 non-null    float64\n",
      " 2   cardiovasc_death_rate       290 non-null    float64\n",
      " 3   diabetes_prevalence         290 non-null    float64\n",
      " 4   female_smokers              290 non-null    float64\n",
      " 5   gdp_per_capita              290 non-null    float64\n",
      " 6   hospital_beds_per_thousand  290 non-null    float64\n",
      " 7   human_development_index     290 non-null    float64\n",
      " 8   male_smokers                290 non-null    float64\n",
      " 9   median_age                  290 non-null    float64\n",
      " 10  new_cases                   281 non-null    float64\n",
      " 11  new_deaths                  281 non-null    float64\n",
      " 12  new_tests                   219 non-null    float64\n",
      " 13  new_tests_per_thousand      219 non-null    float64\n",
      " 14  population                  290 non-null    float64\n",
      " 15  population_density          290 non-null    float64\n",
      " 16  positive_rate               212 non-null    float64\n",
      " 17  stringency_index            281 non-null    float64\n",
      " 18  tests_per_case              194 non-null    float64\n",
      " 19  tests_units                 219 non-null    object \n",
      " 20  total_cases                 281 non-null    float64\n",
      " 21  total_deaths                281 non-null    float64\n",
      " 22  total_tests                 219 non-null    float64\n",
      " 23  total_tests_per_thousand    219 non-null    float64\n",
      "dtypes: float64(23), object(1)\n",
      "memory usage: 56.6+ KB\n"
     ]
    }
   ],
   "source": [
    "df_nzl.info()\n",
    "#after drop we got 24 cols"
   ]
  },
  {
   "cell_type": "markdown",
   "metadata": {},
   "source": [
    "\n",
    "# Impute the missing values\n"
   ]
  },
  {
   "cell_type": "code",
   "execution_count": null,
   "metadata": {},
   "outputs": [],
   "source": [
    "df_nzl.isnull().sum()"
   ]
  },
  {
   "cell_type": "code",
   "execution_count": 17,
   "metadata": {},
   "outputs": [
    {
     "data": {
      "text/plain": [
       "aged_65_older                 0.000000\n",
       "aged_70_older                 0.000000\n",
       "cardiovasc_death_rate         0.000000\n",
       "diabetes_prevalence           0.000000\n",
       "female_smokers                0.000000\n",
       "gdp_per_capita                0.000000\n",
       "hospital_beds_per_thousand    0.000000\n",
       "human_development_index       0.000000\n",
       "male_smokers                  0.000000\n",
       "median_age                    0.000000\n",
       "new_cases                     4.093064\n",
       "new_deaths                    5.866464\n",
       "new_tests                     2.541249\n",
       "new_tests_per_thousand        2.541150\n",
       "population                    0.000000\n",
       "population_density            0.000000\n",
       "positive_rate                 3.457795\n",
       "stringency_index              0.902152\n",
       "tests_per_case                4.194971\n",
       "total_cases                  -0.757121\n",
       "total_deaths                 -0.553039\n",
       "total_tests                   0.471441\n",
       "total_tests_per_thousand      0.471441\n",
       "dtype: float64"
      ]
     },
     "execution_count": 17,
     "metadata": {},
     "output_type": "execute_result"
    }
   ],
   "source": [
    "# before filling up the missing value ,check the skewness of data\n",
    "df_nzl.skew(axis = 0, skipna = True) "
   ]
  },
  {
   "cell_type": "code",
   "execution_count": 18,
   "metadata": {},
   "outputs": [
    {
     "data": {
      "text/html": [
       "<div>\n",
       "<style scoped>\n",
       "    .dataframe tbody tr th:only-of-type {\n",
       "        vertical-align: middle;\n",
       "    }\n",
       "\n",
       "    .dataframe tbody tr th {\n",
       "        vertical-align: top;\n",
       "    }\n",
       "\n",
       "    .dataframe thead th {\n",
       "        text-align: right;\n",
       "    }\n",
       "</style>\n",
       "<table border=\"1\" class=\"dataframe\">\n",
       "  <thead>\n",
       "    <tr style=\"text-align: right;\">\n",
       "      <th></th>\n",
       "      <th>aged_65_older</th>\n",
       "      <th>aged_70_older</th>\n",
       "      <th>cardiovasc_death_rate</th>\n",
       "      <th>diabetes_prevalence</th>\n",
       "      <th>female_smokers</th>\n",
       "      <th>gdp_per_capita</th>\n",
       "      <th>hospital_beds_per_thousand</th>\n",
       "      <th>human_development_index</th>\n",
       "      <th>male_smokers</th>\n",
       "      <th>median_age</th>\n",
       "      <th>...</th>\n",
       "      <th>new_tests_per_thousand</th>\n",
       "      <th>population</th>\n",
       "      <th>population_density</th>\n",
       "      <th>positive_rate</th>\n",
       "      <th>stringency_index</th>\n",
       "      <th>tests_per_case</th>\n",
       "      <th>total_cases</th>\n",
       "      <th>total_deaths</th>\n",
       "      <th>total_tests</th>\n",
       "      <th>total_tests_per_thousand</th>\n",
       "    </tr>\n",
       "  </thead>\n",
       "  <tbody>\n",
       "    <tr>\n",
       "      <th>count</th>\n",
       "      <td>2.900000e+02</td>\n",
       "      <td>2.900000e+02</td>\n",
       "      <td>2.900000e+02</td>\n",
       "      <td>2.900000e+02</td>\n",
       "      <td>2.900000e+02</td>\n",
       "      <td>2.900000e+02</td>\n",
       "      <td>2.900000e+02</td>\n",
       "      <td>2.900000e+02</td>\n",
       "      <td>2.900000e+02</td>\n",
       "      <td>2.900000e+02</td>\n",
       "      <td>...</td>\n",
       "      <td>219.000000</td>\n",
       "      <td>290.0</td>\n",
       "      <td>2.900000e+02</td>\n",
       "      <td>212.000000</td>\n",
       "      <td>281.000000</td>\n",
       "      <td>194.000000</td>\n",
       "      <td>281.000000</td>\n",
       "      <td>281.000000</td>\n",
       "      <td>2.190000e+02</td>\n",
       "      <td>219.000000</td>\n",
       "    </tr>\n",
       "    <tr>\n",
       "      <th>mean</th>\n",
       "      <td>1.532200e+01</td>\n",
       "      <td>9.720000e+00</td>\n",
       "      <td>1.287970e+02</td>\n",
       "      <td>8.080000e+00</td>\n",
       "      <td>1.480000e+01</td>\n",
       "      <td>3.608584e+04</td>\n",
       "      <td>2.610000e+00</td>\n",
       "      <td>9.170000e-01</td>\n",
       "      <td>1.720000e+01</td>\n",
       "      <td>3.790000e+01</td>\n",
       "      <td>...</td>\n",
       "      <td>0.967671</td>\n",
       "      <td>4822233.0</td>\n",
       "      <td>1.820600e+01</td>\n",
       "      <td>0.002792</td>\n",
       "      <td>39.010996</td>\n",
       "      <td>2960.401577</td>\n",
       "      <td>879.330961</td>\n",
       "      <td>14.395018</td>\n",
       "      <td>4.145765e+05</td>\n",
       "      <td>85.971868</td>\n",
       "    </tr>\n",
       "    <tr>\n",
       "      <th>std</th>\n",
       "      <td>3.736798e-14</td>\n",
       "      <td>3.914740e-14</td>\n",
       "      <td>6.833001e-13</td>\n",
       "      <td>3.380912e-14</td>\n",
       "      <td>7.829481e-14</td>\n",
       "      <td>1.895019e-10</td>\n",
       "      <td>1.156628e-14</td>\n",
       "      <td>3.336427e-16</td>\n",
       "      <td>9.253023e-14</td>\n",
       "      <td>1.992959e-13</td>\n",
       "      <td>...</td>\n",
       "      <td>0.851437</td>\n",
       "      <td>0.0</td>\n",
       "      <td>6.405939e-14</td>\n",
       "      <td>0.006976</td>\n",
       "      <td>29.448573</td>\n",
       "      <td>4194.561154</td>\n",
       "      <td>564.160521</td>\n",
       "      <td>10.467152</td>\n",
       "      <td>3.112206e+05</td>\n",
       "      <td>64.538643</td>\n",
       "    </tr>\n",
       "    <tr>\n",
       "      <th>min</th>\n",
       "      <td>1.532200e+01</td>\n",
       "      <td>9.720000e+00</td>\n",
       "      <td>1.287970e+02</td>\n",
       "      <td>8.080000e+00</td>\n",
       "      <td>1.480000e+01</td>\n",
       "      <td>3.608584e+04</td>\n",
       "      <td>2.610000e+00</td>\n",
       "      <td>9.170000e-01</td>\n",
       "      <td>1.720000e+01</td>\n",
       "      <td>3.790000e+01</td>\n",
       "      <td>...</td>\n",
       "      <td>0.002000</td>\n",
       "      <td>4822233.0</td>\n",
       "      <td>1.820600e+01</td>\n",
       "      <td>0.000000</td>\n",
       "      <td>0.000000</td>\n",
       "      <td>25.713000</td>\n",
       "      <td>0.000000</td>\n",
       "      <td>0.000000</td>\n",
       "      <td>3.120000e+02</td>\n",
       "      <td>0.065000</td>\n",
       "    </tr>\n",
       "    <tr>\n",
       "      <th>25%</th>\n",
       "      <td>1.532200e+01</td>\n",
       "      <td>9.720000e+00</td>\n",
       "      <td>1.287970e+02</td>\n",
       "      <td>8.080000e+00</td>\n",
       "      <td>1.480000e+01</td>\n",
       "      <td>3.608584e+04</td>\n",
       "      <td>2.610000e+00</td>\n",
       "      <td>9.170000e-01</td>\n",
       "      <td>1.720000e+01</td>\n",
       "      <td>3.790000e+01</td>\n",
       "      <td>...</td>\n",
       "      <td>0.443500</td>\n",
       "      <td>4822233.0</td>\n",
       "      <td>1.820600e+01</td>\n",
       "      <td>0.000000</td>\n",
       "      <td>19.440000</td>\n",
       "      <td>1177.078250</td>\n",
       "      <td>28.000000</td>\n",
       "      <td>0.000000</td>\n",
       "      <td>1.514595e+05</td>\n",
       "      <td>31.408500</td>\n",
       "    </tr>\n",
       "    <tr>\n",
       "      <th>50%</th>\n",
       "      <td>1.532200e+01</td>\n",
       "      <td>9.720000e+00</td>\n",
       "      <td>1.287970e+02</td>\n",
       "      <td>8.080000e+00</td>\n",
       "      <td>1.480000e+01</td>\n",
       "      <td>3.608584e+04</td>\n",
       "      <td>2.610000e+00</td>\n",
       "      <td>9.170000e-01</td>\n",
       "      <td>1.720000e+01</td>\n",
       "      <td>3.790000e+01</td>\n",
       "      <td>...</td>\n",
       "      <td>0.741000</td>\n",
       "      <td>4822233.0</td>\n",
       "      <td>1.820600e+01</td>\n",
       "      <td>0.001000</td>\n",
       "      <td>31.940000</td>\n",
       "      <td>1871.398500</td>\n",
       "      <td>1154.000000</td>\n",
       "      <td>22.000000</td>\n",
       "      <td>3.874350e+05</td>\n",
       "      <td>80.343000</td>\n",
       "    </tr>\n",
       "    <tr>\n",
       "      <th>75%</th>\n",
       "      <td>1.532200e+01</td>\n",
       "      <td>9.720000e+00</td>\n",
       "      <td>1.287970e+02</td>\n",
       "      <td>8.080000e+00</td>\n",
       "      <td>1.480000e+01</td>\n",
       "      <td>3.608584e+04</td>\n",
       "      <td>2.610000e+00</td>\n",
       "      <td>9.170000e-01</td>\n",
       "      <td>1.720000e+01</td>\n",
       "      <td>3.790000e+01</td>\n",
       "      <td>...</td>\n",
       "      <td>1.235000</td>\n",
       "      <td>4822233.0</td>\n",
       "      <td>1.820600e+01</td>\n",
       "      <td>0.001000</td>\n",
       "      <td>68.980000</td>\n",
       "      <td>3349.410000</td>\n",
       "      <td>1219.000000</td>\n",
       "      <td>22.000000</td>\n",
       "      <td>6.653630e+05</td>\n",
       "      <td>137.978500</td>\n",
       "    </tr>\n",
       "    <tr>\n",
       "      <th>max</th>\n",
       "      <td>1.532200e+01</td>\n",
       "      <td>9.720000e+00</td>\n",
       "      <td>1.287970e+02</td>\n",
       "      <td>8.080000e+00</td>\n",
       "      <td>1.480000e+01</td>\n",
       "      <td>3.608584e+04</td>\n",
       "      <td>2.610000e+00</td>\n",
       "      <td>9.170000e-01</td>\n",
       "      <td>1.720000e+01</td>\n",
       "      <td>3.790000e+01</td>\n",
       "      <td>...</td>\n",
       "      <td>5.395000</td>\n",
       "      <td>4822233.0</td>\n",
       "      <td>1.820600e+01</td>\n",
       "      <td>0.039000</td>\n",
       "      <td>96.300000</td>\n",
       "      <td>28707.000000</td>\n",
       "      <td>1520.000000</td>\n",
       "      <td>25.000000</td>\n",
       "      <td>1.011657e+06</td>\n",
       "      <td>209.790000</td>\n",
       "    </tr>\n",
       "  </tbody>\n",
       "</table>\n",
       "<p>8 rows × 23 columns</p>\n",
       "</div>"
      ],
      "text/plain": [
       "       aged_65_older  aged_70_older  cardiovasc_death_rate  \\\n",
       "count   2.900000e+02   2.900000e+02           2.900000e+02   \n",
       "mean    1.532200e+01   9.720000e+00           1.287970e+02   \n",
       "std     3.736798e-14   3.914740e-14           6.833001e-13   \n",
       "min     1.532200e+01   9.720000e+00           1.287970e+02   \n",
       "25%     1.532200e+01   9.720000e+00           1.287970e+02   \n",
       "50%     1.532200e+01   9.720000e+00           1.287970e+02   \n",
       "75%     1.532200e+01   9.720000e+00           1.287970e+02   \n",
       "max     1.532200e+01   9.720000e+00           1.287970e+02   \n",
       "\n",
       "       diabetes_prevalence  female_smokers  gdp_per_capita  \\\n",
       "count         2.900000e+02    2.900000e+02    2.900000e+02   \n",
       "mean          8.080000e+00    1.480000e+01    3.608584e+04   \n",
       "std           3.380912e-14    7.829481e-14    1.895019e-10   \n",
       "min           8.080000e+00    1.480000e+01    3.608584e+04   \n",
       "25%           8.080000e+00    1.480000e+01    3.608584e+04   \n",
       "50%           8.080000e+00    1.480000e+01    3.608584e+04   \n",
       "75%           8.080000e+00    1.480000e+01    3.608584e+04   \n",
       "max           8.080000e+00    1.480000e+01    3.608584e+04   \n",
       "\n",
       "       hospital_beds_per_thousand  human_development_index  male_smokers  \\\n",
       "count                2.900000e+02             2.900000e+02  2.900000e+02   \n",
       "mean                 2.610000e+00             9.170000e-01  1.720000e+01   \n",
       "std                  1.156628e-14             3.336427e-16  9.253023e-14   \n",
       "min                  2.610000e+00             9.170000e-01  1.720000e+01   \n",
       "25%                  2.610000e+00             9.170000e-01  1.720000e+01   \n",
       "50%                  2.610000e+00             9.170000e-01  1.720000e+01   \n",
       "75%                  2.610000e+00             9.170000e-01  1.720000e+01   \n",
       "max                  2.610000e+00             9.170000e-01  1.720000e+01   \n",
       "\n",
       "         median_age  ...  new_tests_per_thousand  population  \\\n",
       "count  2.900000e+02  ...              219.000000       290.0   \n",
       "mean   3.790000e+01  ...                0.967671   4822233.0   \n",
       "std    1.992959e-13  ...                0.851437         0.0   \n",
       "min    3.790000e+01  ...                0.002000   4822233.0   \n",
       "25%    3.790000e+01  ...                0.443500   4822233.0   \n",
       "50%    3.790000e+01  ...                0.741000   4822233.0   \n",
       "75%    3.790000e+01  ...                1.235000   4822233.0   \n",
       "max    3.790000e+01  ...                5.395000   4822233.0   \n",
       "\n",
       "       population_density  positive_rate  stringency_index  tests_per_case  \\\n",
       "count        2.900000e+02     212.000000        281.000000      194.000000   \n",
       "mean         1.820600e+01       0.002792         39.010996     2960.401577   \n",
       "std          6.405939e-14       0.006976         29.448573     4194.561154   \n",
       "min          1.820600e+01       0.000000          0.000000       25.713000   \n",
       "25%          1.820600e+01       0.000000         19.440000     1177.078250   \n",
       "50%          1.820600e+01       0.001000         31.940000     1871.398500   \n",
       "75%          1.820600e+01       0.001000         68.980000     3349.410000   \n",
       "max          1.820600e+01       0.039000         96.300000    28707.000000   \n",
       "\n",
       "       total_cases  total_deaths   total_tests  total_tests_per_thousand  \n",
       "count   281.000000    281.000000  2.190000e+02                219.000000  \n",
       "mean    879.330961     14.395018  4.145765e+05                 85.971868  \n",
       "std     564.160521     10.467152  3.112206e+05                 64.538643  \n",
       "min       0.000000      0.000000  3.120000e+02                  0.065000  \n",
       "25%      28.000000      0.000000  1.514595e+05                 31.408500  \n",
       "50%    1154.000000     22.000000  3.874350e+05                 80.343000  \n",
       "75%    1219.000000     22.000000  6.653630e+05                137.978500  \n",
       "max    1520.000000     25.000000  1.011657e+06                209.790000  \n",
       "\n",
       "[8 rows x 23 columns]"
      ]
     },
     "execution_count": 18,
     "metadata": {},
     "output_type": "execute_result"
    }
   ],
   "source": [
    "df_nzl.describe()"
   ]
  },
  {
   "cell_type": "markdown",
   "metadata": {},
   "source": [
    "# Impute the missing values.\n",
    "# If a features  have high skewness replace it with median,\n",
    "#features having normal distribution ,replace with mean\n"
   ]
  },
  {
   "cell_type": "code",
   "execution_count": 19,
   "metadata": {},
   "outputs": [
    {
     "data": {
      "text/plain": [
       "count    281.000000\n",
       "mean       5.409253\n",
       "std       13.958604\n",
       "min        0.000000\n",
       "25%        0.000000\n",
       "50%        1.000000\n",
       "75%        3.000000\n",
       "max       95.000000\n",
       "Name: new_cases, dtype: float64"
      ]
     },
     "execution_count": 19,
     "metadata": {},
     "output_type": "execute_result"
    }
   ],
   "source": [
    "df_nzl[\"new_cases\"].describe()"
   ]
  },
  {
   "cell_type": "code",
   "execution_count": 21,
   "metadata": {},
   "outputs": [
    {
     "data": {
      "text/plain": [
       "1.0"
      ]
     },
     "execution_count": 21,
     "metadata": {},
     "output_type": "execute_result"
    }
   ],
   "source": [
    "df_nzl[\"new_cases\"].median()"
   ]
  },
  {
   "cell_type": "code",
   "execution_count": 23,
   "metadata": {},
   "outputs": [
    {
     "data": {
      "text/plain": [
       "4.093063612922536"
      ]
     },
     "execution_count": 23,
     "metadata": {},
     "output_type": "execute_result"
    }
   ],
   "source": [
    "df_nzl[\"new_cases\"].skew()"
   ]
  },
  {
   "cell_type": "code",
   "execution_count": 24,
   "metadata": {},
   "outputs": [],
   "source": [
    "#repalcing new_cases missing values with median value\n",
    "df_nzl[\"new_cases\"].fillna(df_nzl[\"new_cases\"].median(), inplace = True)"
   ]
  },
  {
   "cell_type": "code",
   "execution_count": 26,
   "metadata": {},
   "outputs": [
    {
     "data": {
      "text/plain": [
       "2.541248942899423"
      ]
     },
     "execution_count": 26,
     "metadata": {},
     "output_type": "execute_result"
    }
   ],
   "source": [
    "df_nzl[\"new_tests\"].skew()"
   ]
  },
  {
   "cell_type": "code",
   "execution_count": 27,
   "metadata": {},
   "outputs": [
    {
     "data": {
      "text/plain": [
       "3573.0"
      ]
     },
     "execution_count": 27,
     "metadata": {},
     "output_type": "execute_result"
    }
   ],
   "source": [
    "df_nzl[\"new_tests\"].median()"
   ]
  },
  {
   "cell_type": "code",
   "execution_count": 28,
   "metadata": {},
   "outputs": [],
   "source": [
    "df_nzl[\"new_tests\"].fillna(df_nzl[\"new_tests\"].median(), inplace = True)"
   ]
  },
  {
   "cell_type": "code",
   "execution_count": 29,
   "metadata": {},
   "outputs": [
    {
     "data": {
      "text/plain": [
       "3.4577948054861936"
      ]
     },
     "execution_count": 29,
     "metadata": {},
     "output_type": "execute_result"
    }
   ],
   "source": [
    "df_nzl[\"positive_rate\"].skew()"
   ]
  },
  {
   "cell_type": "code",
   "execution_count": 30,
   "metadata": {},
   "outputs": [
    {
     "data": {
      "text/plain": [
       "0.001"
      ]
     },
     "execution_count": 30,
     "metadata": {},
     "output_type": "execute_result"
    }
   ],
   "source": [
    "df_nzl[\"positive_rate\"].median()"
   ]
  },
  {
   "cell_type": "code",
   "execution_count": 31,
   "metadata": {},
   "outputs": [],
   "source": [
    "df_nzl[\"positive_rate\"].fillna(df_nzl[\"positive_rate\"].median(), inplace = True)"
   ]
  },
  {
   "cell_type": "code",
   "execution_count": 32,
   "metadata": {},
   "outputs": [
    {
     "data": {
      "text/plain": [
       "count    281.000000\n",
       "mean      39.010996\n",
       "std       29.448573\n",
       "min        0.000000\n",
       "25%       19.440000\n",
       "50%       31.940000\n",
       "75%       68.980000\n",
       "max       96.300000\n",
       "Name: stringency_index, dtype: float64"
      ]
     },
     "execution_count": 32,
     "metadata": {},
     "output_type": "execute_result"
    }
   ],
   "source": [
    "# impute - stringency_index \n",
    "df_nzl[\"stringency_index\"].describe()"
   ]
  },
  {
   "cell_type": "code",
   "execution_count": 33,
   "metadata": {},
   "outputs": [
    {
     "data": {
      "text/plain": [
       "0.9021519952720499"
      ]
     },
     "execution_count": 33,
     "metadata": {},
     "output_type": "execute_result"
    }
   ],
   "source": [
    "df_nzl[\"stringency_index\"].skew()"
   ]
  },
  {
   "cell_type": "code",
   "execution_count": 34,
   "metadata": {},
   "outputs": [
    {
     "data": {
      "text/plain": [
       "31.94"
      ]
     },
     "execution_count": 34,
     "metadata": {},
     "output_type": "execute_result"
    }
   ],
   "source": [
    "df_nzl[\"stringency_index\"].median()"
   ]
  },
  {
   "cell_type": "code",
   "execution_count": 241,
   "metadata": {},
   "outputs": [],
   "source": [
    "# impute - stringency_index  with mean"
   ]
  },
  {
   "cell_type": "code",
   "execution_count": 35,
   "metadata": {},
   "outputs": [],
   "source": [
    "df_nzl[\"stringency_index\"].fillna(df_nzl[\"stringency_index\"].mean(), inplace = True)"
   ]
  },
  {
   "cell_type": "code",
   "execution_count": 243,
   "metadata": {},
   "outputs": [],
   "source": [
    "#impute missing value of tests_per_case"
   ]
  },
  {
   "cell_type": "code",
   "execution_count": 36,
   "metadata": {},
   "outputs": [
    {
     "data": {
      "text/plain": [
       "1871.3985"
      ]
     },
     "execution_count": 36,
     "metadata": {},
     "output_type": "execute_result"
    }
   ],
   "source": [
    "df_nzl[\"tests_per_case\"].median()"
   ]
  },
  {
   "cell_type": "code",
   "execution_count": 37,
   "metadata": {},
   "outputs": [
    {
     "data": {
      "text/plain": [
       "4.194971134873704"
      ]
     },
     "execution_count": 37,
     "metadata": {},
     "output_type": "execute_result"
    }
   ],
   "source": [
    "df_nzl[\"tests_per_case\"].skew()"
   ]
  },
  {
   "cell_type": "code",
   "execution_count": 38,
   "metadata": {},
   "outputs": [],
   "source": [
    "df_nzl[\"tests_per_case\"].fillna(df_nzl[\"tests_per_case\"].median(), inplace = True)"
   ]
  },
  {
   "cell_type": "code",
   "execution_count": 248,
   "metadata": {},
   "outputs": [],
   "source": [
    "#impute missing value of total_cases"
   ]
  },
  {
   "cell_type": "code",
   "execution_count": 39,
   "metadata": {},
   "outputs": [
    {
     "data": {
      "text/plain": [
       "-0.7571214414903531"
      ]
     },
     "execution_count": 39,
     "metadata": {},
     "output_type": "execute_result"
    }
   ],
   "source": [
    "df_nzl[\"total_cases\"].skew()"
   ]
  },
  {
   "cell_type": "code",
   "execution_count": 251,
   "metadata": {},
   "outputs": [],
   "source": [
    "#replace the missing value of \"new_deaths\" with mean()"
   ]
  },
  {
   "cell_type": "code",
   "execution_count": 40,
   "metadata": {},
   "outputs": [
    {
     "data": {
      "text/plain": [
       "0.47144093810340476"
      ]
     },
     "execution_count": 40,
     "metadata": {},
     "output_type": "execute_result"
    }
   ],
   "source": [
    "df_nzl[\"total_tests\"].skew()"
   ]
  },
  {
   "cell_type": "code",
   "execution_count": 41,
   "metadata": {},
   "outputs": [],
   "source": [
    "#replace the missing value of \"total_cases\" with mean()\n",
    "df_nzl[\"total_tests\"].fillna(df_nzl[\"total_tests\"].mean(), inplace = True)"
   ]
  },
  {
   "cell_type": "code",
   "execution_count": 42,
   "metadata": {},
   "outputs": [],
   "source": [
    "#repalce missing value of total_deaths with mean()\n",
    "df_nzl[\"total_cases\"].fillna(df_nzl[\"total_cases\"].mean(), inplace = True)"
   ]
  },
  {
   "cell_type": "code",
   "execution_count": 43,
   "metadata": {},
   "outputs": [
    {
     "data": {
      "text/plain": [
       "-0.5530394992168461"
      ]
     },
     "execution_count": 43,
     "metadata": {},
     "output_type": "execute_result"
    }
   ],
   "source": [
    "df_nzl[\"total_deaths\"].skew()"
   ]
  },
  {
   "cell_type": "code",
   "execution_count": 44,
   "metadata": {},
   "outputs": [],
   "source": [
    "#repace \"total_deaths\" with mean\n",
    "df_nzl[\"total_deaths\"].fillna(df_nzl[\"total_deaths\"].mean(), inplace = True)"
   ]
  },
  {
   "cell_type": "code",
   "execution_count": 45,
   "metadata": {},
   "outputs": [
    {
     "data": {
      "text/plain": [
       "count                 219\n",
       "unique                  1\n",
       "top       tests performed\n",
       "freq                  219\n",
       "Name: tests_units, dtype: object"
      ]
     },
     "execution_count": 45,
     "metadata": {},
     "output_type": "execute_result"
    }
   ],
   "source": [
    "df_nzl[\"tests_units\"].describe()"
   ]
  },
  {
   "cell_type": "code",
   "execution_count": 46,
   "metadata": {},
   "outputs": [],
   "source": [
    "df_nzl[\"tests_units\"].fillna(df_nzl[\"tests_units\"].mode(), inplace = True)"
   ]
  },
  {
   "cell_type": "code",
   "execution_count": 47,
   "metadata": {},
   "outputs": [
    {
     "data": {
      "text/plain": [
       "5.866463534141966"
      ]
     },
     "execution_count": 47,
     "metadata": {},
     "output_type": "execute_result"
    }
   ],
   "source": [
    "df_nzl[\"new_deaths\"].skew()"
   ]
  },
  {
   "cell_type": "code",
   "execution_count": 48,
   "metadata": {},
   "outputs": [
    {
     "data": {
      "text/plain": [
       "0.0"
      ]
     },
     "execution_count": 48,
     "metadata": {},
     "output_type": "execute_result"
    }
   ],
   "source": [
    "df_nzl[\"new_deaths\"].median()"
   ]
  },
  {
   "cell_type": "code",
   "execution_count": 49,
   "metadata": {},
   "outputs": [],
   "source": [
    "#replace missing value of \"new_death\" with median value\n",
    "df_nzl[\"new_deaths\"].fillna(df_nzl[\"new_deaths\"].median(), inplace = True)"
   ]
  },
  {
   "cell_type": "code",
   "execution_count": 50,
   "metadata": {},
   "outputs": [
    {
     "data": {
      "text/plain": [
       "71"
      ]
     },
     "execution_count": 50,
     "metadata": {},
     "output_type": "execute_result"
    }
   ],
   "source": [
    "df_nzl[\"tests_units\"].isnull().sum()"
   ]
  },
  {
   "cell_type": "code",
   "execution_count": 51,
   "metadata": {},
   "outputs": [
    {
     "data": {
      "text/plain": [
       "count                 219\n",
       "unique                  1\n",
       "top       tests performed\n",
       "freq                  219\n",
       "Name: tests_units, dtype: object"
      ]
     },
     "execution_count": 51,
     "metadata": {},
     "output_type": "execute_result"
    }
   ],
   "source": [
    "df_nzl[\"tests_units\"].describe()"
   ]
  },
  {
   "cell_type": "code",
   "execution_count": 52,
   "metadata": {},
   "outputs": [
    {
     "data": {
      "text/plain": [
       "tests performed    219\n",
       "Name: tests_units, dtype: int64"
      ]
     },
     "execution_count": 52,
     "metadata": {},
     "output_type": "execute_result"
    }
   ],
   "source": [
    "df_nzl[\"tests_units\"].value_counts()"
   ]
  },
  {
   "cell_type": "code",
   "execution_count": 53,
   "metadata": {},
   "outputs": [
    {
     "data": {
      "text/plain": [
       "aged_65_older                  0\n",
       "aged_70_older                  0\n",
       "cardiovasc_death_rate          0\n",
       "diabetes_prevalence            0\n",
       "female_smokers                 0\n",
       "gdp_per_capita                 0\n",
       "hospital_beds_per_thousand     0\n",
       "human_development_index        0\n",
       "male_smokers                   0\n",
       "median_age                     0\n",
       "new_cases                      0\n",
       "new_deaths                     0\n",
       "new_tests                      0\n",
       "new_tests_per_thousand        71\n",
       "population                     0\n",
       "population_density             0\n",
       "positive_rate                  0\n",
       "stringency_index               0\n",
       "tests_per_case                 0\n",
       "tests_units                   71\n",
       "total_cases                    0\n",
       "total_deaths                   0\n",
       "total_tests                    0\n",
       "total_tests_per_thousand      71\n",
       "dtype: int64"
      ]
     },
     "execution_count": 53,
     "metadata": {},
     "output_type": "execute_result"
    }
   ],
   "source": [
    "df_nzl.isnull().sum()"
   ]
  },
  {
   "cell_type": "code",
   "execution_count": null,
   "metadata": {},
   "outputs": [],
   "source": [
    "new_tests_per_thousand"
   ]
  },
  {
   "cell_type": "code",
   "execution_count": 54,
   "metadata": {},
   "outputs": [
    {
     "data": {
      "text/plain": [
       "count    219.000000\n",
       "mean       0.967671\n",
       "std        0.851437\n",
       "min        0.002000\n",
       "25%        0.443500\n",
       "50%        0.741000\n",
       "75%        1.235000\n",
       "max        5.395000\n",
       "Name: new_tests_per_thousand, dtype: float64"
      ]
     },
     "execution_count": 54,
     "metadata": {},
     "output_type": "execute_result"
    }
   ],
   "source": [
    "df_nzl[\"new_tests_per_thousand\"].describe()"
   ]
  },
  {
   "cell_type": "code",
   "execution_count": 55,
   "metadata": {},
   "outputs": [
    {
     "data": {
      "text/plain": [
       "2.5411496504310334"
      ]
     },
     "execution_count": 55,
     "metadata": {},
     "output_type": "execute_result"
    }
   ],
   "source": [
    "df_nzl[\"new_tests_per_thousand\"].skew()"
   ]
  },
  {
   "cell_type": "code",
   "execution_count": 58,
   "metadata": {},
   "outputs": [],
   "source": [
    "#replace missing value of \"new_tests_per_thousand\" with median value\n",
    "df_nzl[\"new_tests_per_thousand\"].fillna(df_nzl[\"new_tests_per_thousand\"].median(), inplace = True)"
   ]
  },
  {
   "cell_type": "code",
   "execution_count": 57,
   "metadata": {},
   "outputs": [
    {
     "data": {
      "text/plain": [
       "0.47144109103731785"
      ]
     },
     "execution_count": 57,
     "metadata": {},
     "output_type": "execute_result"
    }
   ],
   "source": [
    "df_nzl[\"total_tests_per_thousand\"].skew()"
   ]
  },
  {
   "cell_type": "code",
   "execution_count": null,
   "metadata": {},
   "outputs": [],
   "source": [
    "df_nzl"
   ]
  },
  {
   "cell_type": "code",
   "execution_count": 63,
   "metadata": {},
   "outputs": [],
   "source": [
    "#replace missing value of \"new_tests_per_thousand\" with mean value\n",
    "df_nzl[\"total_tests_per_thousand\"].fillna(df_nzl[\"total_tests_per_thousand\"].mean(), inplace = True)"
   ]
  },
  {
   "cell_type": "code",
   "execution_count": 64,
   "metadata": {},
   "outputs": [
    {
     "name": "stdout",
     "output_type": "stream",
     "text": [
      "71\n"
     ]
    }
   ],
   "source": [
    "# Inspect missing values in the dataset\n",
    "print(df_nzl.isnull().values.sum())"
   ]
  },
  {
   "cell_type": "markdown",
   "metadata": {},
   "source": [
    "# Separate the Object data type and Numeric data type"
   ]
  },
  {
   "cell_type": "code",
   "execution_count": null,
   "metadata": {},
   "outputs": [],
   "source": []
  },
  {
   "cell_type": "code",
   "execution_count": 66,
   "metadata": {},
   "outputs": [],
   "source": [
    "\n",
    "#df_nr_1_num=df_nr_1.select_dtypes(np.number)\n",
    "#df_nr_1_obj=df_nr_1.select_dtypes('object')\n",
    "df_nzl_obj=df_nzl.select_dtypes('object')\n",
    "df_nzl_num=df_nzl.select_dtypes(np.number)"
   ]
  },
  {
   "cell_type": "code",
   "execution_count": 68,
   "metadata": {},
   "outputs": [
    {
     "name": "stdout",
     "output_type": "stream",
     "text": [
      "<class 'pandas.core.frame.DataFrame'>\n",
      "Int64Index: 290 entries, 34882 to 35171\n",
      "Data columns (total 1 columns):\n",
      " #   Column       Non-Null Count  Dtype \n",
      "---  ------       --------------  ----- \n",
      " 0   tests_units  219 non-null    object\n",
      "dtypes: object(1)\n",
      "memory usage: 4.5+ KB\n"
     ]
    }
   ],
   "source": [
    "df_nzl_obj.info()"
   ]
  },
  {
   "cell_type": "code",
   "execution_count": 69,
   "metadata": {},
   "outputs": [
    {
     "data": {
      "text/plain": [
       "tests performed    219\n",
       "Name: tests_units, dtype: int64"
      ]
     },
     "execution_count": 69,
     "metadata": {},
     "output_type": "execute_result"
    }
   ],
   "source": [
    "df_nzl_obj['tests_units'].value_counts()"
   ]
  },
  {
   "cell_type": "markdown",
   "metadata": {},
   "source": [
    "Convert categorical variable  tests_units into dummy(one hot encoding)"
   ]
  },
  {
   "cell_type": "code",
   "execution_count": 71,
   "metadata": {},
   "outputs": [],
   "source": [
    "# Convert categorical variable  tests_units into dummy(one hot encoding)\n",
    "test_performed=pd.get_dummies(df_nzl_obj['tests_units'])"
   ]
  },
  {
   "cell_type": "code",
   "execution_count": 72,
   "metadata": {},
   "outputs": [],
   "source": [
    "# convert categorical vaiable (tests_units) to numeric \n",
    "df_nzl_num = pd.concat([df_nzl_num,test_performed], axis=1)\n",
    "\n"
   ]
  },
  {
   "cell_type": "code",
   "execution_count": 74,
   "metadata": {},
   "outputs": [
    {
     "name": "stdout",
     "output_type": "stream",
     "text": [
      "<class 'pandas.core.frame.DataFrame'>\n",
      "Int64Index: 290 entries, 34882 to 35171\n",
      "Data columns (total 24 columns):\n",
      " #   Column                      Non-Null Count  Dtype  \n",
      "---  ------                      --------------  -----  \n",
      " 0   aged_65_older               290 non-null    float64\n",
      " 1   aged_70_older               290 non-null    float64\n",
      " 2   cardiovasc_death_rate       290 non-null    float64\n",
      " 3   diabetes_prevalence         290 non-null    float64\n",
      " 4   female_smokers              290 non-null    float64\n",
      " 5   gdp_per_capita              290 non-null    float64\n",
      " 6   hospital_beds_per_thousand  290 non-null    float64\n",
      " 7   human_development_index     290 non-null    float64\n",
      " 8   male_smokers                290 non-null    float64\n",
      " 9   median_age                  290 non-null    float64\n",
      " 10  new_cases                   290 non-null    float64\n",
      " 11  new_deaths                  290 non-null    float64\n",
      " 12  new_tests                   290 non-null    float64\n",
      " 13  new_tests_per_thousand      290 non-null    float64\n",
      " 14  population                  290 non-null    float64\n",
      " 15  population_density          290 non-null    float64\n",
      " 16  positive_rate               290 non-null    float64\n",
      " 17  stringency_index            290 non-null    float64\n",
      " 18  tests_per_case              290 non-null    float64\n",
      " 19  total_cases                 290 non-null    float64\n",
      " 20  total_deaths                290 non-null    float64\n",
      " 21  total_tests                 290 non-null    float64\n",
      " 22  total_tests_per_thousand    290 non-null    float64\n",
      " 23  tests performed             290 non-null    uint8  \n",
      "dtypes: float64(23), uint8(1)\n",
      "memory usage: 54.7 KB\n"
     ]
    }
   ],
   "source": [
    "df_nzl_num.info()\n",
    "#24 cols"
   ]
  },
  {
   "cell_type": "code",
   "execution_count": 75,
   "metadata": {},
   "outputs": [
    {
     "data": {
      "text/html": [
       "<div>\n",
       "<style scoped>\n",
       "    .dataframe tbody tr th:only-of-type {\n",
       "        vertical-align: middle;\n",
       "    }\n",
       "\n",
       "    .dataframe tbody tr th {\n",
       "        vertical-align: top;\n",
       "    }\n",
       "\n",
       "    .dataframe thead th {\n",
       "        text-align: right;\n",
       "    }\n",
       "</style>\n",
       "<table border=\"1\" class=\"dataframe\">\n",
       "  <thead>\n",
       "    <tr style=\"text-align: right;\">\n",
       "      <th></th>\n",
       "      <th>aged_65_older</th>\n",
       "      <th>aged_70_older</th>\n",
       "      <th>cardiovasc_death_rate</th>\n",
       "      <th>diabetes_prevalence</th>\n",
       "      <th>female_smokers</th>\n",
       "      <th>gdp_per_capita</th>\n",
       "      <th>hospital_beds_per_thousand</th>\n",
       "      <th>human_development_index</th>\n",
       "      <th>male_smokers</th>\n",
       "      <th>median_age</th>\n",
       "      <th>...</th>\n",
       "      <th>population</th>\n",
       "      <th>population_density</th>\n",
       "      <th>positive_rate</th>\n",
       "      <th>stringency_index</th>\n",
       "      <th>tests_per_case</th>\n",
       "      <th>total_cases</th>\n",
       "      <th>total_deaths</th>\n",
       "      <th>total_tests</th>\n",
       "      <th>total_tests_per_thousand</th>\n",
       "      <th>tests performed</th>\n",
       "    </tr>\n",
       "  </thead>\n",
       "  <tbody>\n",
       "    <tr>\n",
       "      <th>34882</th>\n",
       "      <td>15.322</td>\n",
       "      <td>9.72</td>\n",
       "      <td>128.797</td>\n",
       "      <td>8.08</td>\n",
       "      <td>14.8</td>\n",
       "      <td>36085.843</td>\n",
       "      <td>2.61</td>\n",
       "      <td>0.917</td>\n",
       "      <td>17.2</td>\n",
       "      <td>37.9</td>\n",
       "      <td>...</td>\n",
       "      <td>4822233.0</td>\n",
       "      <td>18.206</td>\n",
       "      <td>0.001</td>\n",
       "      <td>39.010996</td>\n",
       "      <td>1871.3985</td>\n",
       "      <td>0.0</td>\n",
       "      <td>0.0</td>\n",
       "      <td>414576.493151</td>\n",
       "      <td>85.971868</td>\n",
       "      <td>0</td>\n",
       "    </tr>\n",
       "    <tr>\n",
       "      <th>34883</th>\n",
       "      <td>15.322</td>\n",
       "      <td>9.72</td>\n",
       "      <td>128.797</td>\n",
       "      <td>8.08</td>\n",
       "      <td>14.8</td>\n",
       "      <td>36085.843</td>\n",
       "      <td>2.61</td>\n",
       "      <td>0.917</td>\n",
       "      <td>17.2</td>\n",
       "      <td>37.9</td>\n",
       "      <td>...</td>\n",
       "      <td>4822233.0</td>\n",
       "      <td>18.206</td>\n",
       "      <td>0.001</td>\n",
       "      <td>0.000000</td>\n",
       "      <td>1871.3985</td>\n",
       "      <td>0.0</td>\n",
       "      <td>0.0</td>\n",
       "      <td>414576.493151</td>\n",
       "      <td>85.971868</td>\n",
       "      <td>0</td>\n",
       "    </tr>\n",
       "    <tr>\n",
       "      <th>34884</th>\n",
       "      <td>15.322</td>\n",
       "      <td>9.72</td>\n",
       "      <td>128.797</td>\n",
       "      <td>8.08</td>\n",
       "      <td>14.8</td>\n",
       "      <td>36085.843</td>\n",
       "      <td>2.61</td>\n",
       "      <td>0.917</td>\n",
       "      <td>17.2</td>\n",
       "      <td>37.9</td>\n",
       "      <td>...</td>\n",
       "      <td>4822233.0</td>\n",
       "      <td>18.206</td>\n",
       "      <td>0.001</td>\n",
       "      <td>0.000000</td>\n",
       "      <td>1871.3985</td>\n",
       "      <td>0.0</td>\n",
       "      <td>0.0</td>\n",
       "      <td>414576.493151</td>\n",
       "      <td>85.971868</td>\n",
       "      <td>0</td>\n",
       "    </tr>\n",
       "    <tr>\n",
       "      <th>34885</th>\n",
       "      <td>15.322</td>\n",
       "      <td>9.72</td>\n",
       "      <td>128.797</td>\n",
       "      <td>8.08</td>\n",
       "      <td>14.8</td>\n",
       "      <td>36085.843</td>\n",
       "      <td>2.61</td>\n",
       "      <td>0.917</td>\n",
       "      <td>17.2</td>\n",
       "      <td>37.9</td>\n",
       "      <td>...</td>\n",
       "      <td>4822233.0</td>\n",
       "      <td>18.206</td>\n",
       "      <td>0.001</td>\n",
       "      <td>0.000000</td>\n",
       "      <td>1871.3985</td>\n",
       "      <td>0.0</td>\n",
       "      <td>0.0</td>\n",
       "      <td>414576.493151</td>\n",
       "      <td>85.971868</td>\n",
       "      <td>0</td>\n",
       "    </tr>\n",
       "    <tr>\n",
       "      <th>34886</th>\n",
       "      <td>15.322</td>\n",
       "      <td>9.72</td>\n",
       "      <td>128.797</td>\n",
       "      <td>8.08</td>\n",
       "      <td>14.8</td>\n",
       "      <td>36085.843</td>\n",
       "      <td>2.61</td>\n",
       "      <td>0.917</td>\n",
       "      <td>17.2</td>\n",
       "      <td>37.9</td>\n",
       "      <td>...</td>\n",
       "      <td>4822233.0</td>\n",
       "      <td>18.206</td>\n",
       "      <td>0.001</td>\n",
       "      <td>0.000000</td>\n",
       "      <td>1871.3985</td>\n",
       "      <td>0.0</td>\n",
       "      <td>0.0</td>\n",
       "      <td>414576.493151</td>\n",
       "      <td>85.971868</td>\n",
       "      <td>0</td>\n",
       "    </tr>\n",
       "  </tbody>\n",
       "</table>\n",
       "<p>5 rows × 24 columns</p>\n",
       "</div>"
      ],
      "text/plain": [
       "       aged_65_older  aged_70_older  cardiovasc_death_rate  \\\n",
       "34882         15.322           9.72                128.797   \n",
       "34883         15.322           9.72                128.797   \n",
       "34884         15.322           9.72                128.797   \n",
       "34885         15.322           9.72                128.797   \n",
       "34886         15.322           9.72                128.797   \n",
       "\n",
       "       diabetes_prevalence  female_smokers  gdp_per_capita  \\\n",
       "34882                 8.08            14.8       36085.843   \n",
       "34883                 8.08            14.8       36085.843   \n",
       "34884                 8.08            14.8       36085.843   \n",
       "34885                 8.08            14.8       36085.843   \n",
       "34886                 8.08            14.8       36085.843   \n",
       "\n",
       "       hospital_beds_per_thousand  human_development_index  male_smokers  \\\n",
       "34882                        2.61                    0.917          17.2   \n",
       "34883                        2.61                    0.917          17.2   \n",
       "34884                        2.61                    0.917          17.2   \n",
       "34885                        2.61                    0.917          17.2   \n",
       "34886                        2.61                    0.917          17.2   \n",
       "\n",
       "       median_age  ...  population  population_density  positive_rate  \\\n",
       "34882        37.9  ...   4822233.0              18.206          0.001   \n",
       "34883        37.9  ...   4822233.0              18.206          0.001   \n",
       "34884        37.9  ...   4822233.0              18.206          0.001   \n",
       "34885        37.9  ...   4822233.0              18.206          0.001   \n",
       "34886        37.9  ...   4822233.0              18.206          0.001   \n",
       "\n",
       "       stringency_index  tests_per_case  total_cases  total_deaths  \\\n",
       "34882         39.010996       1871.3985          0.0           0.0   \n",
       "34883          0.000000       1871.3985          0.0           0.0   \n",
       "34884          0.000000       1871.3985          0.0           0.0   \n",
       "34885          0.000000       1871.3985          0.0           0.0   \n",
       "34886          0.000000       1871.3985          0.0           0.0   \n",
       "\n",
       "         total_tests  total_tests_per_thousand  tests performed  \n",
       "34882  414576.493151                 85.971868                0  \n",
       "34883  414576.493151                 85.971868                0  \n",
       "34884  414576.493151                 85.971868                0  \n",
       "34885  414576.493151                 85.971868                0  \n",
       "34886  414576.493151                 85.971868                0  \n",
       "\n",
       "[5 rows x 24 columns]"
      ]
     },
     "execution_count": 75,
     "metadata": {},
     "output_type": "execute_result"
    }
   ],
   "source": [
    "df_nzl_num.head()"
   ]
  },
  {
   "cell_type": "code",
   "execution_count": 77,
   "metadata": {},
   "outputs": [
    {
     "data": {
      "text/plain": [
       "aged_65_older                 0\n",
       "aged_70_older                 0\n",
       "cardiovasc_death_rate         0\n",
       "diabetes_prevalence           0\n",
       "female_smokers                0\n",
       "gdp_per_capita                0\n",
       "hospital_beds_per_thousand    0\n",
       "human_development_index       0\n",
       "male_smokers                  0\n",
       "median_age                    0\n",
       "new_cases                     0\n",
       "new_deaths                    0\n",
       "new_tests                     0\n",
       "new_tests_per_thousand        0\n",
       "population                    0\n",
       "population_density            0\n",
       "positive_rate                 0\n",
       "stringency_index              0\n",
       "tests_per_case                0\n",
       "total_cases                   0\n",
       "total_deaths                  0\n",
       "total_tests                   0\n",
       "total_tests_per_thousand      0\n",
       "tests performed               0\n",
       "dtype: int64"
      ]
     },
     "execution_count": 77,
     "metadata": {},
     "output_type": "execute_result"
    }
   ],
   "source": [
    "# number of missing value per column for numerical datatypes\n",
    "df_nzl_num.isnull().sum()"
   ]
  },
  {
   "cell_type": "code",
   "execution_count": 76,
   "metadata": {},
   "outputs": [
    {
     "name": "stdout",
     "output_type": "stream",
     "text": [
      "0\n"
     ]
    }
   ],
   "source": [
    "print(df_nzl_num.isnull().values.sum())"
   ]
  },
  {
   "cell_type": "code",
   "execution_count": 78,
   "metadata": {},
   "outputs": [
    {
     "data": {
      "text/plain": [
       "(290, 24)"
      ]
     },
     "execution_count": 78,
     "metadata": {},
     "output_type": "execute_result"
    }
   ],
   "source": [
    "df_nzl_num.shape"
   ]
  },
  {
   "cell_type": "markdown",
   "metadata": {},
   "source": [
    "Standardization (Standard Scalar)"
   ]
  },
  {
   "cell_type": "code",
   "execution_count": 368,
   "metadata": {},
   "outputs": [],
   "source": [
    "#from sklearn.preprocessing import StandardScaler\n",
    "#from sklearn.preprocessing import StandardScaler\n",
    "#scaler = StandardScaler() \n",
    "#df_NZL_num_scaled = scaler.fit_transform(df_NZL_num)"
   ]
  },
  {
   "cell_type": "code",
   "execution_count": 369,
   "metadata": {},
   "outputs": [
    {
     "name": "stdout",
     "output_type": "stream",
     "text": [
      "[ 1.00000000e+00  0.00000000e+00 -1.00000000e+00  0.00000000e+00\n",
      "  0.00000000e+00  1.00000000e+00  0.00000000e+00  0.00000000e+00\n",
      "  1.00000000e+00  0.00000000e+00  0.00000000e+00 -2.45014736e-17\n",
      " -1.22507368e-16 -1.22507368e-17  4.90029473e-17 -7.35044209e-17\n",
      "  4.90029473e-17  0.00000000e+00  0.00000000e+00  0.00000000e+00\n",
      " -1.83761052e-16 -2.45014736e-17  0.00000000e+00  0.00000000e+00\n",
      "  9.80058946e-17  9.80058946e-17]\n",
      "[0. 0. 0. 0. 0. 0. 0. 0. 0. 0. 0. 1. 1. 1. 1. 1. 1. 0. 0. 1. 1. 1. 1. 1.\n",
      " 1. 1.]\n"
     ]
    }
   ],
   "source": [
    "#print(df_NZL_num_scaled.mean(axis=0))\n",
    "#print(df_NZL_num_scaled.std(axis=0))"
   ]
  },
  {
   "cell_type": "markdown",
   "metadata": {},
   "source": [
    "# Exploratory data analysis"
   ]
  },
  {
   "cell_type": "markdown",
   "metadata": {},
   "source": [
    "# Univarate Analysis"
   ]
  },
  {
   "cell_type": "markdown",
   "metadata": {},
   "source": [
    "Visualization"
   ]
  },
  {
   "cell_type": "code",
   "execution_count": 82,
   "metadata": {},
   "outputs": [
    {
     "data": {
      "text/plain": [
       "Text(0.5, 1.0, 'Histogram bar graph of Total_Cases')"
      ]
     },
     "execution_count": 82,
     "metadata": {},
     "output_type": "execute_result"
    },
    {
     "data": {
      "image/png": "[encoded data removed]",
      "text/plain": [
       "<Figure size 432x288 with 1 Axes>"
      ]
     },
     "metadata": {
      "needs_background": "light"
     },
     "output_type": "display_data"
    }
   ],
   "source": [
    "df_nzl_num.total_cases.hist()\n",
    "plt.plot()\n",
    "plt.title('Histogram bar graph of Total_Cases')"
   ]
  },
  {
   "cell_type": "markdown",
   "metadata": {},
   "source": [
    "From the above graph we see data is not normally distributed and it is unimodal.\n",
    "\n"
   ]
  },
  {
   "cell_type": "code",
   "execution_count": 83,
   "metadata": {},
   "outputs": [
    {
     "data": {
      "text/plain": [
       "Text(0.5, 1.0, 'Histogram bar graph of New_cases')"
      ]
     },
     "execution_count": 83,
     "metadata": {},
     "output_type": "execute_result"
    },
    {
     "data": {
      "image/png": "[encoded data removed]",
      "text/plain": [
       "<Figure size 432x288 with 1 Axes>"
      ]
     },
     "metadata": {
      "needs_background": "light"
     },
     "output_type": "display_data"
    }
   ],
   "source": [
    "#new_cases_smoothed\n",
    "df_nzl_num.new_cases.hist()\n",
    "plt.plot()\n",
    "plt.title('Histogram bar graph of New_cases')"
   ]
  },
  {
   "cell_type": "markdown",
   "metadata": {},
   "source": [
    "From the above image we see data is not normally distributed it is right skewed.\n",
    "At the bebnning new cases were high and it decreased quickly"
   ]
  },
  {
   "cell_type": "code",
   "execution_count": 85,
   "metadata": {},
   "outputs": [
    {
     "data": {
      "text/plain": [
       "Text(0.5, 1.0, 'Histogram bar graph of New_deaths')"
      ]
     },
     "execution_count": 85,
     "metadata": {},
     "output_type": "execute_result"
    },
    {
     "data": {
      "image/png": "[encoded data removed]",
      "text/plain": [
       "<Figure size 432x288 with 1 Axes>"
      ]
     },
     "metadata": {
      "needs_background": "light"
     },
     "output_type": "display_data"
    }
   ],
   "source": [
    "df_nzl_num.new_deaths.hist()\n",
    "plt.plot()\n",
    "plt.title('Histogram bar graph of New_deaths')"
   ]
  },
  {
   "cell_type": "markdown",
   "metadata": {},
   "source": [
    "New_deaths were high in numbers at the beginning and decreased suddenly"
   ]
  },
  {
   "cell_type": "code",
   "execution_count": null,
   "metadata": {},
   "outputs": [],
   "source": [
    "#total_deaths"
   ]
  },
  {
   "cell_type": "code",
   "execution_count": 86,
   "metadata": {},
   "outputs": [
    {
     "data": {
      "text/plain": [
       "Text(0.5, 1.0, 'Histogram bar graph of Total_deaths')"
      ]
     },
     "execution_count": 86,
     "metadata": {},
     "output_type": "execute_result"
    },
    {
     "data": {
      "image/png": "[encoded data removed]",
      "text/plain": [
       "<Figure size 432x288 with 1 Axes>"
      ]
     },
     "metadata": {
      "needs_background": "light"
     },
     "output_type": "display_data"
    }
   ],
   "source": [
    "df_nzl_num.total_deaths.hist()\n",
    "plt.plot()\n",
    "plt.title('Histogram bar graph of Total_deaths')"
   ]
  },
  {
   "cell_type": "code",
   "execution_count": null,
   "metadata": {},
   "outputs": [],
   "source": [
    "From the above graph we see data is not normally distributed\n",
    "deaths were high in the beginning and decreased quickly and increased again"
   ]
  },
  {
   "cell_type": "code",
   "execution_count": 87,
   "metadata": {
    "scrolled": false
   },
   "outputs": [
    {
     "data": {
      "text/plain": [
       "Text(0.5, 1.0, 'Histogram bar graph of New_tests')"
      ]
     },
     "execution_count": 87,
     "metadata": {},
     "output_type": "execute_result"
    },
    {
     "data": {
      "image/png": "[encoded data removed]",
      "text/plain": [
       "<Figure size 432x288 with 1 Axes>"
      ]
     },
     "metadata": {
      "needs_background": "light"
     },
     "output_type": "display_data"
    }
   ],
   "source": [
    "df_nzl_num.new_tests.hist()\n",
    "plt.plot()\n",
    "plt.title('Histogram bar graph of New_tests')"
   ]
  },
  {
   "cell_type": "code",
   "execution_count": null,
   "metadata": {},
   "outputs": [],
   "source": [
    "The above graph is right tailed and unimodal where New_test is decreased"
   ]
  },
  {
   "cell_type": "markdown",
   "metadata": {},
   "source": [
    "# Bivariate analysis"
   ]
  },
  {
   "cell_type": "code",
   "execution_count": 88,
   "metadata": {},
   "outputs": [
    {
     "data": {
      "text/plain": [
       "<matplotlib.axes._subplots.AxesSubplot at 0x270ba03e0d0>"
      ]
     },
     "execution_count": 88,
     "metadata": {},
     "output_type": "execute_result"
    },
    {
     "data": {
      "image/png": "[encoded data removed]",
      "text/plain": [
       "<Figure size 504x288 with 1 Axes>"
      ]
     },
     "metadata": {
      "needs_background": "light"
     },
     "output_type": "display_data"
    }
   ],
   "source": [
    "plt.figure(figsize=(7,4))\n",
    "sns.scatterplot(x=df_nzl_num['new_tests'], y=df_nzl_num[\"new_cases\"])"
   ]
  },
  {
   "cell_type": "code",
   "execution_count": 89,
   "metadata": {},
   "outputs": [
    {
     "data": {
      "text/plain": [
       "-0.013688723249981017"
      ]
     },
     "execution_count": 89,
     "metadata": {},
     "output_type": "execute_result"
    }
   ],
   "source": [
    "#corr() is used to find the pairwise correlation of all columns in the dataframe\n",
    "(df_nzl_num['new_tests']).corr(df_nzl_num['new_cases'])"
   ]
  },
  {
   "cell_type": "markdown",
   "metadata": {},
   "source": [
    "New_tests and New_cases are  negatively correlated ( one variable increases as the other decreases)\n",
    "(we need to do new_tests to keep the new-cases low)"
   ]
  },
  {
   "cell_type": "code",
   "execution_count": 92,
   "metadata": {},
   "outputs": [
    {
     "data": {
      "text/plain": [
       "0.9001161107311694"
      ]
     },
     "execution_count": 92,
     "metadata": {},
     "output_type": "execute_result"
    }
   ],
   "source": [
    "#corr() is used to find the pairwise correlation of all columns in the dataframe\n",
    "(df_nzl_num['new_cases']).corr(df_nzl_num[\"positive_rate\"])"
   ]
  },
  {
   "cell_type": "markdown",
   "metadata": {},
   "source": [
    "Positive_rate increases with raise of new _cases"
   ]
  },
  {
   "cell_type": "code",
   "execution_count": 93,
   "metadata": {},
   "outputs": [
    {
     "data": {
      "text/plain": [
       "<matplotlib.axes._subplots.AxesSubplot at 0x270ba05f5b0>"
      ]
     },
     "execution_count": 93,
     "metadata": {},
     "output_type": "execute_result"
    },
    {
     "data": {
      "image/png": "[encoded data removed]",
      "text/plain": [
       "<Figure size 504x288 with 1 Axes>"
      ]
     },
     "metadata": {
      "needs_background": "light"
     },
     "output_type": "display_data"
    }
   ],
   "source": [
    "\n",
    "plt.figure(figsize=(7,4))\n",
    "sns.scatterplot(x=df_nzl_num['new_cases'], y=df_nzl_num[\"positive_rate\"])"
   ]
  },
  {
   "cell_type": "markdown",
   "metadata": {},
   "source": [
    "New_cases and positive _rate are correlated with each other\n",
    "new_cases increases  with the rate of positivity "
   ]
  },
  {
   "cell_type": "code",
   "execution_count": 392,
   "metadata": {},
   "outputs": [
    {
     "data": {
      "text/plain": [
       "<matplotlib.axes._subplots.AxesSubplot at 0x220da7cf1f0>"
      ]
     },
     "execution_count": 392,
     "metadata": {},
     "output_type": "execute_result"
    },
    {
     "data": {
      "image/png": "[encoded data removed]",
      "text/plain": [
       "<Figure size 720x360 with 1 Axes>"
      ]
     },
     "metadata": {
      "needs_background": "light"
     },
     "output_type": "display_data"
    }
   ],
   "source": [
    "#number of available beds at hospital\n",
    "\n",
    "plt.figure(figsize=(10,5))\n",
    "sns.scatterplot(y=df_NZL_num['new_deaths'], x=df_NZL_num[\"new_cases\"])\n"
   ]
  },
  {
   "cell_type": "code",
   "execution_count": null,
   "metadata": {},
   "outputs": [],
   "source": [
    "To decrease the new death we need to do more new_tests"
   ]
  },
  {
   "cell_type": "code",
   "execution_count": 94,
   "metadata": {},
   "outputs": [
    {
     "data": {
      "text/plain": [
       "0.0517159450226946"
      ]
     },
     "execution_count": 94,
     "metadata": {},
     "output_type": "execute_result"
    }
   ],
   "source": [
    "(df_nzl_num['new_deaths']).corr(df_nzl_num[\"new_cases\"])"
   ]
  },
  {
   "cell_type": "code",
   "execution_count": 95,
   "metadata": {},
   "outputs": [
    {
     "data": {
      "text/plain": [
       "<matplotlib.axes._subplots.AxesSubplot at 0x270b9dfefa0>"
      ]
     },
     "execution_count": 95,
     "metadata": {},
     "output_type": "execute_result"
    },
    {
     "data": {
      "image/png": "[encoded data removed]",
      "text/plain": [
       "<Figure size 432x288 with 1 Axes>"
      ]
     },
     "metadata": {
      "needs_background": "light"
     },
     "output_type": "display_data"
    }
   ],
   "source": [
    "#plt.figure(figsize=(7,4))\n",
    "sns.scatterplot(x=df_nzl_num['total_deaths'], y=df_nzl_num[\"hospital_beds_per_thousand\"])"
   ]
  },
  {
   "cell_type": "code",
   "execution_count": 395,
   "metadata": {},
   "outputs": [
    {
     "data": {
      "text/plain": [
       "-0.01650637502098442"
      ]
     },
     "execution_count": 395,
     "metadata": {},
     "output_type": "execute_result"
    }
   ],
   "source": [
    "(df['total_deaths']).corr(df[\"hospital_beds_per_thousand\"])"
   ]
  },
  {
   "cell_type": "markdown",
   "metadata": {},
   "source": [
    "toatal_deaths and hospital_beds_per_thousand is not correlated with each other."
   ]
  },
  {
   "cell_type": "code",
   "execution_count": 96,
   "metadata": {},
   "outputs": [
    {
     "name": "stderr",
     "output_type": "stream",
     "text": [
      "<ipython-input-96-52962610a0d8>:1: SettingWithCopyWarning: \n",
      "A value is trying to be set on a copy of a slice from a DataFrame.\n",
      "Try using .loc[row_indexer,col_indexer] = value instead\n",
      "\n",
      "See the caveats in the documentation: https://pandas.pydata.org/pandas-docs/stable/user_guide/indexing.html#returning-a-view-versus-a-copy\n",
      "  df_NZL_num['total_tests']=(df_nzl_num['total_tests'])/df_nzl_num['total_tests'].max()\n"
     ]
    },
    {
     "data": {
      "image/png": "[encoded data removed]",
      "text/plain": [
       "<Figure size 432x288 with 1 Axes>"
      ]
     },
     "metadata": {
      "needs_background": "light"
     },
     "output_type": "display_data"
    }
   ],
   "source": [
    "\n",
    "df_NZL_num['total_tests']=(df_nzl_num['total_tests'])/df_nzl_num['total_tests'].max()\n",
    "plt.scatter(y = df_nzl_num['total_cases'], x =df_nzl_num['total_tests'], color='red')\n",
    "plt.xlabel(\"total_cases\")\n",
    "plt.ylabel(\"total_tests\")\n",
    "plt.show()"
   ]
  },
  {
   "cell_type": "code",
   "execution_count": null,
   "metadata": {},
   "outputs": [],
   "source": [
    "positive correlation between total_test and total_cases"
   ]
  },
  {
   "cell_type": "code",
   "execution_count": 97,
   "metadata": {},
   "outputs": [
    {
     "data": {
      "text/plain": [
       "<matplotlib.axes._subplots.AxesSubplot at 0x270ba12c8b0>"
      ]
     },
     "execution_count": 97,
     "metadata": {},
     "output_type": "execute_result"
    },
    {
     "data": {
      "image/png": "[encoded data removed]",
      "text/plain": [
       "<Figure size 504x288 with 1 Axes>"
      ]
     },
     "metadata": {
      "needs_background": "light"
     },
     "output_type": "display_data"
    }
   ],
   "source": [
    "plt.figure(figsize=(7,4))\n",
    "sns.scatterplot(y=df_nzl_num['total_deaths'], x=df_nzl_num[\"total_tests\"])"
   ]
  },
  {
   "cell_type": "markdown",
   "metadata": {},
   "source": [
    "Positive correlation between total_deaths and total_tests"
   ]
  },
  {
   "cell_type": "code",
   "execution_count": 98,
   "metadata": {},
   "outputs": [
    {
     "data": {
      "text/plain": [
       "<matplotlib.axes._subplots.AxesSubplot at 0x270ba03ed90>"
      ]
     },
     "execution_count": 98,
     "metadata": {},
     "output_type": "execute_result"
    },
    {
     "data": {
      "image/png": "[encoded data removed]",
      "text/plain": [
       "<Figure size 504x288 with 1 Axes>"
      ]
     },
     "metadata": {
      "needs_background": "light"
     },
     "output_type": "display_data"
    }
   ],
   "source": [
    "\n",
    "plt.figure(figsize=(7,4))\n",
    "sns.scatterplot(x=df_nzl_num['new_cases'], y=df_nzl_num['total_tests'])"
   ]
  },
  {
   "cell_type": "code",
   "execution_count": 99,
   "metadata": {},
   "outputs": [
    {
     "data": {
      "text/plain": [
       "<matplotlib.axes._subplots.AxesSubplot at 0x270bb78f610>"
      ]
     },
     "execution_count": 99,
     "metadata": {},
     "output_type": "execute_result"
    },
    {
     "data": {
      "image/png": "[encoded data removed]",
      "text/plain": [
       "<Figure size 432x288 with 1 Axes>"
      ]
     },
     "metadata": {
      "needs_background": "light"
     },
     "output_type": "display_data"
    }
   ],
   "source": [
    "#new_tests_per_thousand\n",
    "#line plot \n",
    "sns.lineplot(x=df['new_tests_per_thousand'], y=df[\"hospital_beds_per_thousand\"],data=df_nzl)\n"
   ]
  },
  {
   "cell_type": "code",
   "execution_count": 101,
   "metadata": {},
   "outputs": [
    {
     "data": {
      "text/plain": [
       "<matplotlib.axes._subplots.AxesSubplot at 0x270ba015580>"
      ]
     },
     "execution_count": 101,
     "metadata": {},
     "output_type": "execute_result"
    },
    {
     "data": {
      "image/png": "[encoded data removed]",
      "text/plain": [
       "<Figure size 432x288 with 1 Axes>"
      ]
     },
     "metadata": {
      "needs_background": "light"
     },
     "output_type": "display_data"
    }
   ],
   "source": [
    "#line plot \n",
    "sns.lineplot(x='new_deaths',y='new_cases', data=df_nzl_num)"
   ]
  },
  {
   "cell_type": "code",
   "execution_count": 102,
   "metadata": {},
   "outputs": [
    {
     "data": {
      "text/plain": [
       "<matplotlib.axes._subplots.AxesSubplot at 0x270bb7b3f40>"
      ]
     },
     "execution_count": 102,
     "metadata": {},
     "output_type": "execute_result"
    },
    {
     "data": {
      "image/png": "[encoded data removed]",
      "text/plain": [
       "<Figure size 432x288 with 1 Axes>"
      ]
     },
     "metadata": {
      "needs_background": "light"
     },
     "output_type": "display_data"
    }
   ],
   "source": [
    "#line plot \n",
    "sns.lineplot(y='new_tests',x='new_cases', data=df_nzl_num)"
   ]
  },
  {
   "cell_type": "code",
   "execution_count": 104,
   "metadata": {},
   "outputs": [
    {
     "data": {
      "text/plain": [
       "<matplotlib.axes._subplots.AxesSubplot at 0x270bc42e040>"
      ]
     },
     "execution_count": 104,
     "metadata": {},
     "output_type": "execute_result"
    },
    {
     "data": {
      "image/png": "[encoded data removed]",
      "text/plain": [
       "<Figure size 1080x1080 with 2 Axes>"
      ]
     },
     "metadata": {
      "needs_background": "light"
     },
     "output_type": "display_data"
    }
   ],
   "source": [
    "\n",
    "#correlation map\n",
    "f,ax = plt.subplots(figsize=(15, 15))\n",
    "sns.heatmap(df_nzl_num.corr(), annot=True, linewidths=.8, fmt= '.1f',ax=ax)"
   ]
  },
  {
   "cell_type": "markdown",
   "metadata": {},
   "source": [
    "#age_70_older,ccardiovasc_death_rate and diabetes_prevalence are corrrelated to each  we can use one feature and drop all  other.\n",
    "#female_smokers,gdp_per_capita,hospital_beds_per_thousand,hospital_bed_per_thousand,human_development_index,life_expectancy are corelated so we can use one of them for our model develpoment and drop other feature\n",
    "#male_smokers and median_age are correlated with each other ,i have used \"median_age\"\n",
    "#new_cases and new_cases_smoothed are correlated with each other ,drop new_cases_smoothed\n",
    "#"
   ]
  },
  {
   "cell_type": "code",
   "execution_count": 110,
   "metadata": {},
   "outputs": [],
   "source": [
    "drop_list=['cardiovasc_death_rate','diabetes_prevalence','female_smokers','gdp_per_capita','male_smokers','human_development_index',\n",
    "           'population','aged_65_older','aged_70_older',\n",
    "            'population_density']"
   ]
  },
  {
   "cell_type": "code",
   "execution_count": 111,
   "metadata": {},
   "outputs": [],
   "source": [
    "df_nzl_num_cols=df_nzl_num.drop(drop_list,axis=1)\n",
    "#df_nr_1=df_nr.drop(drop_list,axis=1)"
   ]
  },
  {
   "cell_type": "code",
   "execution_count": 112,
   "metadata": {},
   "outputs": [
    {
     "name": "stdout",
     "output_type": "stream",
     "text": [
      "<class 'pandas.core.frame.DataFrame'>\n",
      "Int64Index: 290 entries, 34882 to 35171\n",
      "Data columns (total 14 columns):\n",
      " #   Column                      Non-Null Count  Dtype  \n",
      "---  ------                      --------------  -----  \n",
      " 0   hospital_beds_per_thousand  290 non-null    float64\n",
      " 1   median_age                  290 non-null    float64\n",
      " 2   new_cases                   290 non-null    float64\n",
      " 3   new_deaths                  290 non-null    float64\n",
      " 4   new_tests                   290 non-null    float64\n",
      " 5   new_tests_per_thousand      290 non-null    float64\n",
      " 6   positive_rate               290 non-null    float64\n",
      " 7   stringency_index            290 non-null    float64\n",
      " 8   tests_per_case              290 non-null    float64\n",
      " 9   total_cases                 290 non-null    float64\n",
      " 10  total_deaths                290 non-null    float64\n",
      " 11  total_tests                 290 non-null    float64\n",
      " 12  total_tests_per_thousand    290 non-null    float64\n",
      " 13  tests performed             290 non-null    uint8  \n",
      "dtypes: float64(13), uint8(1)\n",
      "memory usage: 32.0 KB\n"
     ]
    }
   ],
   "source": [
    "df_nzl_num_cols.info()"
   ]
  },
  {
   "cell_type": "code",
   "execution_count": 113,
   "metadata": {},
   "outputs": [
    {
     "data": {
      "text/plain": [
       "<matplotlib.axes._subplots.AxesSubplot at 0x270bbf74f70>"
      ]
     },
     "execution_count": 113,
     "metadata": {},
     "output_type": "execute_result"
    },
    {
     "data": {
      "image/png": "[encoded data removed]",
      "text/plain": [
       "<Figure size 720x576 with 2 Axes>"
      ]
     },
     "metadata": {
      "needs_background": "light"
     },
     "output_type": "display_data"
    }
   ],
   "source": [
    "#correlation map\n",
    "f,ax = plt.subplots(figsize=(10,8))\n",
    "sns.heatmap(df_nzl_num_cols.corr(), annot=True, linewidths=.4, fmt= '.1f',ax=ax)"
   ]
  },
  {
   "cell_type": "markdown",
   "metadata": {},
   "source": [
    "# Standardization"
   ]
  },
  {
   "cell_type": "code",
   "execution_count": 116,
   "metadata": {},
   "outputs": [],
   "source": [
    "from sklearn.preprocessing import StandardScaler\n",
    "scaler = StandardScaler() \n",
    "df_nzl_num_cols_scaled = scaler.fit_transform(df_nzl_num_cols)"
   ]
  },
  {
   "cell_type": "code",
   "execution_count": 117,
   "metadata": {},
   "outputs": [
    {
     "name": "stdout",
     "output_type": "stream",
     "text": [
      "[ 0.00000000e+00  0.00000000e+00 -1.22507368e-17 -1.22507368e-17\n",
      "  4.90029473e-17  0.00000000e+00  4.90029473e-17  2.45014736e-17\n",
      " -2.45014736e-17  0.00000000e+00  0.00000000e+00  0.00000000e+00\n",
      " -4.90029473e-17  0.00000000e+00]\n",
      "[0. 0. 1. 1. 1. 1. 1. 1. 1. 1. 1. 1. 1. 1.]\n"
     ]
    }
   ],
   "source": [
    "print(df_nzl_num_cols_scaled.mean(axis=0))\n",
    "print(df_nzl_num_cols_scaled.std(axis=0))"
   ]
  },
  {
   "cell_type": "code",
   "execution_count": null,
   "metadata": {},
   "outputs": [],
   "source": []
  }
 ],
 "metadata": {
  "kernelspec": {
   "display_name": "Python 3",
   "language": "python",
   "name": "python3"
  },
  "language_info": {
   "codemirror_mode": {
    "name": "ipython",
    "version": 3
   },
   "file_extension": ".py",
   "mimetype": "text/x-python",
   "name": "python",
   "nbconvert_exporter": "python",
   "pygments_lexer": "ipython3",
   "version": "3.8.3"
  }
 },
 "nbformat": 4,
 "nbformat_minor": 4
}
